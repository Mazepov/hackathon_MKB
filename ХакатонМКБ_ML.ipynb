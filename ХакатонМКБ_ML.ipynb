{
  "nbformat": 4,
  "nbformat_minor": 0,
  "metadata": {
    "colab": {
      "name": "ХакатонМКБ_main_final_19_11_2021.ipynb",
      "provenance": []
    },
    "kernelspec": {
      "name": "python3",
      "display_name": "Python 3"
    },
    "language_info": {
      "name": "python"
    }
  },
  "cells": [
    {
      "cell_type": "markdown",
      "metadata": {
        "id": "Mota_lm-kgod"
      },
      "source": [
        "## 1 Загружаем данные и библиотеки"
      ]
    },
    {
      "cell_type": "code",
      "metadata": {
        "id": "b_uU8zj75dAY",
        "colab": {
          "base_uri": "https://localhost:8080/"
        },
        "outputId": "39549edc-3399-4766-e265-71396d295a80"
      },
      "source": [
        "#Библиотека с github для оценки фичей (установка)\n",
        "\n",
        "!pip install git+https://github.com/WillKoehrsen/feature-selector.git"
      ],
      "execution_count": 1374,
      "outputs": [
        {
          "output_type": "stream",
          "name": "stdout",
          "text": [
            "Collecting git+https://github.com/WillKoehrsen/feature-selector.git\n",
            "  Cloning https://github.com/WillKoehrsen/feature-selector.git to /tmp/pip-req-build-_pwk00m8\n",
            "  Running command git clone -q https://github.com/WillKoehrsen/feature-selector.git /tmp/pip-req-build-_pwk00m8\n",
            "Requirement already satisfied: lightgbm>=2.1.1 in /usr/local/lib/python3.7/dist-packages (from feature-selector===N-A) (2.2.3)\n",
            "Requirement already satisfied: matplotlib>=2.1.2 in /usr/local/lib/python3.7/dist-packages (from feature-selector===N-A) (3.2.2)\n",
            "Requirement already satisfied: seaborn>=0.8.1 in /usr/local/lib/python3.7/dist-packages (from feature-selector===N-A) (0.11.2)\n",
            "Requirement already satisfied: numpy>=1.14.5 in /usr/local/lib/python3.7/dist-packages (from feature-selector===N-A) (1.19.5)\n",
            "Requirement already satisfied: pandas>=0.23.1 in /usr/local/lib/python3.7/dist-packages (from feature-selector===N-A) (1.1.5)\n",
            "Requirement already satisfied: scikit-learn>=0.19.1 in /usr/local/lib/python3.7/dist-packages (from feature-selector===N-A) (1.0.1)\n",
            "Requirement already satisfied: scipy in /usr/local/lib/python3.7/dist-packages (from lightgbm>=2.1.1->feature-selector===N-A) (1.4.1)\n",
            "Requirement already satisfied: kiwisolver>=1.0.1 in /usr/local/lib/python3.7/dist-packages (from matplotlib>=2.1.2->feature-selector===N-A) (1.3.2)\n",
            "Requirement already satisfied: python-dateutil>=2.1 in /usr/local/lib/python3.7/dist-packages (from matplotlib>=2.1.2->feature-selector===N-A) (2.8.2)\n",
            "Requirement already satisfied: pyparsing!=2.0.4,!=2.1.2,!=2.1.6,>=2.0.1 in /usr/local/lib/python3.7/dist-packages (from matplotlib>=2.1.2->feature-selector===N-A) (2.4.7)\n",
            "Requirement already satisfied: cycler>=0.10 in /usr/local/lib/python3.7/dist-packages (from matplotlib>=2.1.2->feature-selector===N-A) (0.11.0)\n",
            "Requirement already satisfied: pytz>=2017.2 in /usr/local/lib/python3.7/dist-packages (from pandas>=0.23.1->feature-selector===N-A) (2018.9)\n",
            "Requirement already satisfied: six>=1.5 in /usr/local/lib/python3.7/dist-packages (from python-dateutil>=2.1->matplotlib>=2.1.2->feature-selector===N-A) (1.15.0)\n",
            "Requirement already satisfied: threadpoolctl>=2.0.0 in /usr/local/lib/python3.7/dist-packages (from scikit-learn>=0.19.1->feature-selector===N-A) (3.0.0)\n",
            "Requirement already satisfied: joblib>=0.11 in /usr/local/lib/python3.7/dist-packages (from scikit-learn>=0.19.1->feature-selector===N-A) (1.1.0)\n"
          ]
        }
      ]
    },
    {
      "cell_type": "code",
      "metadata": {
        "id": "_98n56O04a1Q"
      },
      "source": [
        "#Библиотека с github для оценки фичей (импорт)\n",
        "\n",
        "from feature_selector import FeatureSelector"
      ],
      "execution_count": 1375,
      "outputs": []
    },
    {
      "cell_type": "code",
      "metadata": {
        "id": "KDb13TikkhIj"
      },
      "source": [
        "import pandas as pd\n",
        "import numpy as np\n",
        "import matplotlib.pyplot as plt\n",
        "import seaborn as sns\n",
        "import datetime as dt"
      ],
      "execution_count": 1376,
      "outputs": []
    },
    {
      "cell_type": "code",
      "metadata": {
        "id": "M6fDPkcGk3Z9"
      },
      "source": [
        "#Загружаем данные\n",
        "df_main = pd.read_csv('train_dataset_hackathon_mkb.csv', encoding='cp1251', sep=';')\n",
        "X_test = pd.read_csv('test_dataset_hackathon_mkb.csv', encoding='cp1251', sep=';')\n",
        "\n",
        "descrip = pd.read_excel('data_description.xlsx')"
      ],
      "execution_count": 1377,
      "outputs": []
    },
    {
      "cell_type": "markdown",
      "metadata": {
        "id": "ry4ptyW6HtU2"
      },
      "source": [
        "Сразу отредактируем main и X_test датасеты"
      ]
    },
    {
      "cell_type": "markdown",
      "metadata": {
        "id": "u3BBqWmwH19V"
      },
      "source": [
        "###1.1 Проверим уникальность клиентов"
      ]
    },
    {
      "cell_type": "markdown",
      "metadata": {
        "id": "ME7dAPCFTfJh"
      },
      "source": [
        "#### 1.1.1 Train"
      ]
    },
    {
      "cell_type": "code",
      "metadata": {
        "id": "7G8OZ0-wkRV5"
      },
      "source": [
        "#Переведём дату регистрации в формат месяц-год\n",
        "\n",
        "df_main['SIGN_DATE'] = pd.to_datetime(df_main['SIGN_DATE'], format='%d%b%Y:%H:%M:%S')\n",
        "df_main['SIGN_DATE'] = df_main['SIGN_DATE'].apply(lambda x: x.strftime('%B-%Y'))\n",
        "\n",
        "X_test['SIGN_DATE'] = pd.to_datetime(X_test['SIGN_DATE'], format='%d%b%Y:%H:%M:%S')\n",
        "X_test['SIGN_DATE'] = X_test['SIGN_DATE'].apply(lambda x: x.strftime('%B-%Y'))"
      ],
      "execution_count": 1378,
      "outputs": []
    },
    {
      "cell_type": "code",
      "metadata": {
        "id": "IME1oBaWx96C"
      },
      "source": [
        "client_enters_train = pd.DataFrame()\n",
        "client_enters_train['client_enters'] = df_main.groupby('id_client').count()['SIGN_DATE'].sort_values(ascending=False)"
      ],
      "execution_count": 1379,
      "outputs": []
    },
    {
      "cell_type": "code",
      "metadata": {
        "id": "lm11d4YChbuc"
      },
      "source": [
        "#Добавим новый признак по количеству вхождений клиента\n",
        "\n",
        "df_main = df_main.merge(client_enters_train, on='id_client', how='left')"
      ],
      "execution_count": 1380,
      "outputs": []
    },
    {
      "cell_type": "code",
      "metadata": {
        "id": "UA5phWkgtW8I"
      },
      "source": [
        "#Фичи для проверки уникальности\n",
        "\n",
        "index_dupl = df_main.iloc[1, 2:].index.to_list()"
      ],
      "execution_count": 1381,
      "outputs": []
    },
    {
      "cell_type": "code",
      "metadata": {
        "id": "756bJD3MiLgC"
      },
      "source": [
        "index_dupl.append('id_client')"
      ],
      "execution_count": 1382,
      "outputs": []
    },
    {
      "cell_type": "code",
      "metadata": {
        "id": "DVU2VFjwtpYB"
      },
      "source": [
        "#Убираем все повторяющиеся строки\n",
        "\n",
        "df_main = df_main.drop_duplicates(index_dupl, keep='first')"
      ],
      "execution_count": 1383,
      "outputs": []
    },
    {
      "cell_type": "code",
      "metadata": {
        "colab": {
          "base_uri": "https://localhost:8080/"
        },
        "id": "ycF9AGylHsf3",
        "outputId": "33f555ed-693f-4180-e763-ffbea5bb874c"
      },
      "source": [
        "#Уникальные клиенты\n",
        "\n",
        "len(pd.unique(df_main.id_client))"
      ],
      "execution_count": 1384,
      "outputs": [
        {
          "output_type": "execute_result",
          "data": {
            "text/plain": [
              "8922"
            ]
          },
          "metadata": {},
          "execution_count": 1384
        }
      ]
    },
    {
      "cell_type": "code",
      "metadata": {
        "colab": {
          "base_uri": "https://localhost:8080/",
          "height": 455
        },
        "id": "mxzBciWuHsjH",
        "outputId": "b2b39371-8c7a-42d3-fb9c-4833783794ab"
      },
      "source": [
        "client_enters_train_new = pd.DataFrame()\n",
        "client_enters_train_new['client_enters'] = df_main.groupby('id_client').count()['SIGN_DATE'].sort_values(ascending=False)\n",
        "client_enters_train_new"
      ],
      "execution_count": 1385,
      "outputs": [
        {
          "output_type": "execute_result",
          "data": {
            "text/html": [
              "<div>\n",
              "<style scoped>\n",
              "    .dataframe tbody tr th:only-of-type {\n",
              "        vertical-align: middle;\n",
              "    }\n",
              "\n",
              "    .dataframe tbody tr th {\n",
              "        vertical-align: top;\n",
              "    }\n",
              "\n",
              "    .dataframe thead th {\n",
              "        text-align: right;\n",
              "    }\n",
              "</style>\n",
              "<table border=\"1\" class=\"dataframe\">\n",
              "  <thead>\n",
              "    <tr style=\"text-align: right;\">\n",
              "      <th></th>\n",
              "      <th>client_enters</th>\n",
              "    </tr>\n",
              "    <tr>\n",
              "      <th>id_client</th>\n",
              "      <th></th>\n",
              "    </tr>\n",
              "  </thead>\n",
              "  <tbody>\n",
              "    <tr>\n",
              "      <th>10845</th>\n",
              "      <td>26</td>\n",
              "    </tr>\n",
              "    <tr>\n",
              "      <th>10399</th>\n",
              "      <td>23</td>\n",
              "    </tr>\n",
              "    <tr>\n",
              "      <th>11257</th>\n",
              "      <td>20</td>\n",
              "    </tr>\n",
              "    <tr>\n",
              "      <th>10092</th>\n",
              "      <td>18</td>\n",
              "    </tr>\n",
              "    <tr>\n",
              "      <th>10714</th>\n",
              "      <td>17</td>\n",
              "    </tr>\n",
              "    <tr>\n",
              "      <th>...</th>\n",
              "      <td>...</td>\n",
              "    </tr>\n",
              "    <tr>\n",
              "      <th>8073</th>\n",
              "      <td>1</td>\n",
              "    </tr>\n",
              "    <tr>\n",
              "      <th>8074</th>\n",
              "      <td>1</td>\n",
              "    </tr>\n",
              "    <tr>\n",
              "      <th>8075</th>\n",
              "      <td>1</td>\n",
              "    </tr>\n",
              "    <tr>\n",
              "      <th>8076</th>\n",
              "      <td>1</td>\n",
              "    </tr>\n",
              "    <tr>\n",
              "      <th>1</th>\n",
              "      <td>1</td>\n",
              "    </tr>\n",
              "  </tbody>\n",
              "</table>\n",
              "<p>8922 rows × 1 columns</p>\n",
              "</div>"
            ],
            "text/plain": [
              "           client_enters\n",
              "id_client               \n",
              "10845                 26\n",
              "10399                 23\n",
              "11257                 20\n",
              "10092                 18\n",
              "10714                 17\n",
              "...                  ...\n",
              "8073                   1\n",
              "8074                   1\n",
              "8075                   1\n",
              "8076                   1\n",
              "1                      1\n",
              "\n",
              "[8922 rows x 1 columns]"
            ]
          },
          "metadata": {},
          "execution_count": 1385
        }
      ]
    },
    {
      "cell_type": "markdown",
      "metadata": {
        "id": "4o_VWW10IeTG"
      },
      "source": [
        "Убираем большое количество повторяющихся элементов. Оставшееся элементы повторяющиеся по id_client являются уникальными."
      ]
    },
    {
      "cell_type": "code",
      "metadata": {
        "id": "MOwSAQOoIfam"
      },
      "source": [
        "#Сбрасываем индексы\n",
        "df_main = df_main.reset_index()"
      ],
      "execution_count": 1386,
      "outputs": []
    },
    {
      "cell_type": "markdown",
      "metadata": {
        "id": "5MS6sG4iSW-p"
      },
      "source": [
        "#### 1.1.2 test"
      ]
    },
    {
      "cell_type": "code",
      "metadata": {
        "id": "V-HQbbmByGEJ"
      },
      "source": [
        "client_enters_test = pd.DataFrame()\n",
        "client_enters_test['client_enters'] = X_test.groupby('id_client').count()['SIGN_DATE'].sort_values(ascending=False)"
      ],
      "execution_count": 1387,
      "outputs": []
    },
    {
      "cell_type": "code",
      "metadata": {
        "id": "PaXBamhrh16i"
      },
      "source": [
        "#Добавим новый признак по количеству вхождений клиента\n",
        "\n",
        "X_test = X_test.merge(client_enters_test, on='id_client', how='left')"
      ],
      "execution_count": 1388,
      "outputs": []
    },
    {
      "cell_type": "code",
      "metadata": {
        "id": "HpRJFDmuyqDq"
      },
      "source": [
        "# del index_dupl[2]"
      ],
      "execution_count": 1389,
      "outputs": []
    },
    {
      "cell_type": "code",
      "metadata": {
        "id": "pHlYLKteyJEi"
      },
      "source": [
        "#Убираем все повторяющиеся строки\n",
        "\n",
        "# X_test = X_test.drop_duplicates(index_dupl, keep='first')"
      ],
      "execution_count": 1390,
      "outputs": []
    },
    {
      "cell_type": "code",
      "metadata": {
        "id": "Yi4NN4D2R-TB"
      },
      "source": [
        "# len(pd.unique(X_test.id_client))"
      ],
      "execution_count": 1391,
      "outputs": []
    },
    {
      "cell_type": "code",
      "metadata": {
        "id": "kU8WgsbrT9L4"
      },
      "source": [
        "# client_enters_test_new = pd.DataFrame()\n",
        "# client_enters_test_new['client_enters'] = X_test.groupby('id_client').count()['SIGN_DATE'].sort_values(ascending=False)\n",
        "# client_enters_test_new"
      ],
      "execution_count": 1392,
      "outputs": []
    },
    {
      "cell_type": "markdown",
      "metadata": {
        "id": "CiR_ssumZZLq"
      },
      "source": [
        "Имеется большое количество повторяющихся клиентов, которые имееют одинаковый набор признаков. В таком случае удаляем все повторяющиеся элементы."
      ]
    },
    {
      "cell_type": "code",
      "metadata": {
        "id": "yEA7SlwdT9Rm"
      },
      "source": [
        "# #Сбрасываем индексы\n",
        "# X_test = X_test.reset_index()"
      ],
      "execution_count": 1393,
      "outputs": []
    },
    {
      "cell_type": "code",
      "metadata": {
        "id": "LahwsKcoGWGk"
      },
      "source": [
        "#Удалим столбец index из X\n",
        "\n",
        "df_main = df_main.drop('index', axis=1)\n",
        "# X_test = X_test.drop('index', axis=1)"
      ],
      "execution_count": 1394,
      "outputs": []
    },
    {
      "cell_type": "markdown",
      "metadata": {
        "id": "-wE9c2I1WiOC"
      },
      "source": [
        "### 1.2 Найдём неинформативные признаки (mute)"
      ]
    },
    {
      "cell_type": "code",
      "metadata": {
        "id": "PGpf0eM-Whjb"
      },
      "source": [
        "# #Создадим список с высоким процентным содержанием неинформативных данных\n",
        "\n",
        "# num_rows = len(df_main.index)\n",
        "# low_information_cols = [] #\n",
        "\n",
        "# for col in df_main.columns:\n",
        "#     cnts = df_main[col].value_counts(dropna=False)\n",
        "#     top_pct = (cnts/num_rows).iloc[0]\n",
        "    \n",
        "#     if top_pct > 0.94:\n",
        "#         low_information_cols.append(col)\n",
        "#         print('{0}: {1:.5f}%'.format(col, top_pct*100))\n",
        "#         print(cnts.iloc[:1], '\\n')"
      ],
      "execution_count": 1395,
      "outputs": []
    },
    {
      "cell_type": "markdown",
      "metadata": {
        "id": "-ia9v3TEYair"
      },
      "source": [
        "Во всех случаях большенство занимает одно и тоже пропущенное значение. Я считаю, что эти значения не несут никакой полезной информации и будут удалены из train и из test."
      ]
    },
    {
      "cell_type": "code",
      "metadata": {
        "id": "_UIqYfFbY8GE"
      },
      "source": [
        "# num_rows_test = len(X_test.index)\n",
        "# low_information_cols_test = []\n",
        "\n",
        "# for col in X_test.columns:\n",
        "#     cnts = X_test[col].value_counts(dropna=False)\n",
        "#     top_pct = (cnts/num_rows_test).iloc[0]\n",
        "    \n",
        "#     if top_pct > 0.94:\n",
        "#         low_information_cols_test.append(col)"
      ],
      "execution_count": 1396,
      "outputs": []
    },
    {
      "cell_type": "code",
      "metadata": {
        "id": "eYFwKMIsZxH1"
      },
      "source": [
        "# df_main = df_main.drop(low_information_cols, axis=1)\n",
        "# X_test = X_test.drop(low_information_cols, axis=1)"
      ],
      "execution_count": 1397,
      "outputs": []
    },
    {
      "cell_type": "markdown",
      "metadata": {
        "id": "H8oDHEU9sYq-"
      },
      "source": [
        "### 1.3 Удалим ненужные признаки (mute)"
      ]
    },
    {
      "cell_type": "markdown",
      "metadata": {
        "id": "sa8nyujTsmPd"
      },
      "source": [
        "Многие признаки коррелируют между собой. В Этом разделе удалим признаки которые показывают действия клиента за последний год и оставим только за весь период."
      ]
    },
    {
      "cell_type": "code",
      "metadata": {
        "id": "CNm0OmkxsYxp"
      },
      "source": [
        "# del_columns_year = list(descrip.iloc[[87, 88, 89, 90, 91, 97, 98, 99, 100, 101, 107, 108, 109, 110, 111], 0])"
      ],
      "execution_count": 1398,
      "outputs": []
    },
    {
      "cell_type": "code",
      "metadata": {
        "id": "GqfoGfz_szQ9"
      },
      "source": [
        "# df_main = df_main.drop(del_columns_year, axis=1)\n",
        "# X_test = X_test.drop(del_columns_year, axis=1)"
      ],
      "execution_count": 1399,
      "outputs": []
    },
    {
      "cell_type": "markdown",
      "metadata": {
        "id": "d67qWD38Iget"
      },
      "source": [
        "### 1.4 Делим датасет на основной (X) и Target (y)"
      ]
    },
    {
      "cell_type": "code",
      "metadata": {
        "id": "-odghDuYk3c7"
      },
      "source": [
        "#Отделяем целевой признак от основного датасета\n",
        "y = df_main.TARGET\n",
        "X = df_main.drop('TARGET', axis=1)"
      ],
      "execution_count": 1400,
      "outputs": []
    },
    {
      "cell_type": "code",
      "metadata": {
        "colab": {
          "base_uri": "https://localhost:8080/",
          "height": 0
        },
        "id": "wSqozPa49poJ",
        "outputId": "cacbe18d-c610-4f17-8a16-409e330bc437"
      },
      "source": [
        "#Общий вид датасета\n",
        "\n",
        "X.head(5)"
      ],
      "execution_count": 1401,
      "outputs": [
        {
          "output_type": "execute_result",
          "data": {
            "text/html": [
              "<div>\n",
              "<style scoped>\n",
              "    .dataframe tbody tr th:only-of-type {\n",
              "        vertical-align: middle;\n",
              "    }\n",
              "\n",
              "    .dataframe tbody tr th {\n",
              "        vertical-align: top;\n",
              "    }\n",
              "\n",
              "    .dataframe thead th {\n",
              "        text-align: right;\n",
              "    }\n",
              "</style>\n",
              "<table border=\"1\" class=\"dataframe\">\n",
              "  <thead>\n",
              "    <tr style=\"text-align: right;\">\n",
              "      <th></th>\n",
              "      <th>id_contract</th>\n",
              "      <th>id_client</th>\n",
              "      <th>SIGN_DATE</th>\n",
              "      <th>IP_flag</th>\n",
              "      <th>F1100</th>\n",
              "      <th>F1110</th>\n",
              "      <th>F1150</th>\n",
              "      <th>F1160</th>\n",
              "      <th>F1170</th>\n",
              "      <th>F1180</th>\n",
              "      <th>F1190</th>\n",
              "      <th>F1200</th>\n",
              "      <th>F1210</th>\n",
              "      <th>F1220</th>\n",
              "      <th>F1230</th>\n",
              "      <th>F1240</th>\n",
              "      <th>F1250</th>\n",
              "      <th>F1260</th>\n",
              "      <th>F1300</th>\n",
              "      <th>F1310</th>\n",
              "      <th>F1320</th>\n",
              "      <th>F1350</th>\n",
              "      <th>F1360</th>\n",
              "      <th>F1370</th>\n",
              "      <th>F1400</th>\n",
              "      <th>F1410</th>\n",
              "      <th>F1420</th>\n",
              "      <th>F1450</th>\n",
              "      <th>F1500</th>\n",
              "      <th>F1510</th>\n",
              "      <th>F1520</th>\n",
              "      <th>F1530</th>\n",
              "      <th>F1550</th>\n",
              "      <th>F1600</th>\n",
              "      <th>F1700</th>\n",
              "      <th>F2100</th>\n",
              "      <th>F2110</th>\n",
              "      <th>F2120</th>\n",
              "      <th>F2200</th>\n",
              "      <th>F2210</th>\n",
              "      <th>...</th>\n",
              "      <th>MANAGERINNCOUNT</th>\n",
              "      <th>OKVED_CODE</th>\n",
              "      <th>PLAINTIFF_CASESNUMBER_YEAR</th>\n",
              "      <th>PLAINTIFF_SUM_YEAR</th>\n",
              "      <th>DEFENDANT_CASESNUMBER_YEAR</th>\n",
              "      <th>DEFENDANT_SUM_YEAR</th>\n",
              "      <th>THIRDOROTHERPERSON_YEAR</th>\n",
              "      <th>PLAINTIFF_CASESNUMBER_EVER</th>\n",
              "      <th>PLAINTIFF_SUM_EVER</th>\n",
              "      <th>DEFENDANT_CASESNUMBER_EVER</th>\n",
              "      <th>DEFENDANT_SUM_EVER</th>\n",
              "      <th>THIRDOROTHERPERSON_EVER</th>\n",
              "      <th>ADMITTEDNUMBER_233_YEAR</th>\n",
              "      <th>NOTADMITTEDNUMBER_233_YEAR</th>\n",
              "      <th>WINNERNUMBER_233_YEAR</th>\n",
              "      <th>SIGNEDNUMBER_233_YEAR</th>\n",
              "      <th>SUM_233_YEAR</th>\n",
              "      <th>ADMITTEDNUMBER_233_EVER</th>\n",
              "      <th>NOTADMITTEDNUMBER_233_EVER</th>\n",
              "      <th>WINNERNUMBER_233_EVER</th>\n",
              "      <th>SIGNEDNUMBER_233_EVER</th>\n",
              "      <th>SUM_233_EVER</th>\n",
              "      <th>ADMITTEDNUMBER_95_YEAR</th>\n",
              "      <th>NOTADMITTEDNUMBER_95_YEAR</th>\n",
              "      <th>WINNERNUMBER_95_YEAR</th>\n",
              "      <th>SIGNEDNUMBER_95_YEAR</th>\n",
              "      <th>SUM_95_YEAR</th>\n",
              "      <th>ADMITTEDNUMBER_95_EVER</th>\n",
              "      <th>NOTADMITTEDNUMBER_EVER</th>\n",
              "      <th>WINNERNUMBER_95_EVER</th>\n",
              "      <th>SIGNEDNUMBER_95_EVER</th>\n",
              "      <th>SUM_95_EVER</th>\n",
              "      <th>FLAG_DISQUALIFICATION</th>\n",
              "      <th>COUNT_CHANGE_YEAR</th>\n",
              "      <th>COUNT_CHANGE_EVER</th>\n",
              "      <th>BIRTHDATE</th>\n",
              "      <th>AGE</th>\n",
              "      <th>SEX_NAME</th>\n",
              "      <th>CITIZENSHIP_NAME</th>\n",
              "      <th>client_enters</th>\n",
              "    </tr>\n",
              "  </thead>\n",
              "  <tbody>\n",
              "    <tr>\n",
              "      <th>0</th>\n",
              "      <td>1</td>\n",
              "      <td>1847</td>\n",
              "      <td>January-2018</td>\n",
              "      <td>0</td>\n",
              "      <td>1.298961e+09</td>\n",
              "      <td>2154000.0</td>\n",
              "      <td>1.125573e+09</td>\n",
              "      <td>NaN</td>\n",
              "      <td>150010000.0</td>\n",
              "      <td>NaN</td>\n",
              "      <td>21224000.0</td>\n",
              "      <td>1.048287e+10</td>\n",
              "      <td>105901000.0</td>\n",
              "      <td>127510000.0</td>\n",
              "      <td>9.477348e+09</td>\n",
              "      <td>440671000.0</td>\n",
              "      <td>3.312980e+08</td>\n",
              "      <td>138000.0</td>\n",
              "      <td>1.960896e+09</td>\n",
              "      <td>1.000700e+07</td>\n",
              "      <td>-46634000.0</td>\n",
              "      <td>599497000.0</td>\n",
              "      <td>500000.0</td>\n",
              "      <td>1.028878e+09</td>\n",
              "      <td>340135000.0</td>\n",
              "      <td>NaN</td>\n",
              "      <td>340135000.0</td>\n",
              "      <td>NaN</td>\n",
              "      <td>9.480796e+09</td>\n",
              "      <td>2.499973e+09</td>\n",
              "      <td>6.907960e+09</td>\n",
              "      <td>NaN</td>\n",
              "      <td>NaN</td>\n",
              "      <td>1.178183e+10</td>\n",
              "      <td>1.178183e+10</td>\n",
              "      <td>2.370882e+09</td>\n",
              "      <td>5.294104e+10</td>\n",
              "      <td>5.057016e+10</td>\n",
              "      <td>631752000.0</td>\n",
              "      <td>1.083075e+09</td>\n",
              "      <td>...</td>\n",
              "      <td>0.0</td>\n",
              "      <td>35.14</td>\n",
              "      <td>NaN</td>\n",
              "      <td>NaN</td>\n",
              "      <td>NaN</td>\n",
              "      <td>NaN</td>\n",
              "      <td>NaN</td>\n",
              "      <td>NaN</td>\n",
              "      <td>NaN</td>\n",
              "      <td>NaN</td>\n",
              "      <td>NaN</td>\n",
              "      <td>NaN</td>\n",
              "      <td>NaN</td>\n",
              "      <td>NaN</td>\n",
              "      <td>NaN</td>\n",
              "      <td>NaN</td>\n",
              "      <td>NaN</td>\n",
              "      <td>NaN</td>\n",
              "      <td>NaN</td>\n",
              "      <td>NaN</td>\n",
              "      <td>NaN</td>\n",
              "      <td>NaN</td>\n",
              "      <td>NaN</td>\n",
              "      <td>NaN</td>\n",
              "      <td>NaN</td>\n",
              "      <td>NaN</td>\n",
              "      <td>NaN</td>\n",
              "      <td>NaN</td>\n",
              "      <td>NaN</td>\n",
              "      <td>NaN</td>\n",
              "      <td>NaN</td>\n",
              "      <td>NaN</td>\n",
              "      <td>NaN</td>\n",
              "      <td>NaN</td>\n",
              "      <td>NaN</td>\n",
              "      <td>NaN</td>\n",
              "      <td>NaN</td>\n",
              "      <td>NaN</td>\n",
              "      <td>NaN</td>\n",
              "      <td>17</td>\n",
              "    </tr>\n",
              "    <tr>\n",
              "      <th>1</th>\n",
              "      <td>2</td>\n",
              "      <td>4650</td>\n",
              "      <td>January-2018</td>\n",
              "      <td>1</td>\n",
              "      <td>NaN</td>\n",
              "      <td>NaN</td>\n",
              "      <td>NaN</td>\n",
              "      <td>NaN</td>\n",
              "      <td>NaN</td>\n",
              "      <td>NaN</td>\n",
              "      <td>NaN</td>\n",
              "      <td>NaN</td>\n",
              "      <td>NaN</td>\n",
              "      <td>NaN</td>\n",
              "      <td>NaN</td>\n",
              "      <td>NaN</td>\n",
              "      <td>NaN</td>\n",
              "      <td>NaN</td>\n",
              "      <td>NaN</td>\n",
              "      <td>NaN</td>\n",
              "      <td>NaN</td>\n",
              "      <td>NaN</td>\n",
              "      <td>NaN</td>\n",
              "      <td>NaN</td>\n",
              "      <td>NaN</td>\n",
              "      <td>NaN</td>\n",
              "      <td>NaN</td>\n",
              "      <td>NaN</td>\n",
              "      <td>NaN</td>\n",
              "      <td>NaN</td>\n",
              "      <td>NaN</td>\n",
              "      <td>NaN</td>\n",
              "      <td>NaN</td>\n",
              "      <td>NaN</td>\n",
              "      <td>NaN</td>\n",
              "      <td>NaN</td>\n",
              "      <td>NaN</td>\n",
              "      <td>NaN</td>\n",
              "      <td>NaN</td>\n",
              "      <td>NaN</td>\n",
              "      <td>...</td>\n",
              "      <td>NaN</td>\n",
              "      <td>NaN</td>\n",
              "      <td>NaN</td>\n",
              "      <td>NaN</td>\n",
              "      <td>NaN</td>\n",
              "      <td>NaN</td>\n",
              "      <td>NaN</td>\n",
              "      <td>NaN</td>\n",
              "      <td>NaN</td>\n",
              "      <td>NaN</td>\n",
              "      <td>NaN</td>\n",
              "      <td>NaN</td>\n",
              "      <td>NaN</td>\n",
              "      <td>NaN</td>\n",
              "      <td>NaN</td>\n",
              "      <td>NaN</td>\n",
              "      <td>NaN</td>\n",
              "      <td>NaN</td>\n",
              "      <td>NaN</td>\n",
              "      <td>NaN</td>\n",
              "      <td>NaN</td>\n",
              "      <td>NaN</td>\n",
              "      <td>NaN</td>\n",
              "      <td>NaN</td>\n",
              "      <td>NaN</td>\n",
              "      <td>NaN</td>\n",
              "      <td>NaN</td>\n",
              "      <td>NaN</td>\n",
              "      <td>NaN</td>\n",
              "      <td>NaN</td>\n",
              "      <td>NaN</td>\n",
              "      <td>NaN</td>\n",
              "      <td>NaN</td>\n",
              "      <td>NaN</td>\n",
              "      <td>NaN</td>\n",
              "      <td>NaN</td>\n",
              "      <td>NaN</td>\n",
              "      <td>NaN</td>\n",
              "      <td>NaN</td>\n",
              "      <td>1</td>\n",
              "    </tr>\n",
              "    <tr>\n",
              "      <th>2</th>\n",
              "      <td>3</td>\n",
              "      <td>4770</td>\n",
              "      <td>January-2018</td>\n",
              "      <td>0</td>\n",
              "      <td>7.337400e+07</td>\n",
              "      <td>NaN</td>\n",
              "      <td>7.337400e+07</td>\n",
              "      <td>NaN</td>\n",
              "      <td>NaN</td>\n",
              "      <td>NaN</td>\n",
              "      <td>NaN</td>\n",
              "      <td>2.161000e+07</td>\n",
              "      <td>2378000.0</td>\n",
              "      <td>NaN</td>\n",
              "      <td>1.764200e+07</td>\n",
              "      <td>1000000.0</td>\n",
              "      <td>5.530000e+05</td>\n",
              "      <td>37000.0</td>\n",
              "      <td>9.073600e+07</td>\n",
              "      <td>1.000000e+05</td>\n",
              "      <td>NaN</td>\n",
              "      <td>6780000.0</td>\n",
              "      <td>NaN</td>\n",
              "      <td>8.385600e+07</td>\n",
              "      <td>NaN</td>\n",
              "      <td>NaN</td>\n",
              "      <td>NaN</td>\n",
              "      <td>NaN</td>\n",
              "      <td>4.248000e+06</td>\n",
              "      <td>NaN</td>\n",
              "      <td>4.171000e+06</td>\n",
              "      <td>77000.0</td>\n",
              "      <td>NaN</td>\n",
              "      <td>9.498400e+07</td>\n",
              "      <td>9.498400e+07</td>\n",
              "      <td>9.315000e+06</td>\n",
              "      <td>5.218400e+07</td>\n",
              "      <td>4.286900e+07</td>\n",
              "      <td>2569000.0</td>\n",
              "      <td>NaN</td>\n",
              "      <td>...</td>\n",
              "      <td>1.0</td>\n",
              "      <td>36.00.2</td>\n",
              "      <td>6.0</td>\n",
              "      <td>2762852.0</td>\n",
              "      <td>1.0</td>\n",
              "      <td>794.0</td>\n",
              "      <td>3.0</td>\n",
              "      <td>21.0</td>\n",
              "      <td>5408695.0</td>\n",
              "      <td>39.0</td>\n",
              "      <td>882647.0</td>\n",
              "      <td>4.0</td>\n",
              "      <td>1.0</td>\n",
              "      <td>0.0</td>\n",
              "      <td>1.0</td>\n",
              "      <td>1.0</td>\n",
              "      <td>1174998.0</td>\n",
              "      <td>2.0</td>\n",
              "      <td>0.0</td>\n",
              "      <td>2.0</td>\n",
              "      <td>2.0</td>\n",
              "      <td>2738217.0</td>\n",
              "      <td>38.0</td>\n",
              "      <td>0.0</td>\n",
              "      <td>38.0</td>\n",
              "      <td>39.0</td>\n",
              "      <td>4209963.0</td>\n",
              "      <td>169.0</td>\n",
              "      <td>0.0</td>\n",
              "      <td>169.0</td>\n",
              "      <td>168.0</td>\n",
              "      <td>18351739.0</td>\n",
              "      <td>NaN</td>\n",
              "      <td>NaN</td>\n",
              "      <td>1.0</td>\n",
              "      <td>NaN</td>\n",
              "      <td>NaN</td>\n",
              "      <td>NaN</td>\n",
              "      <td>NaN</td>\n",
              "      <td>2</td>\n",
              "    </tr>\n",
              "    <tr>\n",
              "      <th>3</th>\n",
              "      <td>4</td>\n",
              "      <td>12237</td>\n",
              "      <td>January-2018</td>\n",
              "      <td>0</td>\n",
              "      <td>1.937488e+09</td>\n",
              "      <td>122828000.0</td>\n",
              "      <td>6.103280e+08</td>\n",
              "      <td>NaN</td>\n",
              "      <td>809426000.0</td>\n",
              "      <td>356828000.0</td>\n",
              "      <td>38078000.0</td>\n",
              "      <td>5.786965e+09</td>\n",
              "      <td>12001000.0</td>\n",
              "      <td>71000.0</td>\n",
              "      <td>1.232486e+09</td>\n",
              "      <td>78603000.0</td>\n",
              "      <td>4.459193e+09</td>\n",
              "      <td>4611000.0</td>\n",
              "      <td>2.685905e+09</td>\n",
              "      <td>1.516514e+09</td>\n",
              "      <td>NaN</td>\n",
              "      <td>NaN</td>\n",
              "      <td>65834000.0</td>\n",
              "      <td>1.103557e+09</td>\n",
              "      <td>627253000.0</td>\n",
              "      <td>NaN</td>\n",
              "      <td>689000.0</td>\n",
              "      <td>626564000.0</td>\n",
              "      <td>4.411295e+09</td>\n",
              "      <td>3.930000e+05</td>\n",
              "      <td>3.092581e+09</td>\n",
              "      <td>NaN</td>\n",
              "      <td>NaN</td>\n",
              "      <td>7.724453e+09</td>\n",
              "      <td>7.724453e+09</td>\n",
              "      <td>1.694054e+10</td>\n",
              "      <td>4.028466e+10</td>\n",
              "      <td>2.334412e+10</td>\n",
              "      <td>931118000.0</td>\n",
              "      <td>1.600942e+10</td>\n",
              "      <td>...</td>\n",
              "      <td>1.0</td>\n",
              "      <td>35.14</td>\n",
              "      <td>NaN</td>\n",
              "      <td>NaN</td>\n",
              "      <td>NaN</td>\n",
              "      <td>NaN</td>\n",
              "      <td>NaN</td>\n",
              "      <td>NaN</td>\n",
              "      <td>NaN</td>\n",
              "      <td>NaN</td>\n",
              "      <td>NaN</td>\n",
              "      <td>NaN</td>\n",
              "      <td>NaN</td>\n",
              "      <td>NaN</td>\n",
              "      <td>NaN</td>\n",
              "      <td>NaN</td>\n",
              "      <td>NaN</td>\n",
              "      <td>NaN</td>\n",
              "      <td>NaN</td>\n",
              "      <td>NaN</td>\n",
              "      <td>NaN</td>\n",
              "      <td>NaN</td>\n",
              "      <td>NaN</td>\n",
              "      <td>NaN</td>\n",
              "      <td>NaN</td>\n",
              "      <td>NaN</td>\n",
              "      <td>NaN</td>\n",
              "      <td>NaN</td>\n",
              "      <td>NaN</td>\n",
              "      <td>NaN</td>\n",
              "      <td>NaN</td>\n",
              "      <td>NaN</td>\n",
              "      <td>NaN</td>\n",
              "      <td>NaN</td>\n",
              "      <td>NaN</td>\n",
              "      <td>NaN</td>\n",
              "      <td>NaN</td>\n",
              "      <td>NaN</td>\n",
              "      <td>NaN</td>\n",
              "      <td>13</td>\n",
              "    </tr>\n",
              "    <tr>\n",
              "      <th>4</th>\n",
              "      <td>5</td>\n",
              "      <td>9988</td>\n",
              "      <td>January-2018</td>\n",
              "      <td>1</td>\n",
              "      <td>NaN</td>\n",
              "      <td>NaN</td>\n",
              "      <td>NaN</td>\n",
              "      <td>NaN</td>\n",
              "      <td>NaN</td>\n",
              "      <td>NaN</td>\n",
              "      <td>NaN</td>\n",
              "      <td>NaN</td>\n",
              "      <td>NaN</td>\n",
              "      <td>NaN</td>\n",
              "      <td>NaN</td>\n",
              "      <td>NaN</td>\n",
              "      <td>NaN</td>\n",
              "      <td>NaN</td>\n",
              "      <td>NaN</td>\n",
              "      <td>NaN</td>\n",
              "      <td>NaN</td>\n",
              "      <td>NaN</td>\n",
              "      <td>NaN</td>\n",
              "      <td>NaN</td>\n",
              "      <td>NaN</td>\n",
              "      <td>NaN</td>\n",
              "      <td>NaN</td>\n",
              "      <td>NaN</td>\n",
              "      <td>NaN</td>\n",
              "      <td>NaN</td>\n",
              "      <td>NaN</td>\n",
              "      <td>NaN</td>\n",
              "      <td>NaN</td>\n",
              "      <td>NaN</td>\n",
              "      <td>NaN</td>\n",
              "      <td>NaN</td>\n",
              "      <td>NaN</td>\n",
              "      <td>NaN</td>\n",
              "      <td>NaN</td>\n",
              "      <td>NaN</td>\n",
              "      <td>...</td>\n",
              "      <td>NaN</td>\n",
              "      <td>NaN</td>\n",
              "      <td>NaN</td>\n",
              "      <td>NaN</td>\n",
              "      <td>NaN</td>\n",
              "      <td>NaN</td>\n",
              "      <td>NaN</td>\n",
              "      <td>NaN</td>\n",
              "      <td>NaN</td>\n",
              "      <td>NaN</td>\n",
              "      <td>NaN</td>\n",
              "      <td>NaN</td>\n",
              "      <td>NaN</td>\n",
              "      <td>NaN</td>\n",
              "      <td>NaN</td>\n",
              "      <td>NaN</td>\n",
              "      <td>NaN</td>\n",
              "      <td>NaN</td>\n",
              "      <td>NaN</td>\n",
              "      <td>NaN</td>\n",
              "      <td>NaN</td>\n",
              "      <td>NaN</td>\n",
              "      <td>NaN</td>\n",
              "      <td>NaN</td>\n",
              "      <td>NaN</td>\n",
              "      <td>NaN</td>\n",
              "      <td>NaN</td>\n",
              "      <td>NaN</td>\n",
              "      <td>NaN</td>\n",
              "      <td>NaN</td>\n",
              "      <td>NaN</td>\n",
              "      <td>NaN</td>\n",
              "      <td>NaN</td>\n",
              "      <td>NaN</td>\n",
              "      <td>NaN</td>\n",
              "      <td>NaN</td>\n",
              "      <td>NaN</td>\n",
              "      <td>NaN</td>\n",
              "      <td>NaN</td>\n",
              "      <td>1</td>\n",
              "    </tr>\n",
              "  </tbody>\n",
              "</table>\n",
              "<p>5 rows × 124 columns</p>\n",
              "</div>"
            ],
            "text/plain": [
              "   id_contract  id_client  ... CITIZENSHIP_NAME  client_enters\n",
              "0            1       1847  ...              NaN             17\n",
              "1            2       4650  ...              NaN              1\n",
              "2            3       4770  ...              NaN              2\n",
              "3            4      12237  ...              NaN             13\n",
              "4            5       9988  ...              NaN              1\n",
              "\n",
              "[5 rows x 124 columns]"
            ]
          },
          "metadata": {},
          "execution_count": 1401
        }
      ]
    },
    {
      "cell_type": "code",
      "metadata": {
        "colab": {
          "base_uri": "https://localhost:8080/",
          "height": 0
        },
        "id": "STwmZajtk3fj",
        "outputId": "d205453f-b30e-4d75-ab39-8e3b0b465ca9"
      },
      "source": [
        "#Описание признаков\n",
        "descrip.style"
      ],
      "execution_count": 1402,
      "outputs": [
        {
          "output_type": "execute_result",
          "data": {
            "text/html": [
              "<style  type=\"text/css\" >\n",
              "</style><table id=\"T_90827b46_4908_11ec_92df_0242ac1c0002\" class=\"dataframe\"><thead>    <tr>        <th class=\"blank level0\" ></th>        <th class=\"col_heading level0 col0\" >Название поля</th>        <th class=\"col_heading level0 col1\" >Описание</th>    </tr></thead><tbody>\n",
              "                <tr>\n",
              "                        <th id=\"T_90827b46_4908_11ec_92df_0242ac1c0002level0_row0\" class=\"row_heading level0 row0\" >0</th>\n",
              "                        <td id=\"T_90827b46_4908_11ec_92df_0242ac1c0002row0_col0\" class=\"data row0 col0\" >id_contract</td>\n",
              "                        <td id=\"T_90827b46_4908_11ec_92df_0242ac1c0002row0_col1\" class=\"data row0 col1\" >Идентификатор контракта</td>\n",
              "            </tr>\n",
              "            <tr>\n",
              "                        <th id=\"T_90827b46_4908_11ec_92df_0242ac1c0002level0_row1\" class=\"row_heading level0 row1\" >1</th>\n",
              "                        <td id=\"T_90827b46_4908_11ec_92df_0242ac1c0002row1_col0\" class=\"data row1 col0\" >id_client</td>\n",
              "                        <td id=\"T_90827b46_4908_11ec_92df_0242ac1c0002row1_col1\" class=\"data row1 col1\" >Идентификатор клиента</td>\n",
              "            </tr>\n",
              "            <tr>\n",
              "                        <th id=\"T_90827b46_4908_11ec_92df_0242ac1c0002level0_row2\" class=\"row_heading level0 row2\" >2</th>\n",
              "                        <td id=\"T_90827b46_4908_11ec_92df_0242ac1c0002row2_col0\" class=\"data row2 col0\" >SIGN_DATE</td>\n",
              "                        <td id=\"T_90827b46_4908_11ec_92df_0242ac1c0002row2_col1\" class=\"data row2 col1\" >Дата подписания контракта</td>\n",
              "            </tr>\n",
              "            <tr>\n",
              "                        <th id=\"T_90827b46_4908_11ec_92df_0242ac1c0002level0_row3\" class=\"row_heading level0 row3\" >3</th>\n",
              "                        <td id=\"T_90827b46_4908_11ec_92df_0242ac1c0002row3_col0\" class=\"data row3 col0\" >IP_flag</td>\n",
              "                        <td id=\"T_90827b46_4908_11ec_92df_0242ac1c0002row3_col1\" class=\"data row3 col1\" >Флаг ИП</td>\n",
              "            </tr>\n",
              "            <tr>\n",
              "                        <th id=\"T_90827b46_4908_11ec_92df_0242ac1c0002level0_row4\" class=\"row_heading level0 row4\" >4</th>\n",
              "                        <td id=\"T_90827b46_4908_11ec_92df_0242ac1c0002row4_col0\" class=\"data row4 col0\" >TARGET</td>\n",
              "                        <td id=\"T_90827b46_4908_11ec_92df_0242ac1c0002row4_col1\" class=\"data row4 col1\" >Целевая переменная - факт наличия предъявления по гарантии</td>\n",
              "            </tr>\n",
              "            <tr>\n",
              "                        <th id=\"T_90827b46_4908_11ec_92df_0242ac1c0002level0_row5\" class=\"row_heading level0 row5\" >5</th>\n",
              "                        <td id=\"T_90827b46_4908_11ec_92df_0242ac1c0002row5_col0\" class=\"data row5 col0\" >F1100</td>\n",
              "                        <td id=\"T_90827b46_4908_11ec_92df_0242ac1c0002row5_col1\" class=\"data row5 col1\" >Внеоборотные активы</td>\n",
              "            </tr>\n",
              "            <tr>\n",
              "                        <th id=\"T_90827b46_4908_11ec_92df_0242ac1c0002level0_row6\" class=\"row_heading level0 row6\" >6</th>\n",
              "                        <td id=\"T_90827b46_4908_11ec_92df_0242ac1c0002row6_col0\" class=\"data row6 col0\" >F1110</td>\n",
              "                        <td id=\"T_90827b46_4908_11ec_92df_0242ac1c0002row6_col1\" class=\"data row6 col1\" >Нематериальные активы</td>\n",
              "            </tr>\n",
              "            <tr>\n",
              "                        <th id=\"T_90827b46_4908_11ec_92df_0242ac1c0002level0_row7\" class=\"row_heading level0 row7\" >7</th>\n",
              "                        <td id=\"T_90827b46_4908_11ec_92df_0242ac1c0002row7_col0\" class=\"data row7 col0\" >F1150</td>\n",
              "                        <td id=\"T_90827b46_4908_11ec_92df_0242ac1c0002row7_col1\" class=\"data row7 col1\" >Основные средства</td>\n",
              "            </tr>\n",
              "            <tr>\n",
              "                        <th id=\"T_90827b46_4908_11ec_92df_0242ac1c0002level0_row8\" class=\"row_heading level0 row8\" >8</th>\n",
              "                        <td id=\"T_90827b46_4908_11ec_92df_0242ac1c0002row8_col0\" class=\"data row8 col0\" >F1160</td>\n",
              "                        <td id=\"T_90827b46_4908_11ec_92df_0242ac1c0002row8_col1\" class=\"data row8 col1\" >Доходные вложения в материальные ценности</td>\n",
              "            </tr>\n",
              "            <tr>\n",
              "                        <th id=\"T_90827b46_4908_11ec_92df_0242ac1c0002level0_row9\" class=\"row_heading level0 row9\" >9</th>\n",
              "                        <td id=\"T_90827b46_4908_11ec_92df_0242ac1c0002row9_col0\" class=\"data row9 col0\" >F1170</td>\n",
              "                        <td id=\"T_90827b46_4908_11ec_92df_0242ac1c0002row9_col1\" class=\"data row9 col1\" >Долгосрочные финансовые вложения</td>\n",
              "            </tr>\n",
              "            <tr>\n",
              "                        <th id=\"T_90827b46_4908_11ec_92df_0242ac1c0002level0_row10\" class=\"row_heading level0 row10\" >10</th>\n",
              "                        <td id=\"T_90827b46_4908_11ec_92df_0242ac1c0002row10_col0\" class=\"data row10 col0\" >F1180</td>\n",
              "                        <td id=\"T_90827b46_4908_11ec_92df_0242ac1c0002row10_col1\" class=\"data row10 col1\" >Отложенные налоговые активы</td>\n",
              "            </tr>\n",
              "            <tr>\n",
              "                        <th id=\"T_90827b46_4908_11ec_92df_0242ac1c0002level0_row11\" class=\"row_heading level0 row11\" >11</th>\n",
              "                        <td id=\"T_90827b46_4908_11ec_92df_0242ac1c0002row11_col0\" class=\"data row11 col0\" >F1190</td>\n",
              "                        <td id=\"T_90827b46_4908_11ec_92df_0242ac1c0002row11_col1\" class=\"data row11 col1\" >Прочие внеоборотные активы</td>\n",
              "            </tr>\n",
              "            <tr>\n",
              "                        <th id=\"T_90827b46_4908_11ec_92df_0242ac1c0002level0_row12\" class=\"row_heading level0 row12\" >12</th>\n",
              "                        <td id=\"T_90827b46_4908_11ec_92df_0242ac1c0002row12_col0\" class=\"data row12 col0\" >F1200</td>\n",
              "                        <td id=\"T_90827b46_4908_11ec_92df_0242ac1c0002row12_col1\" class=\"data row12 col1\" >Оборотные активы</td>\n",
              "            </tr>\n",
              "            <tr>\n",
              "                        <th id=\"T_90827b46_4908_11ec_92df_0242ac1c0002level0_row13\" class=\"row_heading level0 row13\" >13</th>\n",
              "                        <td id=\"T_90827b46_4908_11ec_92df_0242ac1c0002row13_col0\" class=\"data row13 col0\" >F1210</td>\n",
              "                        <td id=\"T_90827b46_4908_11ec_92df_0242ac1c0002row13_col1\" class=\"data row13 col1\" >Запасы</td>\n",
              "            </tr>\n",
              "            <tr>\n",
              "                        <th id=\"T_90827b46_4908_11ec_92df_0242ac1c0002level0_row14\" class=\"row_heading level0 row14\" >14</th>\n",
              "                        <td id=\"T_90827b46_4908_11ec_92df_0242ac1c0002row14_col0\" class=\"data row14 col0\" >F1220</td>\n",
              "                        <td id=\"T_90827b46_4908_11ec_92df_0242ac1c0002row14_col1\" class=\"data row14 col1\" >НДС по приобретенным ценностям</td>\n",
              "            </tr>\n",
              "            <tr>\n",
              "                        <th id=\"T_90827b46_4908_11ec_92df_0242ac1c0002level0_row15\" class=\"row_heading level0 row15\" >15</th>\n",
              "                        <td id=\"T_90827b46_4908_11ec_92df_0242ac1c0002row15_col0\" class=\"data row15 col0\" >F1230</td>\n",
              "                        <td id=\"T_90827b46_4908_11ec_92df_0242ac1c0002row15_col1\" class=\"data row15 col1\" >Дебиторская задолженность</td>\n",
              "            </tr>\n",
              "            <tr>\n",
              "                        <th id=\"T_90827b46_4908_11ec_92df_0242ac1c0002level0_row16\" class=\"row_heading level0 row16\" >16</th>\n",
              "                        <td id=\"T_90827b46_4908_11ec_92df_0242ac1c0002row16_col0\" class=\"data row16 col0\" >F1240</td>\n",
              "                        <td id=\"T_90827b46_4908_11ec_92df_0242ac1c0002row16_col1\" class=\"data row16 col1\" >Краткосрочные финансовые вложения</td>\n",
              "            </tr>\n",
              "            <tr>\n",
              "                        <th id=\"T_90827b46_4908_11ec_92df_0242ac1c0002level0_row17\" class=\"row_heading level0 row17\" >17</th>\n",
              "                        <td id=\"T_90827b46_4908_11ec_92df_0242ac1c0002row17_col0\" class=\"data row17 col0\" >F1250</td>\n",
              "                        <td id=\"T_90827b46_4908_11ec_92df_0242ac1c0002row17_col1\" class=\"data row17 col1\" >Дебиторская задолженность</td>\n",
              "            </tr>\n",
              "            <tr>\n",
              "                        <th id=\"T_90827b46_4908_11ec_92df_0242ac1c0002level0_row18\" class=\"row_heading level0 row18\" >18</th>\n",
              "                        <td id=\"T_90827b46_4908_11ec_92df_0242ac1c0002row18_col0\" class=\"data row18 col0\" >F1260</td>\n",
              "                        <td id=\"T_90827b46_4908_11ec_92df_0242ac1c0002row18_col1\" class=\"data row18 col1\" >Прочие оборотные активы</td>\n",
              "            </tr>\n",
              "            <tr>\n",
              "                        <th id=\"T_90827b46_4908_11ec_92df_0242ac1c0002level0_row19\" class=\"row_heading level0 row19\" >19</th>\n",
              "                        <td id=\"T_90827b46_4908_11ec_92df_0242ac1c0002row19_col0\" class=\"data row19 col0\" >F1300</td>\n",
              "                        <td id=\"T_90827b46_4908_11ec_92df_0242ac1c0002row19_col1\" class=\"data row19 col1\" >Капитал и резервы</td>\n",
              "            </tr>\n",
              "            <tr>\n",
              "                        <th id=\"T_90827b46_4908_11ec_92df_0242ac1c0002level0_row20\" class=\"row_heading level0 row20\" >20</th>\n",
              "                        <td id=\"T_90827b46_4908_11ec_92df_0242ac1c0002row20_col0\" class=\"data row20 col0\" >F1310</td>\n",
              "                        <td id=\"T_90827b46_4908_11ec_92df_0242ac1c0002row20_col1\" class=\"data row20 col1\" >Уставный капитал</td>\n",
              "            </tr>\n",
              "            <tr>\n",
              "                        <th id=\"T_90827b46_4908_11ec_92df_0242ac1c0002level0_row21\" class=\"row_heading level0 row21\" >21</th>\n",
              "                        <td id=\"T_90827b46_4908_11ec_92df_0242ac1c0002row21_col0\" class=\"data row21 col0\" >F1320</td>\n",
              "                        <td id=\"T_90827b46_4908_11ec_92df_0242ac1c0002row21_col1\" class=\"data row21 col1\" >Собственные акции, выкупленные у акционеров</td>\n",
              "            </tr>\n",
              "            <tr>\n",
              "                        <th id=\"T_90827b46_4908_11ec_92df_0242ac1c0002level0_row22\" class=\"row_heading level0 row22\" >22</th>\n",
              "                        <td id=\"T_90827b46_4908_11ec_92df_0242ac1c0002row22_col0\" class=\"data row22 col0\" >F1350</td>\n",
              "                        <td id=\"T_90827b46_4908_11ec_92df_0242ac1c0002row22_col1\" class=\"data row22 col1\" >Добавочный капитал</td>\n",
              "            </tr>\n",
              "            <tr>\n",
              "                        <th id=\"T_90827b46_4908_11ec_92df_0242ac1c0002level0_row23\" class=\"row_heading level0 row23\" >23</th>\n",
              "                        <td id=\"T_90827b46_4908_11ec_92df_0242ac1c0002row23_col0\" class=\"data row23 col0\" >F1360</td>\n",
              "                        <td id=\"T_90827b46_4908_11ec_92df_0242ac1c0002row23_col1\" class=\"data row23 col1\" >Резервный капитал</td>\n",
              "            </tr>\n",
              "            <tr>\n",
              "                        <th id=\"T_90827b46_4908_11ec_92df_0242ac1c0002level0_row24\" class=\"row_heading level0 row24\" >24</th>\n",
              "                        <td id=\"T_90827b46_4908_11ec_92df_0242ac1c0002row24_col0\" class=\"data row24 col0\" >F1370</td>\n",
              "                        <td id=\"T_90827b46_4908_11ec_92df_0242ac1c0002row24_col1\" class=\"data row24 col1\" >Нераспределенная прибыль (непокрытый убыток)</td>\n",
              "            </tr>\n",
              "            <tr>\n",
              "                        <th id=\"T_90827b46_4908_11ec_92df_0242ac1c0002level0_row25\" class=\"row_heading level0 row25\" >25</th>\n",
              "                        <td id=\"T_90827b46_4908_11ec_92df_0242ac1c0002row25_col0\" class=\"data row25 col0\" >F1400</td>\n",
              "                        <td id=\"T_90827b46_4908_11ec_92df_0242ac1c0002row25_col1\" class=\"data row25 col1\" >Долгосрочные обязательства</td>\n",
              "            </tr>\n",
              "            <tr>\n",
              "                        <th id=\"T_90827b46_4908_11ec_92df_0242ac1c0002level0_row26\" class=\"row_heading level0 row26\" >26</th>\n",
              "                        <td id=\"T_90827b46_4908_11ec_92df_0242ac1c0002row26_col0\" class=\"data row26 col0\" >F1410</td>\n",
              "                        <td id=\"T_90827b46_4908_11ec_92df_0242ac1c0002row26_col1\" class=\"data row26 col1\" >Заёмные средства (долгосрочные)</td>\n",
              "            </tr>\n",
              "            <tr>\n",
              "                        <th id=\"T_90827b46_4908_11ec_92df_0242ac1c0002level0_row27\" class=\"row_heading level0 row27\" >27</th>\n",
              "                        <td id=\"T_90827b46_4908_11ec_92df_0242ac1c0002row27_col0\" class=\"data row27 col0\" >F1420</td>\n",
              "                        <td id=\"T_90827b46_4908_11ec_92df_0242ac1c0002row27_col1\" class=\"data row27 col1\" >Отложенные налоговые обязательства</td>\n",
              "            </tr>\n",
              "            <tr>\n",
              "                        <th id=\"T_90827b46_4908_11ec_92df_0242ac1c0002level0_row28\" class=\"row_heading level0 row28\" >28</th>\n",
              "                        <td id=\"T_90827b46_4908_11ec_92df_0242ac1c0002row28_col0\" class=\"data row28 col0\" >F1450</td>\n",
              "                        <td id=\"T_90827b46_4908_11ec_92df_0242ac1c0002row28_col1\" class=\"data row28 col1\" >Прочие долгосрочные обязательства</td>\n",
              "            </tr>\n",
              "            <tr>\n",
              "                        <th id=\"T_90827b46_4908_11ec_92df_0242ac1c0002level0_row29\" class=\"row_heading level0 row29\" >29</th>\n",
              "                        <td id=\"T_90827b46_4908_11ec_92df_0242ac1c0002row29_col0\" class=\"data row29 col0\" >F1500</td>\n",
              "                        <td id=\"T_90827b46_4908_11ec_92df_0242ac1c0002row29_col1\" class=\"data row29 col1\" >Краткосрочные обязательства</td>\n",
              "            </tr>\n",
              "            <tr>\n",
              "                        <th id=\"T_90827b46_4908_11ec_92df_0242ac1c0002level0_row30\" class=\"row_heading level0 row30\" >30</th>\n",
              "                        <td id=\"T_90827b46_4908_11ec_92df_0242ac1c0002row30_col0\" class=\"data row30 col0\" >F1510</td>\n",
              "                        <td id=\"T_90827b46_4908_11ec_92df_0242ac1c0002row30_col1\" class=\"data row30 col1\" >Заёмные средства (краткосрочные)</td>\n",
              "            </tr>\n",
              "            <tr>\n",
              "                        <th id=\"T_90827b46_4908_11ec_92df_0242ac1c0002level0_row31\" class=\"row_heading level0 row31\" >31</th>\n",
              "                        <td id=\"T_90827b46_4908_11ec_92df_0242ac1c0002row31_col0\" class=\"data row31 col0\" >F1520</td>\n",
              "                        <td id=\"T_90827b46_4908_11ec_92df_0242ac1c0002row31_col1\" class=\"data row31 col1\" >Кредиторская задолженность</td>\n",
              "            </tr>\n",
              "            <tr>\n",
              "                        <th id=\"T_90827b46_4908_11ec_92df_0242ac1c0002level0_row32\" class=\"row_heading level0 row32\" >32</th>\n",
              "                        <td id=\"T_90827b46_4908_11ec_92df_0242ac1c0002row32_col0\" class=\"data row32 col0\" >F1530</td>\n",
              "                        <td id=\"T_90827b46_4908_11ec_92df_0242ac1c0002row32_col1\" class=\"data row32 col1\" >Доходы будущих периодов</td>\n",
              "            </tr>\n",
              "            <tr>\n",
              "                        <th id=\"T_90827b46_4908_11ec_92df_0242ac1c0002level0_row33\" class=\"row_heading level0 row33\" >33</th>\n",
              "                        <td id=\"T_90827b46_4908_11ec_92df_0242ac1c0002row33_col0\" class=\"data row33 col0\" >F1550</td>\n",
              "                        <td id=\"T_90827b46_4908_11ec_92df_0242ac1c0002row33_col1\" class=\"data row33 col1\" >Прочие краткосрочные обязательства</td>\n",
              "            </tr>\n",
              "            <tr>\n",
              "                        <th id=\"T_90827b46_4908_11ec_92df_0242ac1c0002level0_row34\" class=\"row_heading level0 row34\" >34</th>\n",
              "                        <td id=\"T_90827b46_4908_11ec_92df_0242ac1c0002row34_col0\" class=\"data row34 col0\" >F1600</td>\n",
              "                        <td id=\"T_90827b46_4908_11ec_92df_0242ac1c0002row34_col1\" class=\"data row34 col1\" >Активы  всего</td>\n",
              "            </tr>\n",
              "            <tr>\n",
              "                        <th id=\"T_90827b46_4908_11ec_92df_0242ac1c0002level0_row35\" class=\"row_heading level0 row35\" >35</th>\n",
              "                        <td id=\"T_90827b46_4908_11ec_92df_0242ac1c0002row35_col0\" class=\"data row35 col0\" >F1700</td>\n",
              "                        <td id=\"T_90827b46_4908_11ec_92df_0242ac1c0002row35_col1\" class=\"data row35 col1\" >Пассивы всего</td>\n",
              "            </tr>\n",
              "            <tr>\n",
              "                        <th id=\"T_90827b46_4908_11ec_92df_0242ac1c0002level0_row36\" class=\"row_heading level0 row36\" >36</th>\n",
              "                        <td id=\"T_90827b46_4908_11ec_92df_0242ac1c0002row36_col0\" class=\"data row36 col0\" >F2100</td>\n",
              "                        <td id=\"T_90827b46_4908_11ec_92df_0242ac1c0002row36_col1\" class=\"data row36 col1\" >Валовая прибыль (убыток)</td>\n",
              "            </tr>\n",
              "            <tr>\n",
              "                        <th id=\"T_90827b46_4908_11ec_92df_0242ac1c0002level0_row37\" class=\"row_heading level0 row37\" >37</th>\n",
              "                        <td id=\"T_90827b46_4908_11ec_92df_0242ac1c0002row37_col0\" class=\"data row37 col0\" >F2110</td>\n",
              "                        <td id=\"T_90827b46_4908_11ec_92df_0242ac1c0002row37_col1\" class=\"data row37 col1\" >Выручка</td>\n",
              "            </tr>\n",
              "            <tr>\n",
              "                        <th id=\"T_90827b46_4908_11ec_92df_0242ac1c0002level0_row38\" class=\"row_heading level0 row38\" >38</th>\n",
              "                        <td id=\"T_90827b46_4908_11ec_92df_0242ac1c0002row38_col0\" class=\"data row38 col0\" >F2120</td>\n",
              "                        <td id=\"T_90827b46_4908_11ec_92df_0242ac1c0002row38_col1\" class=\"data row38 col1\" >Себестоимость продаж</td>\n",
              "            </tr>\n",
              "            <tr>\n",
              "                        <th id=\"T_90827b46_4908_11ec_92df_0242ac1c0002level0_row39\" class=\"row_heading level0 row39\" >39</th>\n",
              "                        <td id=\"T_90827b46_4908_11ec_92df_0242ac1c0002row39_col0\" class=\"data row39 col0\" >F2200</td>\n",
              "                        <td id=\"T_90827b46_4908_11ec_92df_0242ac1c0002row39_col1\" class=\"data row39 col1\" >Прибыль (убыток) от продажи</td>\n",
              "            </tr>\n",
              "            <tr>\n",
              "                        <th id=\"T_90827b46_4908_11ec_92df_0242ac1c0002level0_row40\" class=\"row_heading level0 row40\" >40</th>\n",
              "                        <td id=\"T_90827b46_4908_11ec_92df_0242ac1c0002row40_col0\" class=\"data row40 col0\" >F2210</td>\n",
              "                        <td id=\"T_90827b46_4908_11ec_92df_0242ac1c0002row40_col1\" class=\"data row40 col1\" >Коммерческие расходы</td>\n",
              "            </tr>\n",
              "            <tr>\n",
              "                        <th id=\"T_90827b46_4908_11ec_92df_0242ac1c0002level0_row41\" class=\"row_heading level0 row41\" >41</th>\n",
              "                        <td id=\"T_90827b46_4908_11ec_92df_0242ac1c0002row41_col0\" class=\"data row41 col0\" >F2220</td>\n",
              "                        <td id=\"T_90827b46_4908_11ec_92df_0242ac1c0002row41_col1\" class=\"data row41 col1\" >Управленческие расходы</td>\n",
              "            </tr>\n",
              "            <tr>\n",
              "                        <th id=\"T_90827b46_4908_11ec_92df_0242ac1c0002level0_row42\" class=\"row_heading level0 row42\" >42</th>\n",
              "                        <td id=\"T_90827b46_4908_11ec_92df_0242ac1c0002row42_col0\" class=\"data row42 col0\" >F2300</td>\n",
              "                        <td id=\"T_90827b46_4908_11ec_92df_0242ac1c0002row42_col1\" class=\"data row42 col1\" >Прибыль (убыток) до налогообложения</td>\n",
              "            </tr>\n",
              "            <tr>\n",
              "                        <th id=\"T_90827b46_4908_11ec_92df_0242ac1c0002level0_row43\" class=\"row_heading level0 row43\" >43</th>\n",
              "                        <td id=\"T_90827b46_4908_11ec_92df_0242ac1c0002row43_col0\" class=\"data row43 col0\" >F2310</td>\n",
              "                        <td id=\"T_90827b46_4908_11ec_92df_0242ac1c0002row43_col1\" class=\"data row43 col1\" >Доходы от участия в других организациях</td>\n",
              "            </tr>\n",
              "            <tr>\n",
              "                        <th id=\"T_90827b46_4908_11ec_92df_0242ac1c0002level0_row44\" class=\"row_heading level0 row44\" >44</th>\n",
              "                        <td id=\"T_90827b46_4908_11ec_92df_0242ac1c0002row44_col0\" class=\"data row44 col0\" >F2320</td>\n",
              "                        <td id=\"T_90827b46_4908_11ec_92df_0242ac1c0002row44_col1\" class=\"data row44 col1\" >Проценты к получению</td>\n",
              "            </tr>\n",
              "            <tr>\n",
              "                        <th id=\"T_90827b46_4908_11ec_92df_0242ac1c0002level0_row45\" class=\"row_heading level0 row45\" >45</th>\n",
              "                        <td id=\"T_90827b46_4908_11ec_92df_0242ac1c0002row45_col0\" class=\"data row45 col0\" >F2330</td>\n",
              "                        <td id=\"T_90827b46_4908_11ec_92df_0242ac1c0002row45_col1\" class=\"data row45 col1\" >Проценты к уплате</td>\n",
              "            </tr>\n",
              "            <tr>\n",
              "                        <th id=\"T_90827b46_4908_11ec_92df_0242ac1c0002level0_row46\" class=\"row_heading level0 row46\" >46</th>\n",
              "                        <td id=\"T_90827b46_4908_11ec_92df_0242ac1c0002row46_col0\" class=\"data row46 col0\" >F2340</td>\n",
              "                        <td id=\"T_90827b46_4908_11ec_92df_0242ac1c0002row46_col1\" class=\"data row46 col1\" >Прочие доходы</td>\n",
              "            </tr>\n",
              "            <tr>\n",
              "                        <th id=\"T_90827b46_4908_11ec_92df_0242ac1c0002level0_row47\" class=\"row_heading level0 row47\" >47</th>\n",
              "                        <td id=\"T_90827b46_4908_11ec_92df_0242ac1c0002row47_col0\" class=\"data row47 col0\" >F2350</td>\n",
              "                        <td id=\"T_90827b46_4908_11ec_92df_0242ac1c0002row47_col1\" class=\"data row47 col1\" >Прочие расходы</td>\n",
              "            </tr>\n",
              "            <tr>\n",
              "                        <th id=\"T_90827b46_4908_11ec_92df_0242ac1c0002level0_row48\" class=\"row_heading level0 row48\" >48</th>\n",
              "                        <td id=\"T_90827b46_4908_11ec_92df_0242ac1c0002row48_col0\" class=\"data row48 col0\" >F2400</td>\n",
              "                        <td id=\"T_90827b46_4908_11ec_92df_0242ac1c0002row48_col1\" class=\"data row48 col1\" >Чистая прибыль (убыток)</td>\n",
              "            </tr>\n",
              "            <tr>\n",
              "                        <th id=\"T_90827b46_4908_11ec_92df_0242ac1c0002level0_row49\" class=\"row_heading level0 row49\" >49</th>\n",
              "                        <td id=\"T_90827b46_4908_11ec_92df_0242ac1c0002row49_col0\" class=\"data row49 col0\" >F2410</td>\n",
              "                        <td id=\"T_90827b46_4908_11ec_92df_0242ac1c0002row49_col1\" class=\"data row49 col1\" >Текущий налог на прибыль</td>\n",
              "            </tr>\n",
              "            <tr>\n",
              "                        <th id=\"T_90827b46_4908_11ec_92df_0242ac1c0002level0_row50\" class=\"row_heading level0 row50\" >50</th>\n",
              "                        <td id=\"T_90827b46_4908_11ec_92df_0242ac1c0002row50_col0\" class=\"data row50 col0\" >F1150_LAG1</td>\n",
              "                        <td id=\"T_90827b46_4908_11ec_92df_0242ac1c0002row50_col1\" class=\"data row50 col1\" >Основные средства (предыдущий период)</td>\n",
              "            </tr>\n",
              "            <tr>\n",
              "                        <th id=\"T_90827b46_4908_11ec_92df_0242ac1c0002level0_row51\" class=\"row_heading level0 row51\" >51</th>\n",
              "                        <td id=\"T_90827b46_4908_11ec_92df_0242ac1c0002row51_col0\" class=\"data row51 col0\" >F1230_LAG1</td>\n",
              "                        <td id=\"T_90827b46_4908_11ec_92df_0242ac1c0002row51_col1\" class=\"data row51 col1\" >Дебиторская задолженность (предыдущий период)</td>\n",
              "            </tr>\n",
              "            <tr>\n",
              "                        <th id=\"T_90827b46_4908_11ec_92df_0242ac1c0002level0_row52\" class=\"row_heading level0 row52\" >52</th>\n",
              "                        <td id=\"T_90827b46_4908_11ec_92df_0242ac1c0002row52_col0\" class=\"data row52 col0\" >F1410_LAG1</td>\n",
              "                        <td id=\"T_90827b46_4908_11ec_92df_0242ac1c0002row52_col1\" class=\"data row52 col1\" >Заёмные средства (долгосрочные) (предыдущий период)</td>\n",
              "            </tr>\n",
              "            <tr>\n",
              "                        <th id=\"T_90827b46_4908_11ec_92df_0242ac1c0002level0_row53\" class=\"row_heading level0 row53\" >53</th>\n",
              "                        <td id=\"T_90827b46_4908_11ec_92df_0242ac1c0002row53_col0\" class=\"data row53 col0\" >F1510_LAG1</td>\n",
              "                        <td id=\"T_90827b46_4908_11ec_92df_0242ac1c0002row53_col1\" class=\"data row53 col1\" >Заёмные средства (краткосрочные) (предыдущий период)</td>\n",
              "            </tr>\n",
              "            <tr>\n",
              "                        <th id=\"T_90827b46_4908_11ec_92df_0242ac1c0002level0_row54\" class=\"row_heading level0 row54\" >54</th>\n",
              "                        <td id=\"T_90827b46_4908_11ec_92df_0242ac1c0002row54_col0\" class=\"data row54 col0\" >F1520_LAG1</td>\n",
              "                        <td id=\"T_90827b46_4908_11ec_92df_0242ac1c0002row54_col1\" class=\"data row54 col1\" >Кредиторская задолженность (предыдущий период)</td>\n",
              "            </tr>\n",
              "            <tr>\n",
              "                        <th id=\"T_90827b46_4908_11ec_92df_0242ac1c0002level0_row55\" class=\"row_heading level0 row55\" >55</th>\n",
              "                        <td id=\"T_90827b46_4908_11ec_92df_0242ac1c0002row55_col0\" class=\"data row55 col0\" >F2110_LAG1</td>\n",
              "                        <td id=\"T_90827b46_4908_11ec_92df_0242ac1c0002row55_col1\" class=\"data row55 col1\" >Выручка (предыдущий период)</td>\n",
              "            </tr>\n",
              "            <tr>\n",
              "                        <th id=\"T_90827b46_4908_11ec_92df_0242ac1c0002level0_row56\" class=\"row_heading level0 row56\" >56</th>\n",
              "                        <td id=\"T_90827b46_4908_11ec_92df_0242ac1c0002row56_col0\" class=\"data row56 col0\" >F2120_LAG1</td>\n",
              "                        <td id=\"T_90827b46_4908_11ec_92df_0242ac1c0002row56_col1\" class=\"data row56 col1\" >Себестоимость продаж (предыдущий период)</td>\n",
              "            </tr>\n",
              "            <tr>\n",
              "                        <th id=\"T_90827b46_4908_11ec_92df_0242ac1c0002level0_row57\" class=\"row_heading level0 row57\" >57</th>\n",
              "                        <td id=\"T_90827b46_4908_11ec_92df_0242ac1c0002row57_col0\" class=\"data row57 col0\" >F2200_LAG1</td>\n",
              "                        <td id=\"T_90827b46_4908_11ec_92df_0242ac1c0002row57_col1\" class=\"data row57 col1\" >Прибыль (убыток) от продажи (предыдущий период)</td>\n",
              "            </tr>\n",
              "            <tr>\n",
              "                        <th id=\"T_90827b46_4908_11ec_92df_0242ac1c0002level0_row58\" class=\"row_heading level0 row58\" >58</th>\n",
              "                        <td id=\"T_90827b46_4908_11ec_92df_0242ac1c0002row58_col0\" class=\"data row58 col0\" >F2210_LAG1</td>\n",
              "                        <td id=\"T_90827b46_4908_11ec_92df_0242ac1c0002row58_col1\" class=\"data row58 col1\" >Коммерческие расходы (предыдущий период)</td>\n",
              "            </tr>\n",
              "            <tr>\n",
              "                        <th id=\"T_90827b46_4908_11ec_92df_0242ac1c0002level0_row59\" class=\"row_heading level0 row59\" >59</th>\n",
              "                        <td id=\"T_90827b46_4908_11ec_92df_0242ac1c0002row59_col0\" class=\"data row59 col0\" >F2220_LAG1</td>\n",
              "                        <td id=\"T_90827b46_4908_11ec_92df_0242ac1c0002row59_col1\" class=\"data row59 col1\" >Управленческие расходы (предыдущий период)</td>\n",
              "            </tr>\n",
              "            <tr>\n",
              "                        <th id=\"T_90827b46_4908_11ec_92df_0242ac1c0002level0_row60\" class=\"row_heading level0 row60\" >60</th>\n",
              "                        <td id=\"T_90827b46_4908_11ec_92df_0242ac1c0002row60_col0\" class=\"data row60 col0\" >F2300_LAG1</td>\n",
              "                        <td id=\"T_90827b46_4908_11ec_92df_0242ac1c0002row60_col1\" class=\"data row60 col1\" >Прибыль (убыток) до налогообложения (предыдущий период)</td>\n",
              "            </tr>\n",
              "            <tr>\n",
              "                        <th id=\"T_90827b46_4908_11ec_92df_0242ac1c0002level0_row61\" class=\"row_heading level0 row61\" >61</th>\n",
              "                        <td id=\"T_90827b46_4908_11ec_92df_0242ac1c0002row61_col0\" class=\"data row61 col0\" >F2320_LAG1</td>\n",
              "                        <td id=\"T_90827b46_4908_11ec_92df_0242ac1c0002row61_col1\" class=\"data row61 col1\" >Проценты к получению (предыдущий период)</td>\n",
              "            </tr>\n",
              "            <tr>\n",
              "                        <th id=\"T_90827b46_4908_11ec_92df_0242ac1c0002level0_row62\" class=\"row_heading level0 row62\" >62</th>\n",
              "                        <td id=\"T_90827b46_4908_11ec_92df_0242ac1c0002row62_col0\" class=\"data row62 col0\" >F2330_LAG1</td>\n",
              "                        <td id=\"T_90827b46_4908_11ec_92df_0242ac1c0002row62_col1\" class=\"data row62 col1\" >Проценты к уплате (предыдущий период)</td>\n",
              "            </tr>\n",
              "            <tr>\n",
              "                        <th id=\"T_90827b46_4908_11ec_92df_0242ac1c0002level0_row63\" class=\"row_heading level0 row63\" >63</th>\n",
              "                        <td id=\"T_90827b46_4908_11ec_92df_0242ac1c0002row63_col0\" class=\"data row63 col0\" >F2400_LAG1</td>\n",
              "                        <td id=\"T_90827b46_4908_11ec_92df_0242ac1c0002row63_col1\" class=\"data row63 col1\" >Чистая прибыль (убыток) (предыдущий период)</td>\n",
              "            </tr>\n",
              "            <tr>\n",
              "                        <th id=\"T_90827b46_4908_11ec_92df_0242ac1c0002level0_row64\" class=\"row_heading level0 row64\" >64</th>\n",
              "                        <td id=\"T_90827b46_4908_11ec_92df_0242ac1c0002row64_col0\" class=\"data row64 col0\" >EGRPOINCLUDED</td>\n",
              "                        <td id=\"T_90827b46_4908_11ec_92df_0242ac1c0002row64_col1\" class=\"data row64 col1\" >Признак включения в ЕГРПО (Росстат)</td>\n",
              "            </tr>\n",
              "            <tr>\n",
              "                        <th id=\"T_90827b46_4908_11ec_92df_0242ac1c0002level0_row65\" class=\"row_heading level0 row65\" >65</th>\n",
              "                        <td id=\"T_90827b46_4908_11ec_92df_0242ac1c0002row65_col0\" class=\"data row65 col0\" >DATEFIRSTREG</td>\n",
              "                        <td id=\"T_90827b46_4908_11ec_92df_0242ac1c0002row65_col1\" class=\"data row65 col1\" >Дата регистрации</td>\n",
              "            </tr>\n",
              "            <tr>\n",
              "                        <th id=\"T_90827b46_4908_11ec_92df_0242ac1c0002level0_row66\" class=\"row_heading level0 row66\" >66</th>\n",
              "                        <td id=\"T_90827b46_4908_11ec_92df_0242ac1c0002row66_col0\" class=\"data row66 col0\" >OKFS_GROUP</td>\n",
              "                        <td id=\"T_90827b46_4908_11ec_92df_0242ac1c0002row66_col1\" class=\"data row66 col1\" >Группа ОКФС</td>\n",
              "            </tr>\n",
              "            <tr>\n",
              "                        <th id=\"T_90827b46_4908_11ec_92df_0242ac1c0002level0_row67\" class=\"row_heading level0 row67\" >67</th>\n",
              "                        <td id=\"T_90827b46_4908_11ec_92df_0242ac1c0002row67_col0\" class=\"data row67 col0\" >OKOPF_GROUP</td>\n",
              "                        <td id=\"T_90827b46_4908_11ec_92df_0242ac1c0002row67_col1\" class=\"data row67 col1\" >Группа ОКОПФ</td>\n",
              "            </tr>\n",
              "            <tr>\n",
              "                        <th id=\"T_90827b46_4908_11ec_92df_0242ac1c0002level0_row68\" class=\"row_heading level0 row68\" >68</th>\n",
              "                        <td id=\"T_90827b46_4908_11ec_92df_0242ac1c0002row68_col0\" class=\"data row68 col0\" >OKOGU_GROUP</td>\n",
              "                        <td id=\"T_90827b46_4908_11ec_92df_0242ac1c0002row68_col1\" class=\"data row68 col1\" >Группа ОКОГУ</td>\n",
              "            </tr>\n",
              "            <tr>\n",
              "                        <th id=\"T_90827b46_4908_11ec_92df_0242ac1c0002level0_row69\" class=\"row_heading level0 row69\" >69</th>\n",
              "                        <td id=\"T_90827b46_4908_11ec_92df_0242ac1c0002row69_col0\" class=\"data row69 col0\" >OKATO_REGIONCODE</td>\n",
              "                        <td id=\"T_90827b46_4908_11ec_92df_0242ac1c0002row69_col1\" class=\"data row69 col1\" >ОКАТО. Код региона</td>\n",
              "            </tr>\n",
              "            <tr>\n",
              "                        <th id=\"T_90827b46_4908_11ec_92df_0242ac1c0002level0_row70\" class=\"row_heading level0 row70\" >70</th>\n",
              "                        <td id=\"T_90827b46_4908_11ec_92df_0242ac1c0002row70_col0\" class=\"data row70 col0\" >OKATO_FED</td>\n",
              "                        <td id=\"T_90827b46_4908_11ec_92df_0242ac1c0002row70_col1\" class=\"data row70 col1\" >Код федерального округа по ОКАТО</td>\n",
              "            </tr>\n",
              "            <tr>\n",
              "                        <th id=\"T_90827b46_4908_11ec_92df_0242ac1c0002level0_row71\" class=\"row_heading level0 row71\" >71</th>\n",
              "                        <td id=\"T_90827b46_4908_11ec_92df_0242ac1c0002row71_col0\" class=\"data row71 col0\" >OKTMO_CODE</td>\n",
              "                        <td id=\"T_90827b46_4908_11ec_92df_0242ac1c0002row71_col1\" class=\"data row71 col1\" >ОКТМО. Код</td>\n",
              "            </tr>\n",
              "            <tr>\n",
              "                        <th id=\"T_90827b46_4908_11ec_92df_0242ac1c0002level0_row72\" class=\"row_heading level0 row72\" >72</th>\n",
              "                        <td id=\"T_90827b46_4908_11ec_92df_0242ac1c0002row72_col0\" class=\"data row72 col0\" >OKTMO_FED</td>\n",
              "                        <td id=\"T_90827b46_4908_11ec_92df_0242ac1c0002row72_col1\" class=\"data row72 col1\" >Код федерального округа по ОКОТМО</td>\n",
              "            </tr>\n",
              "            <tr>\n",
              "                        <th id=\"T_90827b46_4908_11ec_92df_0242ac1c0002level0_row73\" class=\"row_heading level0 row73\" >73</th>\n",
              "                        <td id=\"T_90827b46_4908_11ec_92df_0242ac1c0002row73_col0\" class=\"data row73 col0\" >WORKERSRANGE</td>\n",
              "                        <td id=\"T_90827b46_4908_11ec_92df_0242ac1c0002row73_col1\" class=\"data row73 col1\" >Диапазон численности персонала</td>\n",
              "            </tr>\n",
              "            <tr>\n",
              "                        <th id=\"T_90827b46_4908_11ec_92df_0242ac1c0002level0_row74\" class=\"row_heading level0 row74\" >74</th>\n",
              "                        <td id=\"T_90827b46_4908_11ec_92df_0242ac1c0002row74_col0\" class=\"data row74 col0\" >TAXREG_REGDATE</td>\n",
              "                        <td id=\"T_90827b46_4908_11ec_92df_0242ac1c0002row74_col1\" class=\"data row74 col1\" >Регистрация в ФНС. Дата регистрации</td>\n",
              "            </tr>\n",
              "            <tr>\n",
              "                        <th id=\"T_90827b46_4908_11ec_92df_0242ac1c0002level0_row75\" class=\"row_heading level0 row75\" >75</th>\n",
              "                        <td id=\"T_90827b46_4908_11ec_92df_0242ac1c0002row75_col0\" class=\"data row75 col0\" >TAXREGPAY_REGDATE</td>\n",
              "                        <td id=\"T_90827b46_4908_11ec_92df_0242ac1c0002row75_col1\" class=\"data row75 col1\" >Регистрация в налоговом органе. Дата регистрации</td>\n",
              "            </tr>\n",
              "            <tr>\n",
              "                        <th id=\"T_90827b46_4908_11ec_92df_0242ac1c0002level0_row76\" class=\"row_heading level0 row76\" >76</th>\n",
              "                        <td id=\"T_90827b46_4908_11ec_92df_0242ac1c0002row76_col0\" class=\"data row76 col0\" >COUNTCOOWNERFCSM</td>\n",
              "                        <td id=\"T_90827b46_4908_11ec_92df_0242ac1c0002row76_col1\" class=\"data row76 col1\" >Структура компании. Количество совладельцев (Данные компании/ФСФР)</td>\n",
              "            </tr>\n",
              "            <tr>\n",
              "                        <th id=\"T_90827b46_4908_11ec_92df_0242ac1c0002level0_row77\" class=\"row_heading level0 row77\" >77</th>\n",
              "                        <td id=\"T_90827b46_4908_11ec_92df_0242ac1c0002row77_col0\" class=\"data row77 col0\" >COUNTCOOWNERROSSTAT</td>\n",
              "                        <td id=\"T_90827b46_4908_11ec_92df_0242ac1c0002row77_col1\" class=\"data row77 col1\" >Структура компании. Количество совладельцев (Ростат)</td>\n",
              "            </tr>\n",
              "            <tr>\n",
              "                        <th id=\"T_90827b46_4908_11ec_92df_0242ac1c0002level0_row78\" class=\"row_heading level0 row78\" >78</th>\n",
              "                        <td id=\"T_90827b46_4908_11ec_92df_0242ac1c0002row78_col0\" class=\"data row78 col0\" >COUNTCOOWNEREGRUL</td>\n",
              "                        <td id=\"T_90827b46_4908_11ec_92df_0242ac1c0002row78_col1\" class=\"data row78 col1\" >Структура компании. Количество совладельцев (ЕГРЮЛ)</td>\n",
              "            </tr>\n",
              "            <tr>\n",
              "                        <th id=\"T_90827b46_4908_11ec_92df_0242ac1c0002level0_row79\" class=\"row_heading level0 row79\" >79</th>\n",
              "                        <td id=\"T_90827b46_4908_11ec_92df_0242ac1c0002row79_col0\" class=\"data row79 col0\" >COUNTBRANCH</td>\n",
              "                        <td id=\"T_90827b46_4908_11ec_92df_0242ac1c0002row79_col1\" class=\"data row79 col1\" >Структура компании. Количество филиалов (Данные компании)</td>\n",
              "            </tr>\n",
              "            <tr>\n",
              "                        <th id=\"T_90827b46_4908_11ec_92df_0242ac1c0002level0_row80\" class=\"row_heading level0 row80\" >80</th>\n",
              "                        <td id=\"T_90827b46_4908_11ec_92df_0242ac1c0002row80_col0\" class=\"data row80 col0\" >COUNTBRANCHROSSTAT</td>\n",
              "                        <td id=\"T_90827b46_4908_11ec_92df_0242ac1c0002row80_col1\" class=\"data row80 col1\" >Структура компании. Количество филиалов (Росстат)</td>\n",
              "            </tr>\n",
              "            <tr>\n",
              "                        <th id=\"T_90827b46_4908_11ec_92df_0242ac1c0002level0_row81\" class=\"row_heading level0 row81\" >81</th>\n",
              "                        <td id=\"T_90827b46_4908_11ec_92df_0242ac1c0002row81_col0\" class=\"data row81 col0\" >COUNTBRANCHEGRUL</td>\n",
              "                        <td id=\"T_90827b46_4908_11ec_92df_0242ac1c0002row81_col1\" class=\"data row81 col1\" >Структура компании. Количество филиалов (ЕГРЮЛ)</td>\n",
              "            </tr>\n",
              "            <tr>\n",
              "                        <th id=\"T_90827b46_4908_11ec_92df_0242ac1c0002level0_row82\" class=\"row_heading level0 row82\" >82</th>\n",
              "                        <td id=\"T_90827b46_4908_11ec_92df_0242ac1c0002row82_col0\" class=\"data row82 col0\" >TELEPHONECOUNT</td>\n",
              "                        <td id=\"T_90827b46_4908_11ec_92df_0242ac1c0002row82_col1\" class=\"data row82 col1\" >Количество компаний с аналогичными телефоном</td>\n",
              "            </tr>\n",
              "            <tr>\n",
              "                        <th id=\"T_90827b46_4908_11ec_92df_0242ac1c0002level0_row83\" class=\"row_heading level0 row83\" >83</th>\n",
              "                        <td id=\"T_90827b46_4908_11ec_92df_0242ac1c0002row83_col0\" class=\"data row83 col0\" >MANAGERCOUNTINCOUNTRY</td>\n",
              "                        <td id=\"T_90827b46_4908_11ec_92df_0242ac1c0002row83_col1\" class=\"data row83 col1\" >Количество компаний с аналогичным ФИО руководителя (поиск по ФИО руководителя среди всех действующих компаний)</td>\n",
              "            </tr>\n",
              "            <tr>\n",
              "                        <th id=\"T_90827b46_4908_11ec_92df_0242ac1c0002level0_row84\" class=\"row_heading level0 row84\" >84</th>\n",
              "                        <td id=\"T_90827b46_4908_11ec_92df_0242ac1c0002row84_col0\" class=\"data row84 col0\" >MANAGERCOUNTINREGION</td>\n",
              "                        <td id=\"T_90827b46_4908_11ec_92df_0242ac1c0002row84_col1\" class=\"data row84 col1\" >Количество компаний с аналогичным ФИО руководителя (поиск по ФИО руководителя среди действующих компаний, зарегистрированных в том же регионе)</td>\n",
              "            </tr>\n",
              "            <tr>\n",
              "                        <th id=\"T_90827b46_4908_11ec_92df_0242ac1c0002level0_row85\" class=\"row_heading level0 row85\" >85</th>\n",
              "                        <td id=\"T_90827b46_4908_11ec_92df_0242ac1c0002row85_col0\" class=\"data row85 col0\" >MANAGERINNCOUNT</td>\n",
              "                        <td id=\"T_90827b46_4908_11ec_92df_0242ac1c0002row85_col1\" class=\"data row85 col1\" >Количество компаний с аналогичным ИНН руководителя (поиск по ИНН руководителя среди всех действующих компаний)</td>\n",
              "            </tr>\n",
              "            <tr>\n",
              "                        <th id=\"T_90827b46_4908_11ec_92df_0242ac1c0002level0_row86\" class=\"row_heading level0 row86\" >86</th>\n",
              "                        <td id=\"T_90827b46_4908_11ec_92df_0242ac1c0002row86_col0\" class=\"data row86 col0\" >OKVED_CODE</td>\n",
              "                        <td id=\"T_90827b46_4908_11ec_92df_0242ac1c0002row86_col1\" class=\"data row86 col1\" >ОКВЭД</td>\n",
              "            </tr>\n",
              "            <tr>\n",
              "                        <th id=\"T_90827b46_4908_11ec_92df_0242ac1c0002level0_row87\" class=\"row_heading level0 row87\" >87</th>\n",
              "                        <td id=\"T_90827b46_4908_11ec_92df_0242ac1c0002row87_col0\" class=\"data row87 col0\" >PLAINTIFF_CASESNUMBER_YEAR</td>\n",
              "                        <td id=\"T_90827b46_4908_11ec_92df_0242ac1c0002row87_col1\" class=\"data row87 col1\" >Участие в арбитражных делах в качестве истца. Количество дел (за последний год)</td>\n",
              "            </tr>\n",
              "            <tr>\n",
              "                        <th id=\"T_90827b46_4908_11ec_92df_0242ac1c0002level0_row88\" class=\"row_heading level0 row88\" >88</th>\n",
              "                        <td id=\"T_90827b46_4908_11ec_92df_0242ac1c0002row88_col0\" class=\"data row88 col0\" >PLAINTIFF_SUM_YEAR</td>\n",
              "                        <td id=\"T_90827b46_4908_11ec_92df_0242ac1c0002row88_col1\" class=\"data row88 col1\" >Участие в арбитражных делах в качестве истца. Сумма, руб. (за последний год)</td>\n",
              "            </tr>\n",
              "            <tr>\n",
              "                        <th id=\"T_90827b46_4908_11ec_92df_0242ac1c0002level0_row89\" class=\"row_heading level0 row89\" >89</th>\n",
              "                        <td id=\"T_90827b46_4908_11ec_92df_0242ac1c0002row89_col0\" class=\"data row89 col0\" >DEFENDANT_CASESNUMBER_YEAR</td>\n",
              "                        <td id=\"T_90827b46_4908_11ec_92df_0242ac1c0002row89_col1\" class=\"data row89 col1\" >Участие в арбитражных делах в качестве ответчика. Количество дел (за последний год)</td>\n",
              "            </tr>\n",
              "            <tr>\n",
              "                        <th id=\"T_90827b46_4908_11ec_92df_0242ac1c0002level0_row90\" class=\"row_heading level0 row90\" >90</th>\n",
              "                        <td id=\"T_90827b46_4908_11ec_92df_0242ac1c0002row90_col0\" class=\"data row90 col0\" >DEFENDANT_SUM_YEAR</td>\n",
              "                        <td id=\"T_90827b46_4908_11ec_92df_0242ac1c0002row90_col1\" class=\"data row90 col1\" >Участие в арбитражных делах в качестве ответчика. Сумма, руб. (за последний год)</td>\n",
              "            </tr>\n",
              "            <tr>\n",
              "                        <th id=\"T_90827b46_4908_11ec_92df_0242ac1c0002level0_row91\" class=\"row_heading level0 row91\" >91</th>\n",
              "                        <td id=\"T_90827b46_4908_11ec_92df_0242ac1c0002row91_col0\" class=\"data row91 col0\" >THIRDOROTHERPERSON_YEAR</td>\n",
              "                        <td id=\"T_90827b46_4908_11ec_92df_0242ac1c0002row91_col1\" class=\"data row91 col1\" >Участие в арбитражных делах в качестве третьего лица. (за последний год)</td>\n",
              "            </tr>\n",
              "            <tr>\n",
              "                        <th id=\"T_90827b46_4908_11ec_92df_0242ac1c0002level0_row92\" class=\"row_heading level0 row92\" >92</th>\n",
              "                        <td id=\"T_90827b46_4908_11ec_92df_0242ac1c0002row92_col0\" class=\"data row92 col0\" >PLAINTIFF_CASESNUMBER_EVER</td>\n",
              "                        <td id=\"T_90827b46_4908_11ec_92df_0242ac1c0002row92_col1\" class=\"data row92 col1\" >Участие в арбитражных делах в качестве истца. Количество дел (за все время)</td>\n",
              "            </tr>\n",
              "            <tr>\n",
              "                        <th id=\"T_90827b46_4908_11ec_92df_0242ac1c0002level0_row93\" class=\"row_heading level0 row93\" >93</th>\n",
              "                        <td id=\"T_90827b46_4908_11ec_92df_0242ac1c0002row93_col0\" class=\"data row93 col0\" >PLAINTIFF_SUM_EVER</td>\n",
              "                        <td id=\"T_90827b46_4908_11ec_92df_0242ac1c0002row93_col1\" class=\"data row93 col1\" >Участие в арбитражных делах в качестве истца. Сумма, руб. (за все время)</td>\n",
              "            </tr>\n",
              "            <tr>\n",
              "                        <th id=\"T_90827b46_4908_11ec_92df_0242ac1c0002level0_row94\" class=\"row_heading level0 row94\" >94</th>\n",
              "                        <td id=\"T_90827b46_4908_11ec_92df_0242ac1c0002row94_col0\" class=\"data row94 col0\" >DEFENDANT_CASESNUMBER_EVER</td>\n",
              "                        <td id=\"T_90827b46_4908_11ec_92df_0242ac1c0002row94_col1\" class=\"data row94 col1\" >Участие в арбитражных делах в качестве ответчика. Количество дел (за все время)</td>\n",
              "            </tr>\n",
              "            <tr>\n",
              "                        <th id=\"T_90827b46_4908_11ec_92df_0242ac1c0002level0_row95\" class=\"row_heading level0 row95\" >95</th>\n",
              "                        <td id=\"T_90827b46_4908_11ec_92df_0242ac1c0002row95_col0\" class=\"data row95 col0\" >DEFENDANT_SUM_EVER</td>\n",
              "                        <td id=\"T_90827b46_4908_11ec_92df_0242ac1c0002row95_col1\" class=\"data row95 col1\" >Участие в арбитражных делах в качестве ответчика. Сумма, руб. (за все время)</td>\n",
              "            </tr>\n",
              "            <tr>\n",
              "                        <th id=\"T_90827b46_4908_11ec_92df_0242ac1c0002level0_row96\" class=\"row_heading level0 row96\" >96</th>\n",
              "                        <td id=\"T_90827b46_4908_11ec_92df_0242ac1c0002row96_col0\" class=\"data row96 col0\" >THIRDOROTHERPERSON_EVER</td>\n",
              "                        <td id=\"T_90827b46_4908_11ec_92df_0242ac1c0002row96_col1\" class=\"data row96 col1\" >Участие в арбитражных делах в качестве третьего лица. (за все время)</td>\n",
              "            </tr>\n",
              "            <tr>\n",
              "                        <th id=\"T_90827b46_4908_11ec_92df_0242ac1c0002level0_row97\" class=\"row_heading level0 row97\" >97</th>\n",
              "                        <td id=\"T_90827b46_4908_11ec_92df_0242ac1c0002row97_col0\" class=\"data row97 col0\" >ADMITTEDNUMBER_233_YEAR</td>\n",
              "                        <td id=\"T_90827b46_4908_11ec_92df_0242ac1c0002row97_col1\" class=\"data row97 col1\" >Данные о тендерах за последний год. Число допусков к тендеру (ФЗ 223)</td>\n",
              "            </tr>\n",
              "            <tr>\n",
              "                        <th id=\"T_90827b46_4908_11ec_92df_0242ac1c0002level0_row98\" class=\"row_heading level0 row98\" >98</th>\n",
              "                        <td id=\"T_90827b46_4908_11ec_92df_0242ac1c0002row98_col0\" class=\"data row98 col0\" >NOTADMITTEDNUMBER_233_YEAR</td>\n",
              "                        <td id=\"T_90827b46_4908_11ec_92df_0242ac1c0002row98_col1\" class=\"data row98 col1\" >Данные о тендерах за последний год. Число не допусков к тендеру (ФЗ 223)</td>\n",
              "            </tr>\n",
              "            <tr>\n",
              "                        <th id=\"T_90827b46_4908_11ec_92df_0242ac1c0002level0_row99\" class=\"row_heading level0 row99\" >99</th>\n",
              "                        <td id=\"T_90827b46_4908_11ec_92df_0242ac1c0002row99_col0\" class=\"data row99 col0\" >WINNERNUMBER_233_YEAR</td>\n",
              "                        <td id=\"T_90827b46_4908_11ec_92df_0242ac1c0002row99_col1\" class=\"data row99 col1\" >Данные о тендерах за последний год. Число выигрышей тендеров (ФЗ 223)</td>\n",
              "            </tr>\n",
              "            <tr>\n",
              "                        <th id=\"T_90827b46_4908_11ec_92df_0242ac1c0002level0_row100\" class=\"row_heading level0 row100\" >100</th>\n",
              "                        <td id=\"T_90827b46_4908_11ec_92df_0242ac1c0002row100_col0\" class=\"data row100 col0\" >SIGNEDNUMBER_233_YEAR</td>\n",
              "                        <td id=\"T_90827b46_4908_11ec_92df_0242ac1c0002row100_col1\" class=\"data row100 col1\" >Данные о госконтрактах за последний год. Число подписанных контрактов (ФЗ 223)</td>\n",
              "            </tr>\n",
              "            <tr>\n",
              "                        <th id=\"T_90827b46_4908_11ec_92df_0242ac1c0002level0_row101\" class=\"row_heading level0 row101\" >101</th>\n",
              "                        <td id=\"T_90827b46_4908_11ec_92df_0242ac1c0002row101_col0\" class=\"data row101 col0\" >SUM_233_YEAR</td>\n",
              "                        <td id=\"T_90827b46_4908_11ec_92df_0242ac1c0002row101_col1\" class=\"data row101 col1\" >Данные о госконтрактах за последний год. Контрактов подписано на сумму, руб. (ФЗ 223)</td>\n",
              "            </tr>\n",
              "            <tr>\n",
              "                        <th id=\"T_90827b46_4908_11ec_92df_0242ac1c0002level0_row102\" class=\"row_heading level0 row102\" >102</th>\n",
              "                        <td id=\"T_90827b46_4908_11ec_92df_0242ac1c0002row102_col0\" class=\"data row102 col0\" >ADMITTEDNUMBER_233_EVER</td>\n",
              "                        <td id=\"T_90827b46_4908_11ec_92df_0242ac1c0002row102_col1\" class=\"data row102 col1\" >Данные о тендерах за все время. Число допусков к тендеру (ФЗ 223)</td>\n",
              "            </tr>\n",
              "            <tr>\n",
              "                        <th id=\"T_90827b46_4908_11ec_92df_0242ac1c0002level0_row103\" class=\"row_heading level0 row103\" >103</th>\n",
              "                        <td id=\"T_90827b46_4908_11ec_92df_0242ac1c0002row103_col0\" class=\"data row103 col0\" >NOTADMITTEDNUMBER_233_EVER</td>\n",
              "                        <td id=\"T_90827b46_4908_11ec_92df_0242ac1c0002row103_col1\" class=\"data row103 col1\" >Данные о тендерах за все время. Число не допусков к тендеру (ФЗ 223)</td>\n",
              "            </tr>\n",
              "            <tr>\n",
              "                        <th id=\"T_90827b46_4908_11ec_92df_0242ac1c0002level0_row104\" class=\"row_heading level0 row104\" >104</th>\n",
              "                        <td id=\"T_90827b46_4908_11ec_92df_0242ac1c0002row104_col0\" class=\"data row104 col0\" >WINNERNUMBER_233_EVER</td>\n",
              "                        <td id=\"T_90827b46_4908_11ec_92df_0242ac1c0002row104_col1\" class=\"data row104 col1\" >Данные о тендерах за все время. Число выигрышей тендеров (ФЗ 223)</td>\n",
              "            </tr>\n",
              "            <tr>\n",
              "                        <th id=\"T_90827b46_4908_11ec_92df_0242ac1c0002level0_row105\" class=\"row_heading level0 row105\" >105</th>\n",
              "                        <td id=\"T_90827b46_4908_11ec_92df_0242ac1c0002row105_col0\" class=\"data row105 col0\" >SIGNEDNUMBER_233_EVER</td>\n",
              "                        <td id=\"T_90827b46_4908_11ec_92df_0242ac1c0002row105_col1\" class=\"data row105 col1\" >Данные о госконтрактах за все время. Число подписанных контрактов (ФЗ 223)</td>\n",
              "            </tr>\n",
              "            <tr>\n",
              "                        <th id=\"T_90827b46_4908_11ec_92df_0242ac1c0002level0_row106\" class=\"row_heading level0 row106\" >106</th>\n",
              "                        <td id=\"T_90827b46_4908_11ec_92df_0242ac1c0002row106_col0\" class=\"data row106 col0\" >SUM_233_EVER</td>\n",
              "                        <td id=\"T_90827b46_4908_11ec_92df_0242ac1c0002row106_col1\" class=\"data row106 col1\" >Данные о госконтрактах за все время. Контрактов подписано на сумму, руб. (ФЗ 223)</td>\n",
              "            </tr>\n",
              "            <tr>\n",
              "                        <th id=\"T_90827b46_4908_11ec_92df_0242ac1c0002level0_row107\" class=\"row_heading level0 row107\" >107</th>\n",
              "                        <td id=\"T_90827b46_4908_11ec_92df_0242ac1c0002row107_col0\" class=\"data row107 col0\" >ADMITTEDNUMBER_95_YEAR</td>\n",
              "                        <td id=\"T_90827b46_4908_11ec_92df_0242ac1c0002row107_col1\" class=\"data row107 col1\" >Данные о тендерах за последний год. Число допусков к тендеру (ФЗ 94)</td>\n",
              "            </tr>\n",
              "            <tr>\n",
              "                        <th id=\"T_90827b46_4908_11ec_92df_0242ac1c0002level0_row108\" class=\"row_heading level0 row108\" >108</th>\n",
              "                        <td id=\"T_90827b46_4908_11ec_92df_0242ac1c0002row108_col0\" class=\"data row108 col0\" >NOTADMITTEDNUMBER_95_YEAR</td>\n",
              "                        <td id=\"T_90827b46_4908_11ec_92df_0242ac1c0002row108_col1\" class=\"data row108 col1\" >Данные о тендерах за последний год. Число не допусков к тендеру (ФЗ 94)</td>\n",
              "            </tr>\n",
              "            <tr>\n",
              "                        <th id=\"T_90827b46_4908_11ec_92df_0242ac1c0002level0_row109\" class=\"row_heading level0 row109\" >109</th>\n",
              "                        <td id=\"T_90827b46_4908_11ec_92df_0242ac1c0002row109_col0\" class=\"data row109 col0\" >WINNERNUMBER_95_YEAR</td>\n",
              "                        <td id=\"T_90827b46_4908_11ec_92df_0242ac1c0002row109_col1\" class=\"data row109 col1\" >Данные о тендерах за последний год. Число выигрышей тендеров (ФЗ 94)</td>\n",
              "            </tr>\n",
              "            <tr>\n",
              "                        <th id=\"T_90827b46_4908_11ec_92df_0242ac1c0002level0_row110\" class=\"row_heading level0 row110\" >110</th>\n",
              "                        <td id=\"T_90827b46_4908_11ec_92df_0242ac1c0002row110_col0\" class=\"data row110 col0\" >SIGNEDNUMBER_95_YEAR</td>\n",
              "                        <td id=\"T_90827b46_4908_11ec_92df_0242ac1c0002row110_col1\" class=\"data row110 col1\" >Данные о госконтрактах за последний год. Число подписанных контрактов (ФЗ 94)</td>\n",
              "            </tr>\n",
              "            <tr>\n",
              "                        <th id=\"T_90827b46_4908_11ec_92df_0242ac1c0002level0_row111\" class=\"row_heading level0 row111\" >111</th>\n",
              "                        <td id=\"T_90827b46_4908_11ec_92df_0242ac1c0002row111_col0\" class=\"data row111 col0\" >SUM_95_YEAR</td>\n",
              "                        <td id=\"T_90827b46_4908_11ec_92df_0242ac1c0002row111_col1\" class=\"data row111 col1\" >Данные о госконтрактах за последний год. Контрактов подписано на сумму, руб. (ФЗ 94)</td>\n",
              "            </tr>\n",
              "            <tr>\n",
              "                        <th id=\"T_90827b46_4908_11ec_92df_0242ac1c0002level0_row112\" class=\"row_heading level0 row112\" >112</th>\n",
              "                        <td id=\"T_90827b46_4908_11ec_92df_0242ac1c0002row112_col0\" class=\"data row112 col0\" >ADMITTEDNUMBER_95_EVER</td>\n",
              "                        <td id=\"T_90827b46_4908_11ec_92df_0242ac1c0002row112_col1\" class=\"data row112 col1\" >Данные о тендерах за все время. Число допусков к тендеру (ФЗ 94)</td>\n",
              "            </tr>\n",
              "            <tr>\n",
              "                        <th id=\"T_90827b46_4908_11ec_92df_0242ac1c0002level0_row113\" class=\"row_heading level0 row113\" >113</th>\n",
              "                        <td id=\"T_90827b46_4908_11ec_92df_0242ac1c0002row113_col0\" class=\"data row113 col0\" >NOTADMITTEDNUMBER_EVER</td>\n",
              "                        <td id=\"T_90827b46_4908_11ec_92df_0242ac1c0002row113_col1\" class=\"data row113 col1\" >Данные о тендерах за все время. Число не допусков к тендеру (ФЗ 94)</td>\n",
              "            </tr>\n",
              "            <tr>\n",
              "                        <th id=\"T_90827b46_4908_11ec_92df_0242ac1c0002level0_row114\" class=\"row_heading level0 row114\" >114</th>\n",
              "                        <td id=\"T_90827b46_4908_11ec_92df_0242ac1c0002row114_col0\" class=\"data row114 col0\" >WINNERNUMBER_95_EVER</td>\n",
              "                        <td id=\"T_90827b46_4908_11ec_92df_0242ac1c0002row114_col1\" class=\"data row114 col1\" >Данные о тендерах за все время. Число выигрышей тендеров (ФЗ 94)</td>\n",
              "            </tr>\n",
              "            <tr>\n",
              "                        <th id=\"T_90827b46_4908_11ec_92df_0242ac1c0002level0_row115\" class=\"row_heading level0 row115\" >115</th>\n",
              "                        <td id=\"T_90827b46_4908_11ec_92df_0242ac1c0002row115_col0\" class=\"data row115 col0\" >SIGNEDNUMBER_95_EVER</td>\n",
              "                        <td id=\"T_90827b46_4908_11ec_92df_0242ac1c0002row115_col1\" class=\"data row115 col1\" >Данные о госконтрактах за все время. Число подписанных контрактов (ФЗ 94)</td>\n",
              "            </tr>\n",
              "            <tr>\n",
              "                        <th id=\"T_90827b46_4908_11ec_92df_0242ac1c0002level0_row116\" class=\"row_heading level0 row116\" >116</th>\n",
              "                        <td id=\"T_90827b46_4908_11ec_92df_0242ac1c0002row116_col0\" class=\"data row116 col0\" >SUM_95_EVER</td>\n",
              "                        <td id=\"T_90827b46_4908_11ec_92df_0242ac1c0002row116_col1\" class=\"data row116 col1\" >Данные о госконтрактах за все время. Контрактов подписано на сумму, руб. (ФЗ 94)</td>\n",
              "            </tr>\n",
              "            <tr>\n",
              "                        <th id=\"T_90827b46_4908_11ec_92df_0242ac1c0002level0_row117\" class=\"row_heading level0 row117\" >117</th>\n",
              "                        <td id=\"T_90827b46_4908_11ec_92df_0242ac1c0002row117_col0\" class=\"data row117 col0\" >FLAG_DISQUALIFICATION</td>\n",
              "                        <td id=\"T_90827b46_4908_11ec_92df_0242ac1c0002row117_col1\" class=\"data row117 col1\" >Наличие руководителя компании, дисквалифицированного когда-либо</td>\n",
              "            </tr>\n",
              "            <tr>\n",
              "                        <th id=\"T_90827b46_4908_11ec_92df_0242ac1c0002level0_row118\" class=\"row_heading level0 row118\" >118</th>\n",
              "                        <td id=\"T_90827b46_4908_11ec_92df_0242ac1c0002row118_col0\" class=\"data row118 col0\" >COUNT_CHANGE_YEAR</td>\n",
              "                        <td id=\"T_90827b46_4908_11ec_92df_0242ac1c0002row118_col1\" class=\"data row118 col1\" >Количество изменений в наименовании и организационно-правовой форме за последний год</td>\n",
              "            </tr>\n",
              "            <tr>\n",
              "                        <th id=\"T_90827b46_4908_11ec_92df_0242ac1c0002level0_row119\" class=\"row_heading level0 row119\" >119</th>\n",
              "                        <td id=\"T_90827b46_4908_11ec_92df_0242ac1c0002row119_col0\" class=\"data row119 col0\" >COUNT_CHANGE_EVER</td>\n",
              "                        <td id=\"T_90827b46_4908_11ec_92df_0242ac1c0002row119_col1\" class=\"data row119 col1\" >Количество изменений в наименовании и организационно-правовой форме за все время</td>\n",
              "            </tr>\n",
              "            <tr>\n",
              "                        <th id=\"T_90827b46_4908_11ec_92df_0242ac1c0002level0_row120\" class=\"row_heading level0 row120\" >120</th>\n",
              "                        <td id=\"T_90827b46_4908_11ec_92df_0242ac1c0002row120_col0\" class=\"data row120 col0\" >BIRTHDATE</td>\n",
              "                        <td id=\"T_90827b46_4908_11ec_92df_0242ac1c0002row120_col1\" class=\"data row120 col1\" >Дата рождения</td>\n",
              "            </tr>\n",
              "            <tr>\n",
              "                        <th id=\"T_90827b46_4908_11ec_92df_0242ac1c0002level0_row121\" class=\"row_heading level0 row121\" >121</th>\n",
              "                        <td id=\"T_90827b46_4908_11ec_92df_0242ac1c0002row121_col0\" class=\"data row121 col0\" >AGE</td>\n",
              "                        <td id=\"T_90827b46_4908_11ec_92df_0242ac1c0002row121_col1\" class=\"data row121 col1\" >Возраст</td>\n",
              "            </tr>\n",
              "            <tr>\n",
              "                        <th id=\"T_90827b46_4908_11ec_92df_0242ac1c0002level0_row122\" class=\"row_heading level0 row122\" >122</th>\n",
              "                        <td id=\"T_90827b46_4908_11ec_92df_0242ac1c0002row122_col0\" class=\"data row122 col0\" >SEX_NAME</td>\n",
              "                        <td id=\"T_90827b46_4908_11ec_92df_0242ac1c0002row122_col1\" class=\"data row122 col1\" >Пол</td>\n",
              "            </tr>\n",
              "            <tr>\n",
              "                        <th id=\"T_90827b46_4908_11ec_92df_0242ac1c0002level0_row123\" class=\"row_heading level0 row123\" >123</th>\n",
              "                        <td id=\"T_90827b46_4908_11ec_92df_0242ac1c0002row123_col0\" class=\"data row123 col0\" >CITIZENSHIP_NAME</td>\n",
              "                        <td id=\"T_90827b46_4908_11ec_92df_0242ac1c0002row123_col1\" class=\"data row123 col1\" >Гражданство</td>\n",
              "            </tr>\n",
              "    </tbody></table>"
            ],
            "text/plain": [
              "<pandas.io.formats.style.Styler at 0x7f45f23d88d0>"
            ]
          },
          "metadata": {},
          "execution_count": 1402
        }
      ]
    },
    {
      "cell_type": "markdown",
      "metadata": {
        "id": "8lFSV-CW7WH5"
      },
      "source": [
        "### 1.5 Feature Selector"
      ]
    },
    {
      "cell_type": "markdown",
      "metadata": {
        "id": "VEfNKEuFrukl"
      },
      "source": [
        "Библиотека feature Selector разработа и находиться в открытом доступе на github.com. Необходима для эффективной работе с признаками."
      ]
    },
    {
      "cell_type": "code",
      "metadata": {
        "id": "PLf-a2-W7WSR"
      },
      "source": [
        "fs = FeatureSelector(data=X, labels=y)"
      ],
      "execution_count": 1403,
      "outputs": []
    },
    {
      "cell_type": "markdown",
      "metadata": {
        "id": "lQCcfPvuILXr"
      },
      "source": [
        "Найдём неинформативные признаки с большим количеством пропущенных значений."
      ]
    },
    {
      "cell_type": "code",
      "metadata": {
        "colab": {
          "base_uri": "https://localhost:8080/",
          "height": 335
        },
        "id": "-V6Xw77a7WVA",
        "outputId": "7f0ce275-b770-4829-e01a-30341a67bc65"
      },
      "source": [
        "#Пропущенные значения (порог установим в 94% пропущенных значений)\n",
        "\n",
        "fs.identify_missing(missing_threshold=0.94)\n",
        "fs.missing_stats.head(8)"
      ],
      "execution_count": 1404,
      "outputs": [
        {
          "output_type": "stream",
          "name": "stdout",
          "text": [
            "8 features with greater than 0.94 missing values.\n",
            "\n"
          ]
        },
        {
          "output_type": "execute_result",
          "data": {
            "text/html": [
              "<div>\n",
              "<style scoped>\n",
              "    .dataframe tbody tr th:only-of-type {\n",
              "        vertical-align: middle;\n",
              "    }\n",
              "\n",
              "    .dataframe tbody tr th {\n",
              "        vertical-align: top;\n",
              "    }\n",
              "\n",
              "    .dataframe thead th {\n",
              "        text-align: right;\n",
              "    }\n",
              "</style>\n",
              "<table border=\"1\" class=\"dataframe\">\n",
              "  <thead>\n",
              "    <tr style=\"text-align: right;\">\n",
              "      <th></th>\n",
              "      <th>missing_fraction</th>\n",
              "    </tr>\n",
              "  </thead>\n",
              "  <tbody>\n",
              "    <tr>\n",
              "      <th>FLAG_DISQUALIFICATION</th>\n",
              "      <td>0.999673</td>\n",
              "    </tr>\n",
              "    <tr>\n",
              "      <th>F1320</th>\n",
              "      <td>0.994440</td>\n",
              "    </tr>\n",
              "    <tr>\n",
              "      <th>COUNT_CHANGE_YEAR</th>\n",
              "      <td>0.991497</td>\n",
              "    </tr>\n",
              "    <tr>\n",
              "      <th>F1160</th>\n",
              "      <td>0.982994</td>\n",
              "    </tr>\n",
              "    <tr>\n",
              "      <th>F2310</th>\n",
              "      <td>0.981931</td>\n",
              "    </tr>\n",
              "    <tr>\n",
              "      <th>F1450</th>\n",
              "      <td>0.952498</td>\n",
              "    </tr>\n",
              "    <tr>\n",
              "      <th>F1530</th>\n",
              "      <td>0.946938</td>\n",
              "    </tr>\n",
              "    <tr>\n",
              "      <th>F1550</th>\n",
              "      <td>0.944976</td>\n",
              "    </tr>\n",
              "  </tbody>\n",
              "</table>\n",
              "</div>"
            ],
            "text/plain": [
              "                       missing_fraction\n",
              "FLAG_DISQUALIFICATION          0.999673\n",
              "F1320                          0.994440\n",
              "COUNT_CHANGE_YEAR              0.991497\n",
              "F1160                          0.982994\n",
              "F2310                          0.981931\n",
              "F1450                          0.952498\n",
              "F1530                          0.946938\n",
              "F1550                          0.944976"
            ]
          },
          "metadata": {},
          "execution_count": 1404
        }
      ]
    },
    {
      "cell_type": "code",
      "metadata": {
        "id": "NWS5MZ7jIvQd"
      },
      "source": [
        "#Список пропущенных значений с порогом 94%\n",
        "\n",
        "missing_features = fs.ops['missing']"
      ],
      "execution_count": 1405,
      "outputs": []
    },
    {
      "cell_type": "markdown",
      "metadata": {
        "id": "msgx9939I-1r"
      },
      "source": [
        "Посмотрим на корреляцию признаков."
      ]
    },
    {
      "cell_type": "code",
      "metadata": {
        "colab": {
          "base_uri": "https://localhost:8080/",
          "height": 543
        },
        "id": "xoC6q1aZJDMT",
        "outputId": "5d7a67e9-947b-4207-e6ce-0f3831ac8802"
      },
      "source": [
        "#Корреляция всех признаков\n",
        "fs.identify_collinear(correlation_threshold=0)\n",
        "\n",
        "fs.plot_collinear(plot_all=True)"
      ],
      "execution_count": 1406,
      "outputs": [
        {
          "output_type": "stream",
          "name": "stdout",
          "text": [
            "110 features with a correlation magnitude greater than 0.00.\n",
            "\n"
          ]
        },
        {
          "output_type": "display_data",
          "data": {
            "image/png": "[encoded data removed]",
            "text/plain": [
              "<Figure size 720x576 with 2 Axes>"
            ]
          },
          "metadata": {
            "needs_background": "light"
          }
        }
      ]
    },
    {
      "cell_type": "markdown",
      "metadata": {
        "id": "VGxGWtxCJPYy"
      },
      "source": [
        "Видны целые группы признаков сильно коррелирующих между собой. Установим порог корреляции в 80% и определим эти признаки."
      ]
    },
    {
      "cell_type": "code",
      "metadata": {
        "colab": {
          "base_uri": "https://localhost:8080/"
        },
        "id": "AW8EiDfa7WYA",
        "outputId": "312b34e8-ddf8-4e29-d6e0-9eefd2f69781"
      },
      "source": [
        "#Корреляция признаков с порогом 80%\n",
        "\n",
        "fs.identify_collinear(correlation_threshold=0.8)"
      ],
      "execution_count": 1407,
      "outputs": [
        {
          "output_type": "stream",
          "name": "stdout",
          "text": [
            "71 features with a correlation magnitude greater than 0.80.\n",
            "\n"
          ]
        }
      ]
    },
    {
      "cell_type": "code",
      "metadata": {
        "colab": {
          "base_uri": "https://localhost:8080/",
          "height": 525
        },
        "id": "V-3XxJ5y8aNA",
        "outputId": "406d313d-0b51-422c-a73f-fecece0f183d"
      },
      "source": [
        "#Heatmap корреляции признаков (коеф корреляции = 0.8)\n",
        "\n",
        "fs.plot_collinear()"
      ],
      "execution_count": 1408,
      "outputs": [
        {
          "output_type": "display_data",
          "data": {
            "image/png": "[encoded data removed]",
            "text/plain": [
              "<Figure size 720x576 with 2 Axes>"
            ]
          },
          "metadata": {
            "needs_background": "light"
          }
        }
      ]
    },
    {
      "cell_type": "code",
      "metadata": {
        "colab": {
          "base_uri": "https://localhost:8080/",
          "height": 206
        },
        "id": "rPwnBQHj8aPs",
        "outputId": "1df442ac-1821-43e6-9558-ca08cc01f2e5"
      },
      "source": [
        "#Список коррелирующих признаков\n",
        "collinear_features = fs.ops['collinear']\n",
        "\n",
        "#Датасет коррелирующих признаков\n",
        "fs.record_collinear.head(5)"
      ],
      "execution_count": 1409,
      "outputs": [
        {
          "output_type": "execute_result",
          "data": {
            "text/html": [
              "<div>\n",
              "<style scoped>\n",
              "    .dataframe tbody tr th:only-of-type {\n",
              "        vertical-align: middle;\n",
              "    }\n",
              "\n",
              "    .dataframe tbody tr th {\n",
              "        vertical-align: top;\n",
              "    }\n",
              "\n",
              "    .dataframe thead th {\n",
              "        text-align: right;\n",
              "    }\n",
              "</style>\n",
              "<table border=\"1\" class=\"dataframe\">\n",
              "  <thead>\n",
              "    <tr style=\"text-align: right;\">\n",
              "      <th></th>\n",
              "      <th>drop_feature</th>\n",
              "      <th>corr_feature</th>\n",
              "      <th>corr_value</th>\n",
              "    </tr>\n",
              "  </thead>\n",
              "  <tbody>\n",
              "    <tr>\n",
              "      <th>0</th>\n",
              "      <td>F1150</td>\n",
              "      <td>F1100</td>\n",
              "      <td>0.919884</td>\n",
              "    </tr>\n",
              "    <tr>\n",
              "      <th>1</th>\n",
              "      <td>F1170</td>\n",
              "      <td>F1110</td>\n",
              "      <td>0.880752</td>\n",
              "    </tr>\n",
              "    <tr>\n",
              "      <th>2</th>\n",
              "      <td>F1200</td>\n",
              "      <td>F1100</td>\n",
              "      <td>0.810560</td>\n",
              "    </tr>\n",
              "    <tr>\n",
              "      <th>3</th>\n",
              "      <td>F1220</td>\n",
              "      <td>F1110</td>\n",
              "      <td>0.941792</td>\n",
              "    </tr>\n",
              "    <tr>\n",
              "      <th>4</th>\n",
              "      <td>F1220</td>\n",
              "      <td>F1170</td>\n",
              "      <td>0.888626</td>\n",
              "    </tr>\n",
              "  </tbody>\n",
              "</table>\n",
              "</div>"
            ],
            "text/plain": [
              "  drop_feature corr_feature  corr_value\n",
              "0        F1150        F1100    0.919884\n",
              "1        F1170        F1110    0.880752\n",
              "2        F1200        F1100    0.810560\n",
              "3        F1220        F1110    0.941792\n",
              "4        F1220        F1170    0.888626"
            ]
          },
          "metadata": {},
          "execution_count": 1409
        }
      ]
    },
    {
      "cell_type": "markdown",
      "metadata": {
        "id": "0E4Hog80SAY2"
      },
      "source": [
        "Найдём признаки с нулевой важностью (Но не будем их исключать из общего датасета). Просто для информации."
      ]
    },
    {
      "cell_type": "code",
      "metadata": {
        "id": "F5kggsHgV0eY"
      },
      "source": [
        "# #Для этого используем только цифровые признаки\n",
        "# X_num = X.drop(X.select_dtypes('object').columns, axis=1)\n",
        "\n",
        "# fs = FeatureSelector(data=X_num, labels=y)\n",
        "\n",
        "# fs.identify_zero_importance(task = 'classification', eval_metric = 'auc', n_iterations = 5, early_stopping = True)\n",
        "\n",
        "# zero_importance_features = fs.ops['zero_importance']\n",
        "\n",
        "# fs.plot_feature_importances(threshold = 0.99, plot_n = 12)"
      ],
      "execution_count": 1410,
      "outputs": []
    },
    {
      "cell_type": "code",
      "metadata": {
        "colab": {
          "base_uri": "https://localhost:8080/"
        },
        "id": "cgvez7A78aSN",
        "outputId": "f998501d-60f1-440b-d5db-14cd96a4e548"
      },
      "source": [
        "len(collinear_features), len(missing_features)"
      ],
      "execution_count": 1411,
      "outputs": [
        {
          "output_type": "execute_result",
          "data": {
            "text/plain": [
              "(71, 8)"
            ]
          },
          "metadata": {},
          "execution_count": 1411
        }
      ]
    },
    {
      "cell_type": "code",
      "metadata": {
        "id": "aMSOlONiL0XF"
      },
      "source": [
        "#Удалим повторяющиеся значения в обоих списках (если таковые имеются)\n",
        "\n",
        "drop_feature_list = set(collinear_features + missing_features)\n",
        "drop_feature_list = list(drop_feature_list)"
      ],
      "execution_count": 1412,
      "outputs": []
    },
    {
      "cell_type": "code",
      "metadata": {
        "id": "giXmhey0AQ0z"
      },
      "source": [
        "#Таким образом удалим все неинформативные и коррелирующие между собой признаки\n",
        "\n",
        "X = X.drop(drop_feature_list, axis=1)\n",
        "X_test = X_test.drop(drop_feature_list, axis=1)"
      ],
      "execution_count": 1413,
      "outputs": []
    },
    {
      "cell_type": "code",
      "metadata": {
        "colab": {
          "base_uri": "https://localhost:8080/"
        },
        "id": "8AZ3isHvNXDE",
        "outputId": "2f4c98f3-1bbe-414f-bf91-7b3ceb054782"
      },
      "source": [
        "#Размерности датасетов\n",
        "\n",
        "X.shape, y.shape, X_test.shape"
      ],
      "execution_count": 1414,
      "outputs": [
        {
          "output_type": "execute_result",
          "data": {
            "text/plain": [
              "((12231, 50), (12231,), (7330, 50))"
            ]
          },
          "metadata": {},
          "execution_count": 1414
        }
      ]
    },
    {
      "cell_type": "markdown",
      "metadata": {
        "id": "Vx89OWKsmjYN"
      },
      "source": [
        "\n",
        "\n",
        "---\n",
        "\n",
        "\n",
        "## 2 Предварительный анализ и обработка"
      ]
    },
    {
      "cell_type": "markdown",
      "metadata": {
        "id": "J_HOIkvKbD0X"
      },
      "source": [
        "### 2.1 Наличие пропущенных значений"
      ]
    },
    {
      "cell_type": "code",
      "metadata": {
        "colab": {
          "base_uri": "https://localhost:8080/",
          "height": 0
        },
        "id": "bYS8zDvcmigN",
        "outputId": "ae98c501-54c4-4bfa-a4fa-69ed593b9272"
      },
      "source": [
        "#Смотрим на количество пропущенных значений\n",
        "\n",
        "pd.concat([X.isnull().sum().rename('train'), X_test.isnull().sum().rename('test')], axis=1)\\\n",
        ".sort_values(['train', 'test'], ascending=False).style"
      ],
      "execution_count": 1415,
      "outputs": [
        {
          "output_type": "execute_result",
          "data": {
            "text/html": [
              "<style  type=\"text/css\" >\n",
              "</style><table id=\"T_94e13650_4908_11ec_92df_0242ac1c0002\" class=\"dataframe\"><thead>    <tr>        <th class=\"blank level0\" ></th>        <th class=\"col_heading level0 col0\" >train</th>        <th class=\"col_heading level0 col1\" >test</th>    </tr></thead><tbody>\n",
              "                <tr>\n",
              "                        <th id=\"T_94e13650_4908_11ec_92df_0242ac1c0002level0_row0\" class=\"row_heading level0 row0\" >F1350</th>\n",
              "                        <td id=\"T_94e13650_4908_11ec_92df_0242ac1c0002row0_col0\" class=\"data row0 col0\" >11425</td>\n",
              "                        <td id=\"T_94e13650_4908_11ec_92df_0242ac1c0002row0_col1\" class=\"data row0 col1\" >7071</td>\n",
              "            </tr>\n",
              "            <tr>\n",
              "                        <th id=\"T_94e13650_4908_11ec_92df_0242ac1c0002level0_row1\" class=\"row_heading level0 row1\" >F1110</th>\n",
              "                        <td id=\"T_94e13650_4908_11ec_92df_0242ac1c0002row1_col0\" class=\"data row1 col0\" >11301</td>\n",
              "                        <td id=\"T_94e13650_4908_11ec_92df_0242ac1c0002row1_col1\" class=\"data row1 col1\" >6872</td>\n",
              "            </tr>\n",
              "            <tr>\n",
              "                        <th id=\"T_94e13650_4908_11ec_92df_0242ac1c0002level0_row2\" class=\"row_heading level0 row2\" >BIRTHDATE</th>\n",
              "                        <td id=\"T_94e13650_4908_11ec_92df_0242ac1c0002row2_col0\" class=\"data row2 col0\" >11164</td>\n",
              "                        <td id=\"T_94e13650_4908_11ec_92df_0242ac1c0002row2_col1\" class=\"data row2 col1\" >6715</td>\n",
              "            </tr>\n",
              "            <tr>\n",
              "                        <th id=\"T_94e13650_4908_11ec_92df_0242ac1c0002level0_row3\" class=\"row_heading level0 row3\" >AGE</th>\n",
              "                        <td id=\"T_94e13650_4908_11ec_92df_0242ac1c0002row3_col0\" class=\"data row3 col0\" >11164</td>\n",
              "                        <td id=\"T_94e13650_4908_11ec_92df_0242ac1c0002row3_col1\" class=\"data row3 col1\" >6715</td>\n",
              "            </tr>\n",
              "            <tr>\n",
              "                        <th id=\"T_94e13650_4908_11ec_92df_0242ac1c0002level0_row4\" class=\"row_heading level0 row4\" >F1190</th>\n",
              "                        <td id=\"T_94e13650_4908_11ec_92df_0242ac1c0002row4_col0\" class=\"data row4 col0\" >11038</td>\n",
              "                        <td id=\"T_94e13650_4908_11ec_92df_0242ac1c0002row4_col1\" class=\"data row4 col1\" >6872</td>\n",
              "            </tr>\n",
              "            <tr>\n",
              "                        <th id=\"T_94e13650_4908_11ec_92df_0242ac1c0002level0_row5\" class=\"row_heading level0 row5\" >CITIZENSHIP_NAME</th>\n",
              "                        <td id=\"T_94e13650_4908_11ec_92df_0242ac1c0002row5_col0\" class=\"data row5 col0\" >10799</td>\n",
              "                        <td id=\"T_94e13650_4908_11ec_92df_0242ac1c0002row5_col1\" class=\"data row5 col1\" >5899</td>\n",
              "            </tr>\n",
              "            <tr>\n",
              "                        <th id=\"T_94e13650_4908_11ec_92df_0242ac1c0002level0_row6\" class=\"row_heading level0 row6\" >SEX_NAME</th>\n",
              "                        <td id=\"T_94e13650_4908_11ec_92df_0242ac1c0002row6_col0\" class=\"data row6 col0\" >10762</td>\n",
              "                        <td id=\"T_94e13650_4908_11ec_92df_0242ac1c0002row6_col1\" class=\"data row6 col1\" >5896</td>\n",
              "            </tr>\n",
              "            <tr>\n",
              "                        <th id=\"T_94e13650_4908_11ec_92df_0242ac1c0002level0_row7\" class=\"row_heading level0 row7\" >F1180</th>\n",
              "                        <td id=\"T_94e13650_4908_11ec_92df_0242ac1c0002row7_col0\" class=\"data row7 col0\" >10538</td>\n",
              "                        <td id=\"T_94e13650_4908_11ec_92df_0242ac1c0002row7_col1\" class=\"data row7 col1\" >6651</td>\n",
              "            </tr>\n",
              "            <tr>\n",
              "                        <th id=\"T_94e13650_4908_11ec_92df_0242ac1c0002level0_row8\" class=\"row_heading level0 row8\" >PLAINTIFF_SUM_YEAR</th>\n",
              "                        <td id=\"T_94e13650_4908_11ec_92df_0242ac1c0002row8_col0\" class=\"data row8 col0\" >9847</td>\n",
              "                        <td id=\"T_94e13650_4908_11ec_92df_0242ac1c0002row8_col1\" class=\"data row8 col1\" >5864</td>\n",
              "            </tr>\n",
              "            <tr>\n",
              "                        <th id=\"T_94e13650_4908_11ec_92df_0242ac1c0002level0_row9\" class=\"row_heading level0 row9\" >DEFENDANT_CASESNUMBER_YEAR</th>\n",
              "                        <td id=\"T_94e13650_4908_11ec_92df_0242ac1c0002row9_col0\" class=\"data row9 col0\" >9847</td>\n",
              "                        <td id=\"T_94e13650_4908_11ec_92df_0242ac1c0002row9_col1\" class=\"data row9 col1\" >5864</td>\n",
              "            </tr>\n",
              "            <tr>\n",
              "                        <th id=\"T_94e13650_4908_11ec_92df_0242ac1c0002level0_row10\" class=\"row_heading level0 row10\" >DEFENDANT_SUM_YEAR</th>\n",
              "                        <td id=\"T_94e13650_4908_11ec_92df_0242ac1c0002row10_col0\" class=\"data row10 col0\" >9847</td>\n",
              "                        <td id=\"T_94e13650_4908_11ec_92df_0242ac1c0002row10_col1\" class=\"data row10 col1\" >5864</td>\n",
              "            </tr>\n",
              "            <tr>\n",
              "                        <th id=\"T_94e13650_4908_11ec_92df_0242ac1c0002level0_row11\" class=\"row_heading level0 row11\" >THIRDOROTHERPERSON_YEAR</th>\n",
              "                        <td id=\"T_94e13650_4908_11ec_92df_0242ac1c0002row11_col0\" class=\"data row11 col0\" >9847</td>\n",
              "                        <td id=\"T_94e13650_4908_11ec_92df_0242ac1c0002row11_col1\" class=\"data row11 col1\" >5864</td>\n",
              "            </tr>\n",
              "            <tr>\n",
              "                        <th id=\"T_94e13650_4908_11ec_92df_0242ac1c0002level0_row12\" class=\"row_heading level0 row12\" >ADMITTEDNUMBER_233_YEAR</th>\n",
              "                        <td id=\"T_94e13650_4908_11ec_92df_0242ac1c0002row12_col0\" class=\"data row12 col0\" >9335</td>\n",
              "                        <td id=\"T_94e13650_4908_11ec_92df_0242ac1c0002row12_col1\" class=\"data row12 col1\" >6035</td>\n",
              "            </tr>\n",
              "            <tr>\n",
              "                        <th id=\"T_94e13650_4908_11ec_92df_0242ac1c0002level0_row13\" class=\"row_heading level0 row13\" >SUM_233_YEAR</th>\n",
              "                        <td id=\"T_94e13650_4908_11ec_92df_0242ac1c0002row13_col0\" class=\"data row13 col0\" >9335</td>\n",
              "                        <td id=\"T_94e13650_4908_11ec_92df_0242ac1c0002row13_col1\" class=\"data row13 col1\" >6035</td>\n",
              "            </tr>\n",
              "            <tr>\n",
              "                        <th id=\"T_94e13650_4908_11ec_92df_0242ac1c0002level0_row14\" class=\"row_heading level0 row14\" >F1260</th>\n",
              "                        <td id=\"T_94e13650_4908_11ec_92df_0242ac1c0002row14_col0\" class=\"data row14 col0\" >9272</td>\n",
              "                        <td id=\"T_94e13650_4908_11ec_92df_0242ac1c0002row14_col1\" class=\"data row14 col1\" >5947</td>\n",
              "            </tr>\n",
              "            <tr>\n",
              "                        <th id=\"T_94e13650_4908_11ec_92df_0242ac1c0002level0_row15\" class=\"row_heading level0 row15\" >PLAINTIFF_CASESNUMBER_EVER</th>\n",
              "                        <td id=\"T_94e13650_4908_11ec_92df_0242ac1c0002row15_col0\" class=\"data row15 col0\" >8823</td>\n",
              "                        <td id=\"T_94e13650_4908_11ec_92df_0242ac1c0002row15_col1\" class=\"data row15 col1\" >5204</td>\n",
              "            </tr>\n",
              "            <tr>\n",
              "                        <th id=\"T_94e13650_4908_11ec_92df_0242ac1c0002level0_row16\" class=\"row_heading level0 row16\" >PLAINTIFF_SUM_EVER</th>\n",
              "                        <td id=\"T_94e13650_4908_11ec_92df_0242ac1c0002row16_col0\" class=\"data row16 col0\" >8823</td>\n",
              "                        <td id=\"T_94e13650_4908_11ec_92df_0242ac1c0002row16_col1\" class=\"data row16 col1\" >5204</td>\n",
              "            </tr>\n",
              "            <tr>\n",
              "                        <th id=\"T_94e13650_4908_11ec_92df_0242ac1c0002level0_row17\" class=\"row_heading level0 row17\" >DEFENDANT_SUM_EVER</th>\n",
              "                        <td id=\"T_94e13650_4908_11ec_92df_0242ac1c0002row17_col0\" class=\"data row17 col0\" >8823</td>\n",
              "                        <td id=\"T_94e13650_4908_11ec_92df_0242ac1c0002row17_col1\" class=\"data row17 col1\" >5204</td>\n",
              "            </tr>\n",
              "            <tr>\n",
              "                        <th id=\"T_94e13650_4908_11ec_92df_0242ac1c0002level0_row18\" class=\"row_heading level0 row18\" >THIRDOROTHERPERSON_EVER</th>\n",
              "                        <td id=\"T_94e13650_4908_11ec_92df_0242ac1c0002row18_col0\" class=\"data row18 col0\" >8823</td>\n",
              "                        <td id=\"T_94e13650_4908_11ec_92df_0242ac1c0002row18_col1\" class=\"data row18 col1\" >5204</td>\n",
              "            </tr>\n",
              "            <tr>\n",
              "                        <th id=\"T_94e13650_4908_11ec_92df_0242ac1c0002level0_row19\" class=\"row_heading level0 row19\" >SUM_233_EVER</th>\n",
              "                        <td id=\"T_94e13650_4908_11ec_92df_0242ac1c0002row19_col0\" class=\"data row19 col0\" >8735</td>\n",
              "                        <td id=\"T_94e13650_4908_11ec_92df_0242ac1c0002row19_col1\" class=\"data row19 col1\" >5683</td>\n",
              "            </tr>\n",
              "            <tr>\n",
              "                        <th id=\"T_94e13650_4908_11ec_92df_0242ac1c0002level0_row20\" class=\"row_heading level0 row20\" >ADMITTEDNUMBER_95_YEAR</th>\n",
              "                        <td id=\"T_94e13650_4908_11ec_92df_0242ac1c0002row20_col0\" class=\"data row20 col0\" >7783</td>\n",
              "                        <td id=\"T_94e13650_4908_11ec_92df_0242ac1c0002row20_col1\" class=\"data row20 col1\" >5171</td>\n",
              "            </tr>\n",
              "            <tr>\n",
              "                        <th id=\"T_94e13650_4908_11ec_92df_0242ac1c0002level0_row21\" class=\"row_heading level0 row21\" >NOTADMITTEDNUMBER_95_YEAR</th>\n",
              "                        <td id=\"T_94e13650_4908_11ec_92df_0242ac1c0002row21_col0\" class=\"data row21 col0\" >7783</td>\n",
              "                        <td id=\"T_94e13650_4908_11ec_92df_0242ac1c0002row21_col1\" class=\"data row21 col1\" >5171</td>\n",
              "            </tr>\n",
              "            <tr>\n",
              "                        <th id=\"T_94e13650_4908_11ec_92df_0242ac1c0002level0_row22\" class=\"row_heading level0 row22\" >F1100</th>\n",
              "                        <td id=\"T_94e13650_4908_11ec_92df_0242ac1c0002row22_col0\" class=\"data row22 col0\" >6941</td>\n",
              "                        <td id=\"T_94e13650_4908_11ec_92df_0242ac1c0002row22_col1\" class=\"data row22 col1\" >4840</td>\n",
              "            </tr>\n",
              "            <tr>\n",
              "                        <th id=\"T_94e13650_4908_11ec_92df_0242ac1c0002level0_row23\" class=\"row_heading level0 row23\" >F1210</th>\n",
              "                        <td id=\"T_94e13650_4908_11ec_92df_0242ac1c0002row23_col0\" class=\"data row23 col0\" >5025</td>\n",
              "                        <td id=\"T_94e13650_4908_11ec_92df_0242ac1c0002row23_col1\" class=\"data row23 col1\" >3533</td>\n",
              "            </tr>\n",
              "            <tr>\n",
              "                        <th id=\"T_94e13650_4908_11ec_92df_0242ac1c0002level0_row24\" class=\"row_heading level0 row24\" >F1250</th>\n",
              "                        <td id=\"T_94e13650_4908_11ec_92df_0242ac1c0002row24_col0\" class=\"data row24 col0\" >3920</td>\n",
              "                        <td id=\"T_94e13650_4908_11ec_92df_0242ac1c0002row24_col1\" class=\"data row24 col1\" >2913</td>\n",
              "            </tr>\n",
              "            <tr>\n",
              "                        <th id=\"T_94e13650_4908_11ec_92df_0242ac1c0002level0_row25\" class=\"row_heading level0 row25\" >WORKERSRANGE</th>\n",
              "                        <td id=\"T_94e13650_4908_11ec_92df_0242ac1c0002row25_col0\" class=\"data row25 col0\" >2387</td>\n",
              "                        <td id=\"T_94e13650_4908_11ec_92df_0242ac1c0002row25_col1\" class=\"data row25 col1\" >1911</td>\n",
              "            </tr>\n",
              "            <tr>\n",
              "                        <th id=\"T_94e13650_4908_11ec_92df_0242ac1c0002level0_row26\" class=\"row_heading level0 row26\" >COUNTCOOWNERFCSM</th>\n",
              "                        <td id=\"T_94e13650_4908_11ec_92df_0242ac1c0002row26_col0\" class=\"data row26 col0\" >2331</td>\n",
              "                        <td id=\"T_94e13650_4908_11ec_92df_0242ac1c0002row26_col1\" class=\"data row26 col1\" >1818</td>\n",
              "            </tr>\n",
              "            <tr>\n",
              "                        <th id=\"T_94e13650_4908_11ec_92df_0242ac1c0002level0_row27\" class=\"row_heading level0 row27\" >COUNTCOOWNERROSSTAT</th>\n",
              "                        <td id=\"T_94e13650_4908_11ec_92df_0242ac1c0002row27_col0\" class=\"data row27 col0\" >2331</td>\n",
              "                        <td id=\"T_94e13650_4908_11ec_92df_0242ac1c0002row27_col1\" class=\"data row27 col1\" >1818</td>\n",
              "            </tr>\n",
              "            <tr>\n",
              "                        <th id=\"T_94e13650_4908_11ec_92df_0242ac1c0002level0_row28\" class=\"row_heading level0 row28\" >COUNTCOOWNEREGRUL</th>\n",
              "                        <td id=\"T_94e13650_4908_11ec_92df_0242ac1c0002row28_col0\" class=\"data row28 col0\" >2331</td>\n",
              "                        <td id=\"T_94e13650_4908_11ec_92df_0242ac1c0002row28_col1\" class=\"data row28 col1\" >1818</td>\n",
              "            </tr>\n",
              "            <tr>\n",
              "                        <th id=\"T_94e13650_4908_11ec_92df_0242ac1c0002level0_row29\" class=\"row_heading level0 row29\" >COUNTBRANCHROSSTAT</th>\n",
              "                        <td id=\"T_94e13650_4908_11ec_92df_0242ac1c0002row29_col0\" class=\"data row29 col0\" >2331</td>\n",
              "                        <td id=\"T_94e13650_4908_11ec_92df_0242ac1c0002row29_col1\" class=\"data row29 col1\" >1818</td>\n",
              "            </tr>\n",
              "            <tr>\n",
              "                        <th id=\"T_94e13650_4908_11ec_92df_0242ac1c0002level0_row30\" class=\"row_heading level0 row30\" >COUNTBRANCHEGRUL</th>\n",
              "                        <td id=\"T_94e13650_4908_11ec_92df_0242ac1c0002row30_col0\" class=\"data row30 col0\" >2331</td>\n",
              "                        <td id=\"T_94e13650_4908_11ec_92df_0242ac1c0002row30_col1\" class=\"data row30 col1\" >1818</td>\n",
              "            </tr>\n",
              "            <tr>\n",
              "                        <th id=\"T_94e13650_4908_11ec_92df_0242ac1c0002level0_row31\" class=\"row_heading level0 row31\" >OKOGU_GROUP</th>\n",
              "                        <td id=\"T_94e13650_4908_11ec_92df_0242ac1c0002row31_col0\" class=\"data row31 col0\" >2245</td>\n",
              "                        <td id=\"T_94e13650_4908_11ec_92df_0242ac1c0002row31_col1\" class=\"data row31 col1\" >1783</td>\n",
              "            </tr>\n",
              "            <tr>\n",
              "                        <th id=\"T_94e13650_4908_11ec_92df_0242ac1c0002level0_row32\" class=\"row_heading level0 row32\" >EGRPOINCLUDED</th>\n",
              "                        <td id=\"T_94e13650_4908_11ec_92df_0242ac1c0002row32_col0\" class=\"data row32 col0\" >2244</td>\n",
              "                        <td id=\"T_94e13650_4908_11ec_92df_0242ac1c0002row32_col1\" class=\"data row32 col1\" >1783</td>\n",
              "            </tr>\n",
              "            <tr>\n",
              "                        <th id=\"T_94e13650_4908_11ec_92df_0242ac1c0002level0_row33\" class=\"row_heading level0 row33\" >OKFS_GROUP</th>\n",
              "                        <td id=\"T_94e13650_4908_11ec_92df_0242ac1c0002row33_col0\" class=\"data row33 col0\" >2244</td>\n",
              "                        <td id=\"T_94e13650_4908_11ec_92df_0242ac1c0002row33_col1\" class=\"data row33 col1\" >1783</td>\n",
              "            </tr>\n",
              "            <tr>\n",
              "                        <th id=\"T_94e13650_4908_11ec_92df_0242ac1c0002level0_row34\" class=\"row_heading level0 row34\" >OKOPF_GROUP</th>\n",
              "                        <td id=\"T_94e13650_4908_11ec_92df_0242ac1c0002row34_col0\" class=\"data row34 col0\" >2244</td>\n",
              "                        <td id=\"T_94e13650_4908_11ec_92df_0242ac1c0002row34_col1\" class=\"data row34 col1\" >1783</td>\n",
              "            </tr>\n",
              "            <tr>\n",
              "                        <th id=\"T_94e13650_4908_11ec_92df_0242ac1c0002level0_row35\" class=\"row_heading level0 row35\" >TELEPHONECOUNT</th>\n",
              "                        <td id=\"T_94e13650_4908_11ec_92df_0242ac1c0002row35_col0\" class=\"data row35 col0\" >2244</td>\n",
              "                        <td id=\"T_94e13650_4908_11ec_92df_0242ac1c0002row35_col1\" class=\"data row35 col1\" >1783</td>\n",
              "            </tr>\n",
              "            <tr>\n",
              "                        <th id=\"T_94e13650_4908_11ec_92df_0242ac1c0002level0_row36\" class=\"row_heading level0 row36\" >MANAGERCOUNTINCOUNTRY</th>\n",
              "                        <td id=\"T_94e13650_4908_11ec_92df_0242ac1c0002row36_col0\" class=\"data row36 col0\" >2244</td>\n",
              "                        <td id=\"T_94e13650_4908_11ec_92df_0242ac1c0002row36_col1\" class=\"data row36 col1\" >1783</td>\n",
              "            </tr>\n",
              "            <tr>\n",
              "                        <th id=\"T_94e13650_4908_11ec_92df_0242ac1c0002level0_row37\" class=\"row_heading level0 row37\" >MANAGERCOUNTINREGION</th>\n",
              "                        <td id=\"T_94e13650_4908_11ec_92df_0242ac1c0002row37_col0\" class=\"data row37 col0\" >2244</td>\n",
              "                        <td id=\"T_94e13650_4908_11ec_92df_0242ac1c0002row37_col1\" class=\"data row37 col1\" >1783</td>\n",
              "            </tr>\n",
              "            <tr>\n",
              "                        <th id=\"T_94e13650_4908_11ec_92df_0242ac1c0002level0_row38\" class=\"row_heading level0 row38\" >MANAGERINNCOUNT</th>\n",
              "                        <td id=\"T_94e13650_4908_11ec_92df_0242ac1c0002row38_col0\" class=\"data row38 col0\" >2244</td>\n",
              "                        <td id=\"T_94e13650_4908_11ec_92df_0242ac1c0002row38_col1\" class=\"data row38 col1\" >1783</td>\n",
              "            </tr>\n",
              "            <tr>\n",
              "                        <th id=\"T_94e13650_4908_11ec_92df_0242ac1c0002level0_row39\" class=\"row_heading level0 row39\" >TAXREGPAY_REGDATE</th>\n",
              "                        <td id=\"T_94e13650_4908_11ec_92df_0242ac1c0002row39_col0\" class=\"data row39 col0\" >862</td>\n",
              "                        <td id=\"T_94e13650_4908_11ec_92df_0242ac1c0002row39_col1\" class=\"data row39 col1\" >384</td>\n",
              "            </tr>\n",
              "            <tr>\n",
              "                        <th id=\"T_94e13650_4908_11ec_92df_0242ac1c0002level0_row40\" class=\"row_heading level0 row40\" >TAXREG_REGDATE</th>\n",
              "                        <td id=\"T_94e13650_4908_11ec_92df_0242ac1c0002row40_col0\" class=\"data row40 col0\" >779</td>\n",
              "                        <td id=\"T_94e13650_4908_11ec_92df_0242ac1c0002row40_col1\" class=\"data row40 col1\" >354</td>\n",
              "            </tr>\n",
              "            <tr>\n",
              "                        <th id=\"T_94e13650_4908_11ec_92df_0242ac1c0002level0_row41\" class=\"row_heading level0 row41\" >OKATO_FED</th>\n",
              "                        <td id=\"T_94e13650_4908_11ec_92df_0242ac1c0002row41_col0\" class=\"data row41 col0\" >779</td>\n",
              "                        <td id=\"T_94e13650_4908_11ec_92df_0242ac1c0002row41_col1\" class=\"data row41 col1\" >349</td>\n",
              "            </tr>\n",
              "            <tr>\n",
              "                        <th id=\"T_94e13650_4908_11ec_92df_0242ac1c0002level0_row42\" class=\"row_heading level0 row42\" >DATEFIRSTREG</th>\n",
              "                        <td id=\"T_94e13650_4908_11ec_92df_0242ac1c0002row42_col0\" class=\"data row42 col0\" >777</td>\n",
              "                        <td id=\"T_94e13650_4908_11ec_92df_0242ac1c0002row42_col1\" class=\"data row42 col1\" >354</td>\n",
              "            </tr>\n",
              "            <tr>\n",
              "                        <th id=\"T_94e13650_4908_11ec_92df_0242ac1c0002level0_row43\" class=\"row_heading level0 row43\" >OKATO_REGIONCODE</th>\n",
              "                        <td id=\"T_94e13650_4908_11ec_92df_0242ac1c0002row43_col0\" class=\"data row43 col0\" >775</td>\n",
              "                        <td id=\"T_94e13650_4908_11ec_92df_0242ac1c0002row43_col1\" class=\"data row43 col1\" >349</td>\n",
              "            </tr>\n",
              "            <tr>\n",
              "                        <th id=\"T_94e13650_4908_11ec_92df_0242ac1c0002level0_row44\" class=\"row_heading level0 row44\" >OKVED_CODE</th>\n",
              "                        <td id=\"T_94e13650_4908_11ec_92df_0242ac1c0002row44_col0\" class=\"data row44 col0\" >691</td>\n",
              "                        <td id=\"T_94e13650_4908_11ec_92df_0242ac1c0002row44_col1\" class=\"data row44 col1\" >283</td>\n",
              "            </tr>\n",
              "            <tr>\n",
              "                        <th id=\"T_94e13650_4908_11ec_92df_0242ac1c0002level0_row45\" class=\"row_heading level0 row45\" >id_contract</th>\n",
              "                        <td id=\"T_94e13650_4908_11ec_92df_0242ac1c0002row45_col0\" class=\"data row45 col0\" >0</td>\n",
              "                        <td id=\"T_94e13650_4908_11ec_92df_0242ac1c0002row45_col1\" class=\"data row45 col1\" >0</td>\n",
              "            </tr>\n",
              "            <tr>\n",
              "                        <th id=\"T_94e13650_4908_11ec_92df_0242ac1c0002level0_row46\" class=\"row_heading level0 row46\" >id_client</th>\n",
              "                        <td id=\"T_94e13650_4908_11ec_92df_0242ac1c0002row46_col0\" class=\"data row46 col0\" >0</td>\n",
              "                        <td id=\"T_94e13650_4908_11ec_92df_0242ac1c0002row46_col1\" class=\"data row46 col1\" >0</td>\n",
              "            </tr>\n",
              "            <tr>\n",
              "                        <th id=\"T_94e13650_4908_11ec_92df_0242ac1c0002level0_row47\" class=\"row_heading level0 row47\" >SIGN_DATE</th>\n",
              "                        <td id=\"T_94e13650_4908_11ec_92df_0242ac1c0002row47_col0\" class=\"data row47 col0\" >0</td>\n",
              "                        <td id=\"T_94e13650_4908_11ec_92df_0242ac1c0002row47_col1\" class=\"data row47 col1\" >0</td>\n",
              "            </tr>\n",
              "            <tr>\n",
              "                        <th id=\"T_94e13650_4908_11ec_92df_0242ac1c0002level0_row48\" class=\"row_heading level0 row48\" >IP_flag</th>\n",
              "                        <td id=\"T_94e13650_4908_11ec_92df_0242ac1c0002row48_col0\" class=\"data row48 col0\" >0</td>\n",
              "                        <td id=\"T_94e13650_4908_11ec_92df_0242ac1c0002row48_col1\" class=\"data row48 col1\" >0</td>\n",
              "            </tr>\n",
              "            <tr>\n",
              "                        <th id=\"T_94e13650_4908_11ec_92df_0242ac1c0002level0_row49\" class=\"row_heading level0 row49\" >client_enters</th>\n",
              "                        <td id=\"T_94e13650_4908_11ec_92df_0242ac1c0002row49_col0\" class=\"data row49 col0\" >0</td>\n",
              "                        <td id=\"T_94e13650_4908_11ec_92df_0242ac1c0002row49_col1\" class=\"data row49 col1\" >0</td>\n",
              "            </tr>\n",
              "    </tbody></table>"
            ],
            "text/plain": [
              "<pandas.io.formats.style.Styler at 0x7f45f2c59d50>"
            ]
          },
          "metadata": {},
          "execution_count": 1415
        }
      ]
    },
    {
      "cell_type": "markdown",
      "metadata": {
        "id": "MT-hOjQOnU6t"
      },
      "source": [
        "Имеется большое количество пропущенных значений как в train, так и в test датасете (стоит помнить, что количество объектов в test датасете меньше чем в train)."
      ]
    },
    {
      "cell_type": "markdown",
      "metadata": {
        "id": "dqeX08QTBjvC"
      },
      "source": [
        "###2.2 Визуализируем распределение признаков"
      ]
    },
    {
      "cell_type": "code",
      "metadata": {
        "colab": {
          "base_uri": "https://localhost:8080/",
          "height": 0
        },
        "id": "vXpV0NE5AmCE",
        "outputId": "2c0a494e-b2ed-4b23-b230-b63ed1a39d3c"
      },
      "source": [
        "#Посмотрим распределения целевого признака\n",
        "plt.bar(df_main.groupby('TARGET').count().index, df_main.groupby('TARGET').count().iloc[:, 0])\n",
        "plt.title(descrip[descrip['Название поля'] == 'TARGET']['Описание'].values[0])\n",
        "\n",
        "plt.show()"
      ],
      "execution_count": 1416,
      "outputs": [
        {
          "output_type": "display_data",
          "data": {
            "image/png": "[encoded data removed]",
            "text/plain": [
              "<Figure size 432x288 with 1 Axes>"
            ]
          },
          "metadata": {
            "needs_background": "light"
          }
        }
      ]
    },
    {
      "cell_type": "markdown",
      "metadata": {
        "id": "_oCrJyccMVo9"
      },
      "source": [
        "Следует отметить, что датасет несбалансирован. В дальнейшем это будет учтено."
      ]
    },
    {
      "cell_type": "code",
      "metadata": {
        "colab": {
          "base_uri": "https://localhost:8080/",
          "height": 0
        },
        "id": "KEIHfR1bU031",
        "outputId": "6b0e3ab4-b16d-461c-f8bf-fcda0c83b4cd"
      },
      "source": [
        "#Посмотрим распределения ИП\n",
        "plt.bar(df_main[df_main.TARGET == 0].groupby('IP_flag').count().index, df_main[df_main.TARGET == 0].groupby('IP_flag').count().iloc[:, 0])\n",
        "plt.bar(df_main[df_main.TARGET == 1].groupby('IP_flag').count().index, df_main[df_main.TARGET == 1].groupby('IP_flag').count().iloc[:, 0], alpha=0.5)\n",
        "\n",
        "plt.title(descrip[descrip['Название поля'] == 'IP_flag']['Описание'].values[0])\n",
        "\n",
        "plt.show()"
      ],
      "execution_count": 1417,
      "outputs": [
        {
          "output_type": "display_data",
          "data": {
            "image/png": "[encoded data removed]",
            "text/plain": [
              "<Figure size 432x288 with 1 Axes>"
            ]
          },
          "metadata": {
            "needs_background": "light"
          }
        }
      ]
    },
    {
      "cell_type": "code",
      "metadata": {
        "id": "ZnWVGGHDAmHT"
      },
      "source": [
        "#Переведём столбцы с датой в тип datetime\n",
        "\n",
        "X['DATEFIRSTREG'] = pd.to_datetime(X['DATEFIRSTREG'], format='%d%b%Y:%H:%M:%S')\n",
        "X['TAXREG_REGDATE'] = pd.to_datetime(X['TAXREG_REGDATE'], format='%d%b%Y:%H:%M:%S')\n",
        "X['TAXREGPAY_REGDATE'] = pd.to_datetime(X['TAXREGPAY_REGDATE'], format='%d%b%Y:%H:%M:%S')\n",
        "X['BIRTHDATE'] = pd.to_datetime(X['BIRTHDATE'], format='%d%b%Y:%H:%M:%S')\n",
        "\n",
        "X_test['DATEFIRSTREG'] = pd.to_datetime(X_test['DATEFIRSTREG'], format='%d%b%Y:%H:%M:%S')\n",
        "X_test['TAXREG_REGDATE'] = pd.to_datetime(X_test['TAXREG_REGDATE'], format='%d%b%Y:%H:%M:%S')\n",
        "X_test['TAXREGPAY_REGDATE'] = pd.to_datetime(X_test['TAXREGPAY_REGDATE'], format='%d%b%Y:%H:%M:%S')\n",
        "X_test['BIRTHDATE'] = pd.to_datetime(X_test['BIRTHDATE'], format='%d%b%Y:%H:%M:%S')"
      ],
      "execution_count": 1418,
      "outputs": []
    },
    {
      "cell_type": "code",
      "metadata": {
        "colab": {
          "base_uri": "https://localhost:8080/"
        },
        "id": "Yd9Zs41ak3il",
        "outputId": "8b0f668b-1b57-47bf-dae7-cfefc35e0a6b"
      },
      "source": [
        "#Отделим цифровые и не цифровые признаки,а также datetime\n",
        "columns_num = X.select_dtypes(exclude=['object', 'datetime64[ns]']).columns\n",
        "columns_obj = X.select_dtypes('object').columns\n",
        "columns_date = X.select_dtypes('datetime64[ns]').columns\n",
        "\n",
        "len(columns_num), len(columns_obj), len(columns_date)"
      ],
      "execution_count": 1419,
      "outputs": [
        {
          "output_type": "execute_result",
          "data": {
            "text/plain": [
              "(38, 8, 4)"
            ]
          },
          "metadata": {},
          "execution_count": 1419
        }
      ]
    },
    {
      "cell_type": "code",
      "metadata": {
        "id": "m1nqYp0oZHG_"
      },
      "source": [
        "#Отделим часть цифровых признаков для подробной визуализации\n",
        "columns_num_1 = ['OKATO_REGIONCODE', 'OKATO_FED', 'AGE']"
      ],
      "execution_count": 1420,
      "outputs": []
    },
    {
      "cell_type": "code",
      "metadata": {
        "id": "iR-VDXt-Twgn"
      },
      "source": [
        "#Уберём из общего числа цифровых признаков не нужные признаки\n",
        "\n",
        "columns_num = columns_num.drop(columns_num_1)\n",
        "columns_num = columns_num.drop(['id_contract', 'id_client', 'IP_flag'])"
      ],
      "execution_count": 1421,
      "outputs": []
    },
    {
      "cell_type": "code",
      "metadata": {
        "id": "ozctcnx4Rz39"
      },
      "source": [
        "#Уберём из общего числа не цифровых признаков не нужные признаки\n",
        "\n",
        "columns_obj = columns_obj.drop('OKVED_CODE')\n",
        "columns_obj = columns_obj.drop('SIGN_DATE')"
      ],
      "execution_count": 1422,
      "outputs": []
    },
    {
      "cell_type": "code",
      "metadata": {
        "id": "vym4dq2Rr612",
        "colab": {
          "base_uri": "https://localhost:8080/",
          "height": 0
        },
        "outputId": "715c35b0-ac7a-4bcf-93bc-4e91cf0e5574"
      },
      "source": [
        "# Визуализируем распределение цифровых признаков\n",
        "fig, axs = plt.subplots(ncols=4, nrows=8, figsize=(20, 25))\n",
        "plt.tight_layout() \n",
        "\n",
        "for i in range(8):\n",
        "  for j in range(4):\n",
        "    axs[i][j].hist(df_main[df_main.TARGET == 0][columns_num[i*4+j]], log=True)\n",
        "    axs[i][j].hist(df_main[df_main.TARGET == 1][columns_num[i*4+j]], log=True, alpha=0.5)\n",
        "\n",
        "    axs[i][j].set_title(columns_num[i*4+j])"
      ],
      "execution_count": 1423,
      "outputs": [
        {
          "output_type": "display_data",
          "data": {
            "image/png": "[encoded data removed]",
            "text/plain": [
              "<Figure size 1440x1800 with 32 Axes>"
            ]
          },
          "metadata": {
            "needs_background": "light"
          }
        }
      ]
    },
    {
      "cell_type": "code",
      "metadata": {
        "colab": {
          "base_uri": "https://localhost:8080/",
          "height": 0
        },
        "id": "NNPr8XacXihQ",
        "outputId": "b0593b04-9436-4e62-998d-09b9efa820e6"
      },
      "source": [
        "#Визуализируем 3 признака более подробно\n",
        "\n",
        "fig, axs = plt.subplots(ncols=3, nrows=1, figsize=(20, 6))\n",
        "plt.tight_layout() \n",
        "\n",
        "for i in range(3):\n",
        "  axs[i].hist(df_main[df_main.TARGET == 0][columns_num_1[i]])\n",
        "  axs[i].hist(df_main[df_main.TARGET == 1][columns_num_1[i]], alpha=0.5)\n",
        "  axs[i].set_title(descrip[descrip['Название поля'] == columns_num_1[i]]['Описание'].values[0])"
      ],
      "execution_count": 1424,
      "outputs": [
        {
          "output_type": "display_data",
          "data": {
            "image/png": "[encoded data removed]",
            "text/plain": [
              "<Figure size 1440x432 with 3 Axes>"
            ]
          },
          "metadata": {
            "needs_background": "light"
          }
        }
      ]
    },
    {
      "cell_type": "code",
      "metadata": {
        "colab": {
          "base_uri": "https://localhost:8080/",
          "height": 0
        },
        "id": "PALHtMSqk3lM",
        "outputId": "644732ee-b73d-4854-9b18-de1d0724bf9c"
      },
      "source": [
        "# Визуализируем распределение не цифровых признаков\n",
        "fig, axs = plt.subplots(ncols=3, nrows=2, figsize=(15, 10))\n",
        "plt.tight_layout() \n",
        "\n",
        "for i in range(2):\n",
        "  for j in range(3):\n",
        "    axs[i][j].pie(X.groupby(columns_obj[i*2+j]).count()['id_client'], autopct='%.2f')\n",
        "    axs[i][j].legend(labels=X.groupby(columns_obj[i*2+j]).count().index, loc='upper left', bbox_to_anchor=(0.8, 1))\n",
        "    axs[i][j].set_title(descrip[descrip['Название поля'] == columns_obj[i*2+j]]['Описание'].values[0])"
      ],
      "execution_count": 1425,
      "outputs": [
        {
          "output_type": "display_data",
          "data": {
            "image/png": "[encoded data removed]",
            "text/plain": [
              "<Figure size 1080x720 with 6 Axes>"
            ]
          },
          "metadata": {}
        }
      ]
    },
    {
      "cell_type": "code",
      "metadata": {
        "colab": {
          "base_uri": "https://localhost:8080/",
          "height": 0
        },
        "id": "JAQ33mvjw1BV",
        "outputId": "1103c536-f705-4d8e-ade7-6c5bc7bd6d49"
      },
      "source": [
        "#Отдельно визуализируем гражданство\n",
        "\n",
        "plt.pie(X.groupby(columns_obj[-1]).count()['id_client'], autopct='%.1f')\n",
        "plt.legend(labels=X.groupby(columns_obj[-1]).count().index, loc='upper left', bbox_to_anchor=(0.8, 1))\n",
        "plt.title(descrip[descrip['Название поля'] == columns_obj[-1]]['Описание'].values[0])\n",
        "\n",
        "plt.show()"
      ],
      "execution_count": 1426,
      "outputs": [
        {
          "output_type": "display_data",
          "data": {
            "image/png": "[encoded data removed]",
            "text/plain": [
              "<Figure size 432x288 with 1 Axes>"
            ]
          },
          "metadata": {}
        }
      ]
    },
    {
      "cell_type": "code",
      "metadata": {
        "colab": {
          "base_uri": "https://localhost:8080/",
          "height": 0
        },
        "id": "MDuTL0NCk3qk",
        "outputId": "2db0f8fe-d414-4dee-8660-38ffc2252cae"
      },
      "source": [
        "# #Визуализируем по дате\n",
        "fig, axs = plt.subplots(ncols=4, nrows=1, figsize=(25, 7))\n",
        "\n",
        "for i in range(4):\n",
        "  axs[i].plot(X.groupby(columns_date[i]).count()['id_client'])\n",
        "  axs[i].set_title(descrip[descrip['Название поля'] == columns_date[i]]['Описание'].values[0])\n",
        "  axs[i].tick_params(axis='x', labelrotation=90)\n",
        "plt.show()"
      ],
      "execution_count": 1427,
      "outputs": [
        {
          "output_type": "display_data",
          "data": {
            "image/png": "[encoded data removed]",
            "text/plain": [
              "<Figure size 1800x504 with 4 Axes>"
            ]
          },
          "metadata": {
            "needs_background": "light"
          }
        }
      ]
    },
    {
      "cell_type": "markdown",
      "metadata": {
        "id": "KRCr0qBoffT9"
      },
      "source": [
        "\n",
        "\n",
        "---\n",
        "\n",
        "\n",
        "\n",
        "## 3 Отредактируем признаки"
      ]
    },
    {
      "cell_type": "markdown",
      "metadata": {
        "id": "I-Y8Av_XfvdX"
      },
      "source": [
        "### 3.1 Переведём не цифровые признаки в цифровые"
      ]
    },
    {
      "cell_type": "markdown",
      "metadata": {
        "id": "DPSnYyow_eKL"
      },
      "source": [
        "OKVED_CODE"
      ]
    },
    {
      "cell_type": "code",
      "metadata": {
        "id": "TKh_wat0_dGE"
      },
      "source": [
        "#Создадим словари значений для OKVED_CODE\n",
        "\n",
        "OKVED_CODE_dict = {j:i for i, j in enumerate(pd.unique(X['OKVED_CODE']))}\n",
        "OKVED_CODE_dict_test = {j:i for i, j in enumerate(pd.unique(X_test['OKVED_CODE']))}\n",
        "\n",
        "OKVED_CODE_dict = list(OKVED_CODE_dict.keys())\n",
        "OKVED_CODE_dict_test = list(OKVED_CODE_dict_test.keys())\n",
        "\n",
        "OKVED_CODE_dict_train_test = set(OKVED_CODE_dict + OKVED_CODE_dict_test)"
      ],
      "execution_count": 1428,
      "outputs": []
    },
    {
      "cell_type": "code",
      "metadata": {
        "id": "MXQyC1Uo_dJc"
      },
      "source": [
        "OKVED_CODE_dict_train_test = {j:i for i, j in enumerate(OKVED_CODE_dict_train_test)}"
      ],
      "execution_count": 1429,
      "outputs": []
    },
    {
      "cell_type": "code",
      "metadata": {
        "id": "PWCkwiBu_dON"
      },
      "source": [
        "# Заменим не цифровые значения\n",
        "\n",
        "X['OKVED_CODE'] = X['OKVED_CODE'].map(OKVED_CODE_dict_train_test)\n",
        "X_test['OKVED_CODE'] = X_test['OKVED_CODE'].map(OKVED_CODE_dict_train_test)"
      ],
      "execution_count": 1430,
      "outputs": []
    },
    {
      "cell_type": "markdown",
      "metadata": {
        "id": "lQyYbc_R_duj"
      },
      "source": [
        "Остальные признаки"
      ]
    },
    {
      "cell_type": "code",
      "metadata": {
        "id": "7-owbB_1febI"
      },
      "source": [
        "#Создадим словари значений\n",
        "\n",
        "for i in range(len(columns_obj)):\n",
        "  values_list = pd.unique(X[columns_obj[i]])\n",
        "\n",
        "  if i<4:\n",
        "    locals()[columns_obj[i] + str('_dict')] = {j:i for i, j in enumerate(values_list[1:])}\n",
        "    locals()[columns_obj[i] + str('_dict')][values_list[0]] = len(values_list)-1\n",
        "  else:\n",
        "    locals()[columns_obj[i] + str('_dict')] = {j:i for i, j in enumerate(values_list[:])}"
      ],
      "execution_count": 1431,
      "outputs": []
    },
    {
      "cell_type": "code",
      "metadata": {
        "id": "cEqVetq25hgi"
      },
      "source": [
        "# # Словари значений\n",
        "\n",
        "# OKFS_GROUP_dict\n",
        "# OKOPF_GROUP_dict\n",
        "# OKOGU_GROUP_dict\n",
        "# WORKERSRANGE_dict\n",
        "# SEX_NAME_dict\n",
        "# CITIZENSHIP_NAME_dict"
      ],
      "execution_count": 1432,
      "outputs": []
    },
    {
      "cell_type": "code",
      "metadata": {
        "id": "JUY7RdjgiRJX"
      },
      "source": [
        "OKFS_GROUP_dict[list(OKFS_GROUP_dict.keys())[0]] = 5\n",
        "\n",
        "OKOPF_GROUP_dict[list(OKOPF_GROUP_dict.keys())[0]] = 5\n",
        "\n",
        "# OKOGU_GROUP_dict[list(OKOGU_GROUP_dict.keys())[0]] = 4"
      ],
      "execution_count": 1433,
      "outputs": []
    },
    {
      "cell_type": "code",
      "metadata": {
        "id": "E75KyNGLcRJ-"
      },
      "source": [
        "WORKERSRANGE_dict[list(WORKERSRANGE_dict.keys())[0]] = 6"
      ],
      "execution_count": 1434,
      "outputs": []
    },
    {
      "cell_type": "code",
      "metadata": {
        "id": "mkMSbcVVNYwn"
      },
      "source": [
        "# Заменим не цифровые значения\n",
        "for i in range(len(columns_obj)):\n",
        "  X[columns_obj[i]] = X[columns_obj[i]].map(locals()[columns_obj[i] + str('_dict')])\n",
        "\n",
        "for i in range(len(columns_obj)):\n",
        "  X_test[columns_obj[i]] = X_test[columns_obj[i]].map(locals()[columns_obj[i] + str('_dict')])"
      ],
      "execution_count": 1435,
      "outputs": []
    },
    {
      "cell_type": "code",
      "metadata": {
        "colab": {
          "base_uri": "https://localhost:8080/",
          "height": 238
        },
        "id": "3SznubvjQGq5",
        "outputId": "71163f8b-8f56-48fb-ff5e-65f72ef826b0"
      },
      "source": [
        "#Посмотрим на корреляцию не цифровых признаков с целевым признаком\n",
        "\n",
        "X[columns_obj].corrwith(y).sort_values(ascending=False).to_frame().style.bar(align='zero', vmax=1)"
      ],
      "execution_count": 1436,
      "outputs": [
        {
          "output_type": "execute_result",
          "data": {
            "text/html": [
              "<style  type=\"text/css\" >\n",
              "#T_9fbbf628_4908_11ec_92df_0242ac1c0002row0_col0{\n",
              "            width:  10em;\n",
              "             height:  80%;\n",
              "            background:  linear-gradient(90deg, transparent 50.0%, #d65f5f 50.0%, #d65f5f 61.2%, transparent 61.2%);\n",
              "        }#T_9fbbf628_4908_11ec_92df_0242ac1c0002row1_col0{\n",
              "            width:  10em;\n",
              "             height:  80%;\n",
              "            background:  linear-gradient(90deg, transparent 50.0%, #d65f5f 50.0%, #d65f5f 58.6%, transparent 58.6%);\n",
              "        }#T_9fbbf628_4908_11ec_92df_0242ac1c0002row2_col0{\n",
              "            width:  10em;\n",
              "             height:  80%;\n",
              "            background:  linear-gradient(90deg, transparent 50.0%, #d65f5f 50.0%, #d65f5f 57.5%, transparent 57.5%);\n",
              "        }#T_9fbbf628_4908_11ec_92df_0242ac1c0002row3_col0{\n",
              "            width:  10em;\n",
              "             height:  80%;\n",
              "            background:  linear-gradient(90deg, transparent 50.0%, #d65f5f 50.0%, #d65f5f 52.6%, transparent 52.6%);\n",
              "        }#T_9fbbf628_4908_11ec_92df_0242ac1c0002row4_col0{\n",
              "            width:  10em;\n",
              "             height:  80%;\n",
              "            background:  linear-gradient(90deg, transparent 50.0%, #d65f5f 50.0%, #d65f5f 52.5%, transparent 52.5%);\n",
              "        }#T_9fbbf628_4908_11ec_92df_0242ac1c0002row5_col0{\n",
              "            width:  10em;\n",
              "             height:  80%;\n",
              "            background:  linear-gradient(90deg, transparent 50.0%, #d65f5f 50.0%, #d65f5f 52.4%, transparent 52.4%);\n",
              "        }</style><table id=\"T_9fbbf628_4908_11ec_92df_0242ac1c0002\" class=\"dataframe\"><thead>    <tr>        <th class=\"blank level0\" ></th>        <th class=\"col_heading level0 col0\" >0</th>    </tr></thead><tbody>\n",
              "                <tr>\n",
              "                        <th id=\"T_9fbbf628_4908_11ec_92df_0242ac1c0002level0_row0\" class=\"row_heading level0 row0\" >WORKERSRANGE</th>\n",
              "                        <td id=\"T_9fbbf628_4908_11ec_92df_0242ac1c0002row0_col0\" class=\"data row0 col0\" >0.223389</td>\n",
              "            </tr>\n",
              "            <tr>\n",
              "                        <th id=\"T_9fbbf628_4908_11ec_92df_0242ac1c0002level0_row1\" class=\"row_heading level0 row1\" >OKFS_GROUP</th>\n",
              "                        <td id=\"T_9fbbf628_4908_11ec_92df_0242ac1c0002row1_col0\" class=\"data row1 col0\" >0.171896</td>\n",
              "            </tr>\n",
              "            <tr>\n",
              "                        <th id=\"T_9fbbf628_4908_11ec_92df_0242ac1c0002level0_row2\" class=\"row_heading level0 row2\" >OKOPF_GROUP</th>\n",
              "                        <td id=\"T_9fbbf628_4908_11ec_92df_0242ac1c0002row2_col0\" class=\"data row2 col0\" >0.149829</td>\n",
              "            </tr>\n",
              "            <tr>\n",
              "                        <th id=\"T_9fbbf628_4908_11ec_92df_0242ac1c0002level0_row3\" class=\"row_heading level0 row3\" >OKOGU_GROUP</th>\n",
              "                        <td id=\"T_9fbbf628_4908_11ec_92df_0242ac1c0002row3_col0\" class=\"data row3 col0\" >0.051721</td>\n",
              "            </tr>\n",
              "            <tr>\n",
              "                        <th id=\"T_9fbbf628_4908_11ec_92df_0242ac1c0002level0_row4\" class=\"row_heading level0 row4\" >CITIZENSHIP_NAME</th>\n",
              "                        <td id=\"T_9fbbf628_4908_11ec_92df_0242ac1c0002row4_col0\" class=\"data row4 col0\" >0.050664</td>\n",
              "            </tr>\n",
              "            <tr>\n",
              "                        <th id=\"T_9fbbf628_4908_11ec_92df_0242ac1c0002level0_row5\" class=\"row_heading level0 row5\" >SEX_NAME</th>\n",
              "                        <td id=\"T_9fbbf628_4908_11ec_92df_0242ac1c0002row5_col0\" class=\"data row5 col0\" >0.047250</td>\n",
              "            </tr>\n",
              "    </tbody></table>"
            ],
            "text/plain": [
              "<pandas.io.formats.style.Styler at 0x7f45e1a29650>"
            ]
          },
          "metadata": {},
          "execution_count": 1436
        }
      ]
    },
    {
      "cell_type": "markdown",
      "metadata": {
        "id": "zCaXxxhSR64u"
      },
      "source": [
        "Видна слабая корреляция признаков"
      ]
    },
    {
      "cell_type": "markdown",
      "metadata": {
        "id": "bDiCrHF72tuw"
      },
      "source": [
        "### 3.2 Объединим некоторые признаки (mute)"
      ]
    },
    {
      "cell_type": "markdown",
      "metadata": {
        "id": "AU6-_JaGikas"
      },
      "source": [
        "Изменим данные по средствам за текущий и предыдущий период. На их основе создадим новые признаки по изменению сдреств с прошлого периода."
      ]
    },
    {
      "cell_type": "code",
      "metadata": {
        "id": "G_PFIfrLi2gj"
      },
      "source": [
        "# finance_change_columns = ['F1150_chg', 'F1230_chg', 'F1410_chg', 'F1510_chg', 'F1520_chg', 'F2110_chg', 'F2120_chg', 'F2200_chg', \n",
        "#                           'F2210_chg', 'F2220_chg', 'F2300_chg', 'F2320_chg', 'F2330_chg', 'F2400_chg']"
      ],
      "execution_count": 1437,
      "outputs": []
    },
    {
      "cell_type": "code",
      "metadata": {
        "id": "SwgPcDRHi5iL"
      },
      "source": [
        "# current_period_test = X_test.loc[:, ['F1150', 'F1230', 'F1410','F1510','F1520','F2110',\n",
        "#                                      'F2120','F2200','F2210','F2220','F2300','F2320','F2330','F2400',]]\n",
        "\n",
        "# last_period_test = X_test.loc[:, ['F1150_LAG1', 'F1230_LAG1', 'F1410_LAG1','F1510_LAG1','F1520_LAG1','F2110_LAG1','F2120_LAG1',\n",
        "#                                   'F2200_LAG1','F2210_LAG1','F2220_LAG1','F2300_LAG1','F2320_LAG1','F2330_LAG1','F2400_LAG1',]]"
      ],
      "execution_count": 1438,
      "outputs": []
    },
    {
      "cell_type": "code",
      "metadata": {
        "id": "Kx1g5u2je0aT"
      },
      "source": [
        "# #Посчитаем разницу за прошлый и текущий период для train и test\n",
        "\n",
        "# finance_change = pd.DataFrame(current_period.values - last_period.values, columns=current_period.columns, index=current_period.index)\n",
        "# finance_change_test = pd.DataFrame(current_period_test.values - last_period_test.values, columns=current_period_test.columns, index=current_period_test.index)"
      ],
      "execution_count": 1439,
      "outputs": []
    },
    {
      "cell_type": "code",
      "metadata": {
        "id": "J6fMe2TciWjU"
      },
      "source": [
        "# #Изменим название столбцов\n",
        "\n",
        "# finance_change.columns = finance_change_columns\n",
        "# finance_change_test.columns = finance_change_columns"
      ],
      "execution_count": 1440,
      "outputs": []
    },
    {
      "cell_type": "code",
      "metadata": {
        "id": "5z1K-h7H26Mt"
      },
      "source": [
        "# #Добавляем разницу в наши датасеты и удаляем ненужные признаки\n",
        "\n",
        "# X = X.merge(finance_change, left_index=True, right_index=True, how='left')\n",
        "# X = X.drop(current_period.columns, axis=1)\n",
        "# X = X.drop(last_period.columns, axis=1)\n",
        "\n",
        "# X_test = X_test.merge(finance_change_test, left_index=True, right_index=True, how='left')\n",
        "# X_test = X_test.drop(current_period_test.columns, axis=1)\n",
        "# X_test = X_test.drop(last_period_test.columns, axis=1)"
      ],
      "execution_count": 1441,
      "outputs": []
    },
    {
      "cell_type": "code",
      "metadata": {
        "id": "sdS_qlke_msb"
      },
      "source": [
        "# #Добавим эти признаки в df_main для визуализации с TARGET\n",
        "\n",
        "# df_main = df_main.merge(finance_change, left_index=True, right_index=True, how='left')"
      ],
      "execution_count": 1442,
      "outputs": []
    },
    {
      "cell_type": "code",
      "metadata": {
        "id": "cbHRjcni-u1H"
      },
      "source": [
        "# #Визуализируем распределение по признакам finance_change_columns\n",
        "# fig, axs = plt.subplots(ncols=7, nrows=2, figsize=(22, 9))\n",
        "# plt.tight_layout() \n",
        "\n",
        "# for i in range(2):\n",
        "#   for j in range(7):\n",
        "#     axs[i][j].hist(df_main[df_main.TARGET == 0][finance_change_columns[i*7+j]], log=True)\n",
        "#     axs[i][j].hist(df_main[df_main.TARGET == 1][finance_change_columns[i*7+j]], log=True, alpha=0.5)\n",
        "\n",
        "#     axs[i][j].set_title(finance_change_columns[i*7+j])"
      ],
      "execution_count": 1443,
      "outputs": []
    },
    {
      "cell_type": "markdown",
      "metadata": {
        "id": "oVAQ4Iu0ywIe"
      },
      "source": [
        "### 3.3 Переведём даты в цифровой формат"
      ]
    },
    {
      "cell_type": "code",
      "metadata": {
        "id": "IjJYIR0BFd-D"
      },
      "source": [
        "#Текущая дата\n",
        "\n",
        "current_date = dt.datetime.today()"
      ],
      "execution_count": 1444,
      "outputs": []
    },
    {
      "cell_type": "code",
      "metadata": {
        "id": "uVRGJ_Nk1QMl"
      },
      "source": [
        "X['SIGN_DATE'] = pd.to_datetime(X['SIGN_DATE'], format='%B-%Y')\n",
        "X_test['SIGN_DATE'] = pd.to_datetime(X_test['SIGN_DATE'], format='%B-%Y')"
      ],
      "execution_count": 1445,
      "outputs": []
    },
    {
      "cell_type": "code",
      "metadata": {
        "id": "8N0An2uMC_GN"
      },
      "source": [
        "#Посчитаем количество дней для каждой даты в train \n",
        "\n",
        "X['SIGN_DATE'] = (current_date - X['SIGN_DATE']).apply(lambda x: x.days)\n",
        "X['DATEFIRSTREG'] = (current_date - X['DATEFIRSTREG']).apply(lambda x: x.days)\n",
        "X['TAXREG_REGDATE'] = (current_date - X['TAXREG_REGDATE']).apply(lambda x: x.days)\n",
        "X['TAXREGPAY_REGDATE'] = (current_date - X['TAXREGPAY_REGDATE']).apply(lambda x: x.days)"
      ],
      "execution_count": 1446,
      "outputs": []
    },
    {
      "cell_type": "code",
      "metadata": {
        "id": "hOC2dv7rcL-Y"
      },
      "source": [
        "#Посчитаем количество дней для каждой даты в test\n",
        "\n",
        "X_test['SIGN_DATE'] = (current_date - X_test['SIGN_DATE']).apply(lambda x: x.days)\n",
        "X_test['DATEFIRSTREG'] = (current_date - X_test['DATEFIRSTREG']).apply(lambda x: x.days)\n",
        "X_test['TAXREG_REGDATE'] = (current_date - X_test['TAXREG_REGDATE']).apply(lambda x: x.days)\n",
        "X_test['TAXREGPAY_REGDATE'] = (current_date - X_test['TAXREGPAY_REGDATE']).apply(lambda x: x.days)"
      ],
      "execution_count": 1447,
      "outputs": []
    },
    {
      "cell_type": "markdown",
      "metadata": {
        "id": "iNAgG0QQf2jf"
      },
      "source": [
        "### 3.4 Очистим пропущенные значения"
      ]
    },
    {
      "cell_type": "markdown",
      "metadata": {
        "id": "gACm66vKu-_G"
      },
      "source": [
        "#### 3.3.1 train"
      ]
    },
    {
      "cell_type": "code",
      "metadata": {
        "id": "eRMxKqckOhZo"
      },
      "source": [
        "F_null_columns = ['F1100', 'F1110', 'F1180', 'F1190', 'F1210', 'F1250', 'F1260', 'F1350']\n",
        "\n",
        "EGRPOIN_null_columns = ['EGRPOINCLUDED']\n",
        "\n",
        "date_null_columns = ['DATEFIRSTREG', 'TAXREG_REGDATE', 'TAXREGPAY_REGDATE']\n",
        "\n",
        "OKATO_null_columns = ['OKATO_REGIONCODE', 'OKATO_FED']\n",
        "\n",
        "COUNT_null_columns = ['COUNTCOOWNERFCSM', 'COUNTCOOWNERROSSTAT', 'COUNTCOOWNEREGRUL', 'COUNTBRANCHROSSTAT', 'COUNTBRANCHEGRUL']\n",
        "\n",
        "TEL_MANAGER_null_columns = ['TELEPHONECOUNT', 'MANAGERCOUNTINCOUNTRY', 'MANAGERCOUNTINREGION', 'MANAGERINNCOUNT']\n",
        "\n",
        "finance_null_columns = ['PLAINTIFF_SUM_YEAR', 'DEFENDANT_CASESNUMBER_YEAR', 'DEFENDANT_SUM_YEAR', \n",
        "                        'THIRDOROTHERPERSON_YEAR', 'PLAINTIFF_CASESNUMBER_EVER','PLAINTIFF_SUM_EVER', \n",
        "                        'DEFENDANT_SUM_EVER', 'THIRDOROTHERPERSON_EVER', 'ADMITTEDNUMBER_233_YEAR', \n",
        "                        'SUM_233_YEAR', 'SUM_233_EVER', 'ADMITTEDNUMBER_95_YEAR', 'NOTADMITTEDNUMBER_95_YEAR',]"
      ],
      "execution_count": 1448,
      "outputs": []
    },
    {
      "cell_type": "code",
      "metadata": {
        "id": "1pzpXDCvRIVY"
      },
      "source": [
        "for i in range(len(F_null_columns)):\n",
        "  X[F_null_columns[i]] = X[F_null_columns[i]].fillna(0)\n",
        "\n",
        "for i in range(len(EGRPOIN_null_columns)):\n",
        "  X[EGRPOIN_null_columns[i]] = X[EGRPOIN_null_columns[i]].fillna(1)\n",
        "\n",
        "for i in range(len(date_null_columns)):\n",
        "  X[date_null_columns[i]] = X[date_null_columns[i]].fillna(X[date_null_columns[i]].min())\n",
        "\n",
        "for i in range(len(OKATO_null_columns)):\n",
        "  X[OKATO_null_columns[i]] = X[OKATO_null_columns[i]].fillna(X[OKATO_null_columns[i]].value_counts().index[0])\n",
        "\n",
        "for i in range(len(COUNT_null_columns)):\n",
        "  X[COUNT_null_columns[i]] = X[COUNT_null_columns[i]].fillna(0)\n",
        "\n",
        "for i in range(len(TEL_MANAGER_null_columns)):\n",
        "  X[TEL_MANAGER_null_columns[i]] = X[TEL_MANAGER_null_columns[i]].fillna(0)\n",
        "\n",
        "for i in range(len(finance_null_columns)):\n",
        "  X[finance_null_columns[i]] = X[finance_null_columns[i]].fillna(0)\n",
        "\n",
        "\n",
        "X['AGE'] = X['AGE'].fillna(round(X['AGE'].mean(), 0))"
      ],
      "execution_count": 1449,
      "outputs": []
    },
    {
      "cell_type": "markdown",
      "metadata": {
        "id": "OcCF6fGt3tEX"
      },
      "source": [
        "Оставшиеся пропущенные значения"
      ]
    },
    {
      "cell_type": "code",
      "metadata": {
        "id": "yBRnTI13bP8-",
        "colab": {
          "base_uri": "https://localhost:8080/"
        },
        "outputId": "6361e201-84d0-4d5b-a179-9931cbea7e87"
      },
      "source": [
        "null_columns = list(X.columns[(X.isnull().sum() > 0)])\n",
        "len(null_columns)"
      ],
      "execution_count": 1450,
      "outputs": [
        {
          "output_type": "execute_result",
          "data": {
            "text/plain": [
              "1"
            ]
          },
          "metadata": {},
          "execution_count": 1450
        }
      ]
    },
    {
      "cell_type": "markdown",
      "metadata": {
        "id": "WH_Lt9V72hcP"
      },
      "source": [
        "Удалим ненужные столбцы"
      ]
    },
    {
      "cell_type": "code",
      "metadata": {
        "id": "6pB47l6Q2hkf"
      },
      "source": [
        "X = X.drop('BIRTHDATE', axis=1)\n",
        "# X = X.drop('OKVED_CODE', axis=1)"
      ],
      "execution_count": 1451,
      "outputs": []
    },
    {
      "cell_type": "markdown",
      "metadata": {
        "id": "IR0AWjt8vLhG"
      },
      "source": [
        "#### 3.3.2 test"
      ]
    },
    {
      "cell_type": "code",
      "metadata": {
        "id": "C70yEQWBThWR"
      },
      "source": [
        "for i in range(len(F_null_columns)):\n",
        "  X_test[F_null_columns[i]] = X_test[F_null_columns[i]].fillna(0)\n",
        "\n",
        "for i in range(len(EGRPOIN_null_columns)):\n",
        "  X_test[EGRPOIN_null_columns[i]] = X_test[EGRPOIN_null_columns[i]].fillna(1)\n",
        "\n",
        "for i in range(len(date_null_columns)):\n",
        "  X_test[date_null_columns[i]] = X_test[date_null_columns[i]].fillna(X_test[date_null_columns[i]].min())\n",
        "\n",
        "for i in range(len(OKATO_null_columns)):\n",
        "  X_test[OKATO_null_columns[i]] = X_test[OKATO_null_columns[i]].fillna(X_test[OKATO_null_columns[i]].value_counts().index[0])\n",
        "\n",
        "for i in range(len(COUNT_null_columns)):\n",
        "  X_test[COUNT_null_columns[i]] = X_test[COUNT_null_columns[i]].fillna(0)\n",
        "\n",
        "for i in range(len(TEL_MANAGER_null_columns)):\n",
        "  X_test[TEL_MANAGER_null_columns[i]] = X_test[TEL_MANAGER_null_columns[i]].fillna(0)\n",
        "\n",
        "for i in range(len(finance_null_columns)):\n",
        "  X_test[finance_null_columns[i]] = X_test[finance_null_columns[i]].fillna(0)\n",
        "\n",
        "\n",
        "X_test['AGE'] = X_test['AGE'].fillna(round(X_test['AGE'].mean(), 0))\n",
        "\n",
        "X_test['CITIZENSHIP_NAME'] = X_test['CITIZENSHIP_NAME'].fillna(1)"
      ],
      "execution_count": 1452,
      "outputs": []
    },
    {
      "cell_type": "markdown",
      "metadata": {
        "id": "YtdFEbTcvq_u"
      },
      "source": [
        "Остальные пропущенные значения"
      ]
    },
    {
      "cell_type": "code",
      "metadata": {
        "colab": {
          "base_uri": "https://localhost:8080/"
        },
        "id": "FN7-Bi7wvnwv",
        "outputId": "e79ff878-8351-43c9-c051-ee6813109aac"
      },
      "source": [
        "null_columns_test = list(X_test.columns[(X_test.isnull().sum() > 0)])\n",
        "len(null_columns_test)"
      ],
      "execution_count": 1453,
      "outputs": [
        {
          "output_type": "execute_result",
          "data": {
            "text/plain": [
              "1"
            ]
          },
          "metadata": {},
          "execution_count": 1453
        }
      ]
    },
    {
      "cell_type": "markdown",
      "metadata": {
        "id": "SgUddX99wMZf"
      },
      "source": [
        "Удалим ненужные столбцы"
      ]
    },
    {
      "cell_type": "code",
      "metadata": {
        "id": "BD4ZGiA5wHzP"
      },
      "source": [
        "X_test = X_test.drop('BIRTHDATE', axis=1)\n",
        "# X_test = X_test.drop('OKVED_CODE', axis=1)"
      ],
      "execution_count": 1454,
      "outputs": []
    },
    {
      "cell_type": "markdown",
      "metadata": {
        "id": "KcpVXQ2BgQ3w"
      },
      "source": [
        "### 3.5 Кратное описание отредактированного датасета"
      ]
    },
    {
      "cell_type": "markdown",
      "metadata": {
        "id": "SxcaI1WdxsGO"
      },
      "source": [
        "Так выглядит наш обработанный датасет"
      ]
    },
    {
      "cell_type": "code",
      "metadata": {
        "id": "4zNT6-i9bQCX",
        "colab": {
          "base_uri": "https://localhost:8080/",
          "height": 0
        },
        "outputId": "45929ab7-adfe-442f-f4ec-00d3a6d30a5e"
      },
      "source": [
        "X.head()"
      ],
      "execution_count": 1455,
      "outputs": [
        {
          "output_type": "execute_result",
          "data": {
            "text/html": [
              "<div>\n",
              "<style scoped>\n",
              "    .dataframe tbody tr th:only-of-type {\n",
              "        vertical-align: middle;\n",
              "    }\n",
              "\n",
              "    .dataframe tbody tr th {\n",
              "        vertical-align: top;\n",
              "    }\n",
              "\n",
              "    .dataframe thead th {\n",
              "        text-align: right;\n",
              "    }\n",
              "</style>\n",
              "<table border=\"1\" class=\"dataframe\">\n",
              "  <thead>\n",
              "    <tr style=\"text-align: right;\">\n",
              "      <th></th>\n",
              "      <th>id_contract</th>\n",
              "      <th>id_client</th>\n",
              "      <th>SIGN_DATE</th>\n",
              "      <th>IP_flag</th>\n",
              "      <th>F1100</th>\n",
              "      <th>F1110</th>\n",
              "      <th>F1180</th>\n",
              "      <th>F1190</th>\n",
              "      <th>F1210</th>\n",
              "      <th>F1250</th>\n",
              "      <th>F1260</th>\n",
              "      <th>F1350</th>\n",
              "      <th>EGRPOINCLUDED</th>\n",
              "      <th>DATEFIRSTREG</th>\n",
              "      <th>OKFS_GROUP</th>\n",
              "      <th>OKOPF_GROUP</th>\n",
              "      <th>OKOGU_GROUP</th>\n",
              "      <th>OKATO_REGIONCODE</th>\n",
              "      <th>OKATO_FED</th>\n",
              "      <th>WORKERSRANGE</th>\n",
              "      <th>TAXREG_REGDATE</th>\n",
              "      <th>TAXREGPAY_REGDATE</th>\n",
              "      <th>COUNTCOOWNERFCSM</th>\n",
              "      <th>COUNTCOOWNERROSSTAT</th>\n",
              "      <th>COUNTCOOWNEREGRUL</th>\n",
              "      <th>COUNTBRANCHROSSTAT</th>\n",
              "      <th>COUNTBRANCHEGRUL</th>\n",
              "      <th>TELEPHONECOUNT</th>\n",
              "      <th>MANAGERCOUNTINCOUNTRY</th>\n",
              "      <th>MANAGERCOUNTINREGION</th>\n",
              "      <th>MANAGERINNCOUNT</th>\n",
              "      <th>OKVED_CODE</th>\n",
              "      <th>PLAINTIFF_SUM_YEAR</th>\n",
              "      <th>DEFENDANT_CASESNUMBER_YEAR</th>\n",
              "      <th>DEFENDANT_SUM_YEAR</th>\n",
              "      <th>THIRDOROTHERPERSON_YEAR</th>\n",
              "      <th>PLAINTIFF_CASESNUMBER_EVER</th>\n",
              "      <th>PLAINTIFF_SUM_EVER</th>\n",
              "      <th>DEFENDANT_SUM_EVER</th>\n",
              "      <th>THIRDOROTHERPERSON_EVER</th>\n",
              "      <th>ADMITTEDNUMBER_233_YEAR</th>\n",
              "      <th>SUM_233_YEAR</th>\n",
              "      <th>SUM_233_EVER</th>\n",
              "      <th>ADMITTEDNUMBER_95_YEAR</th>\n",
              "      <th>NOTADMITTEDNUMBER_95_YEAR</th>\n",
              "      <th>AGE</th>\n",
              "      <th>SEX_NAME</th>\n",
              "      <th>CITIZENSHIP_NAME</th>\n",
              "      <th>client_enters</th>\n",
              "    </tr>\n",
              "  </thead>\n",
              "  <tbody>\n",
              "    <tr>\n",
              "      <th>0</th>\n",
              "      <td>1</td>\n",
              "      <td>1847</td>\n",
              "      <td>1418</td>\n",
              "      <td>0</td>\n",
              "      <td>1.298961e+09</td>\n",
              "      <td>2154000.0</td>\n",
              "      <td>0.0</td>\n",
              "      <td>21224000.0</td>\n",
              "      <td>105901000.0</td>\n",
              "      <td>3.312980e+08</td>\n",
              "      <td>138000.0</td>\n",
              "      <td>599497000.0</td>\n",
              "      <td>1.0</td>\n",
              "      <td>10328.0</td>\n",
              "      <td>5</td>\n",
              "      <td>5</td>\n",
              "      <td>4</td>\n",
              "      <td>3.0</td>\n",
              "      <td>40.0</td>\n",
              "      <td>12</td>\n",
              "      <td>5620.0</td>\n",
              "      <td>22603.0</td>\n",
              "      <td>5.0</td>\n",
              "      <td>1.0</td>\n",
              "      <td>0.0</td>\n",
              "      <td>7.0</td>\n",
              "      <td>7.0</td>\n",
              "      <td>3.0</td>\n",
              "      <td>0.0</td>\n",
              "      <td>0.0</td>\n",
              "      <td>0.0</td>\n",
              "      <td>363</td>\n",
              "      <td>0.0</td>\n",
              "      <td>0.0</td>\n",
              "      <td>0.0</td>\n",
              "      <td>0.0</td>\n",
              "      <td>0.0</td>\n",
              "      <td>0.0</td>\n",
              "      <td>0.0</td>\n",
              "      <td>0.0</td>\n",
              "      <td>0.0</td>\n",
              "      <td>0.0</td>\n",
              "      <td>0.0</td>\n",
              "      <td>0.0</td>\n",
              "      <td>0.0</td>\n",
              "      <td>43.0</td>\n",
              "      <td>0</td>\n",
              "      <td>0</td>\n",
              "      <td>17</td>\n",
              "    </tr>\n",
              "    <tr>\n",
              "      <th>1</th>\n",
              "      <td>2</td>\n",
              "      <td>4650</td>\n",
              "      <td>1418</td>\n",
              "      <td>1</td>\n",
              "      <td>0.000000e+00</td>\n",
              "      <td>0.0</td>\n",
              "      <td>0.0</td>\n",
              "      <td>0.0</td>\n",
              "      <td>0.0</td>\n",
              "      <td>0.000000e+00</td>\n",
              "      <td>0.0</td>\n",
              "      <td>0.0</td>\n",
              "      <td>1.0</td>\n",
              "      <td>535.0</td>\n",
              "      <td>5</td>\n",
              "      <td>5</td>\n",
              "      <td>0</td>\n",
              "      <td>45.0</td>\n",
              "      <td>30.0</td>\n",
              "      <td>6</td>\n",
              "      <td>535.0</td>\n",
              "      <td>450.0</td>\n",
              "      <td>0.0</td>\n",
              "      <td>0.0</td>\n",
              "      <td>0.0</td>\n",
              "      <td>0.0</td>\n",
              "      <td>0.0</td>\n",
              "      <td>0.0</td>\n",
              "      <td>0.0</td>\n",
              "      <td>0.0</td>\n",
              "      <td>0.0</td>\n",
              "      <td>0</td>\n",
              "      <td>0.0</td>\n",
              "      <td>0.0</td>\n",
              "      <td>0.0</td>\n",
              "      <td>0.0</td>\n",
              "      <td>0.0</td>\n",
              "      <td>0.0</td>\n",
              "      <td>0.0</td>\n",
              "      <td>0.0</td>\n",
              "      <td>0.0</td>\n",
              "      <td>0.0</td>\n",
              "      <td>0.0</td>\n",
              "      <td>0.0</td>\n",
              "      <td>0.0</td>\n",
              "      <td>43.0</td>\n",
              "      <td>0</td>\n",
              "      <td>0</td>\n",
              "      <td>1</td>\n",
              "    </tr>\n",
              "    <tr>\n",
              "      <th>2</th>\n",
              "      <td>3</td>\n",
              "      <td>4770</td>\n",
              "      <td>1418</td>\n",
              "      <td>0</td>\n",
              "      <td>7.337400e+07</td>\n",
              "      <td>0.0</td>\n",
              "      <td>0.0</td>\n",
              "      <td>0.0</td>\n",
              "      <td>2378000.0</td>\n",
              "      <td>5.530000e+05</td>\n",
              "      <td>37000.0</td>\n",
              "      <td>6780000.0</td>\n",
              "      <td>1.0</td>\n",
              "      <td>10881.0</td>\n",
              "      <td>1</td>\n",
              "      <td>1</td>\n",
              "      <td>4</td>\n",
              "      <td>33.0</td>\n",
              "      <td>33.0</td>\n",
              "      <td>1</td>\n",
              "      <td>7021.0</td>\n",
              "      <td>22603.0</td>\n",
              "      <td>0.0</td>\n",
              "      <td>1.0</td>\n",
              "      <td>1.0</td>\n",
              "      <td>0.0</td>\n",
              "      <td>0.0</td>\n",
              "      <td>1.0</td>\n",
              "      <td>1.0</td>\n",
              "      <td>1.0</td>\n",
              "      <td>1.0</td>\n",
              "      <td>540</td>\n",
              "      <td>2762852.0</td>\n",
              "      <td>1.0</td>\n",
              "      <td>794.0</td>\n",
              "      <td>3.0</td>\n",
              "      <td>21.0</td>\n",
              "      <td>5408695.0</td>\n",
              "      <td>882647.0</td>\n",
              "      <td>4.0</td>\n",
              "      <td>1.0</td>\n",
              "      <td>1174998.0</td>\n",
              "      <td>2738217.0</td>\n",
              "      <td>38.0</td>\n",
              "      <td>0.0</td>\n",
              "      <td>43.0</td>\n",
              "      <td>0</td>\n",
              "      <td>0</td>\n",
              "      <td>2</td>\n",
              "    </tr>\n",
              "    <tr>\n",
              "      <th>3</th>\n",
              "      <td>4</td>\n",
              "      <td>12237</td>\n",
              "      <td>1418</td>\n",
              "      <td>0</td>\n",
              "      <td>1.937488e+09</td>\n",
              "      <td>122828000.0</td>\n",
              "      <td>356828000.0</td>\n",
              "      <td>38078000.0</td>\n",
              "      <td>12001000.0</td>\n",
              "      <td>4.459193e+09</td>\n",
              "      <td>4611000.0</td>\n",
              "      <td>0.0</td>\n",
              "      <td>1.0</td>\n",
              "      <td>5985.0</td>\n",
              "      <td>5</td>\n",
              "      <td>5</td>\n",
              "      <td>4</td>\n",
              "      <td>71.0</td>\n",
              "      <td>34.0</td>\n",
              "      <td>2</td>\n",
              "      <td>5985.0</td>\n",
              "      <td>22603.0</td>\n",
              "      <td>1.0</td>\n",
              "      <td>1.0</td>\n",
              "      <td>1.0</td>\n",
              "      <td>0.0</td>\n",
              "      <td>2.0</td>\n",
              "      <td>8.0</td>\n",
              "      <td>1.0</td>\n",
              "      <td>1.0</td>\n",
              "      <td>1.0</td>\n",
              "      <td>363</td>\n",
              "      <td>0.0</td>\n",
              "      <td>0.0</td>\n",
              "      <td>0.0</td>\n",
              "      <td>0.0</td>\n",
              "      <td>0.0</td>\n",
              "      <td>0.0</td>\n",
              "      <td>0.0</td>\n",
              "      <td>0.0</td>\n",
              "      <td>0.0</td>\n",
              "      <td>0.0</td>\n",
              "      <td>0.0</td>\n",
              "      <td>0.0</td>\n",
              "      <td>0.0</td>\n",
              "      <td>43.0</td>\n",
              "      <td>0</td>\n",
              "      <td>0</td>\n",
              "      <td>13</td>\n",
              "    </tr>\n",
              "    <tr>\n",
              "      <th>4</th>\n",
              "      <td>5</td>\n",
              "      <td>9988</td>\n",
              "      <td>1418</td>\n",
              "      <td>1</td>\n",
              "      <td>0.000000e+00</td>\n",
              "      <td>0.0</td>\n",
              "      <td>0.0</td>\n",
              "      <td>0.0</td>\n",
              "      <td>0.0</td>\n",
              "      <td>0.000000e+00</td>\n",
              "      <td>0.0</td>\n",
              "      <td>0.0</td>\n",
              "      <td>1.0</td>\n",
              "      <td>535.0</td>\n",
              "      <td>5</td>\n",
              "      <td>5</td>\n",
              "      <td>0</td>\n",
              "      <td>45.0</td>\n",
              "      <td>30.0</td>\n",
              "      <td>6</td>\n",
              "      <td>535.0</td>\n",
              "      <td>450.0</td>\n",
              "      <td>0.0</td>\n",
              "      <td>0.0</td>\n",
              "      <td>0.0</td>\n",
              "      <td>0.0</td>\n",
              "      <td>0.0</td>\n",
              "      <td>0.0</td>\n",
              "      <td>0.0</td>\n",
              "      <td>0.0</td>\n",
              "      <td>0.0</td>\n",
              "      <td>0</td>\n",
              "      <td>0.0</td>\n",
              "      <td>0.0</td>\n",
              "      <td>0.0</td>\n",
              "      <td>0.0</td>\n",
              "      <td>0.0</td>\n",
              "      <td>0.0</td>\n",
              "      <td>0.0</td>\n",
              "      <td>0.0</td>\n",
              "      <td>0.0</td>\n",
              "      <td>0.0</td>\n",
              "      <td>0.0</td>\n",
              "      <td>0.0</td>\n",
              "      <td>0.0</td>\n",
              "      <td>43.0</td>\n",
              "      <td>0</td>\n",
              "      <td>0</td>\n",
              "      <td>1</td>\n",
              "    </tr>\n",
              "  </tbody>\n",
              "</table>\n",
              "</div>"
            ],
            "text/plain": [
              "   id_contract  id_client  SIGN_DATE  ...  SEX_NAME  CITIZENSHIP_NAME  client_enters\n",
              "0            1       1847       1418  ...         0                 0             17\n",
              "1            2       4650       1418  ...         0                 0              1\n",
              "2            3       4770       1418  ...         0                 0              2\n",
              "3            4      12237       1418  ...         0                 0             13\n",
              "4            5       9988       1418  ...         0                 0              1\n",
              "\n",
              "[5 rows x 49 columns]"
            ]
          },
          "metadata": {},
          "execution_count": 1455
        }
      ]
    },
    {
      "cell_type": "code",
      "metadata": {
        "colab": {
          "base_uri": "https://localhost:8080/"
        },
        "id": "TwlGmAr5clDQ",
        "outputId": "977493a1-5655-42c8-8ec2-e86d5030233d"
      },
      "source": [
        "X.info()"
      ],
      "execution_count": 1456,
      "outputs": [
        {
          "output_type": "stream",
          "name": "stdout",
          "text": [
            "<class 'pandas.core.frame.DataFrame'>\n",
            "RangeIndex: 12231 entries, 0 to 12230\n",
            "Data columns (total 49 columns):\n",
            " #   Column                      Non-Null Count  Dtype  \n",
            "---  ------                      --------------  -----  \n",
            " 0   id_contract                 12231 non-null  int64  \n",
            " 1   id_client                   12231 non-null  int64  \n",
            " 2   SIGN_DATE                   12231 non-null  int64  \n",
            " 3   IP_flag                     12231 non-null  int64  \n",
            " 4   F1100                       12231 non-null  float64\n",
            " 5   F1110                       12231 non-null  float64\n",
            " 6   F1180                       12231 non-null  float64\n",
            " 7   F1190                       12231 non-null  float64\n",
            " 8   F1210                       12231 non-null  float64\n",
            " 9   F1250                       12231 non-null  float64\n",
            " 10  F1260                       12231 non-null  float64\n",
            " 11  F1350                       12231 non-null  float64\n",
            " 12  EGRPOINCLUDED               12231 non-null  float64\n",
            " 13  DATEFIRSTREG                12231 non-null  float64\n",
            " 14  OKFS_GROUP                  12231 non-null  int64  \n",
            " 15  OKOPF_GROUP                 12231 non-null  int64  \n",
            " 16  OKOGU_GROUP                 12231 non-null  int64  \n",
            " 17  OKATO_REGIONCODE            12231 non-null  float64\n",
            " 18  OKATO_FED                   12231 non-null  float64\n",
            " 19  WORKERSRANGE                12231 non-null  int64  \n",
            " 20  TAXREG_REGDATE              12231 non-null  float64\n",
            " 21  TAXREGPAY_REGDATE           12231 non-null  float64\n",
            " 22  COUNTCOOWNERFCSM            12231 non-null  float64\n",
            " 23  COUNTCOOWNERROSSTAT         12231 non-null  float64\n",
            " 24  COUNTCOOWNEREGRUL           12231 non-null  float64\n",
            " 25  COUNTBRANCHROSSTAT          12231 non-null  float64\n",
            " 26  COUNTBRANCHEGRUL            12231 non-null  float64\n",
            " 27  TELEPHONECOUNT              12231 non-null  float64\n",
            " 28  MANAGERCOUNTINCOUNTRY       12231 non-null  float64\n",
            " 29  MANAGERCOUNTINREGION        12231 non-null  float64\n",
            " 30  MANAGERINNCOUNT             12231 non-null  float64\n",
            " 31  OKVED_CODE                  12231 non-null  int64  \n",
            " 32  PLAINTIFF_SUM_YEAR          12231 non-null  float64\n",
            " 33  DEFENDANT_CASESNUMBER_YEAR  12231 non-null  float64\n",
            " 34  DEFENDANT_SUM_YEAR          12231 non-null  float64\n",
            " 35  THIRDOROTHERPERSON_YEAR     12231 non-null  float64\n",
            " 36  PLAINTIFF_CASESNUMBER_EVER  12231 non-null  float64\n",
            " 37  PLAINTIFF_SUM_EVER          12231 non-null  float64\n",
            " 38  DEFENDANT_SUM_EVER          12231 non-null  float64\n",
            " 39  THIRDOROTHERPERSON_EVER     12231 non-null  float64\n",
            " 40  ADMITTEDNUMBER_233_YEAR     12231 non-null  float64\n",
            " 41  SUM_233_YEAR                12231 non-null  float64\n",
            " 42  SUM_233_EVER                12231 non-null  float64\n",
            " 43  ADMITTEDNUMBER_95_YEAR      12231 non-null  float64\n",
            " 44  NOTADMITTEDNUMBER_95_YEAR   12231 non-null  float64\n",
            " 45  AGE                         12231 non-null  float64\n",
            " 46  SEX_NAME                    12231 non-null  int64  \n",
            " 47  CITIZENSHIP_NAME            12231 non-null  int64  \n",
            " 48  client_enters               12231 non-null  int64  \n",
            "dtypes: float64(37), int64(12)\n",
            "memory usage: 4.6 MB\n"
          ]
        }
      ]
    },
    {
      "cell_type": "code",
      "metadata": {
        "colab": {
          "base_uri": "https://localhost:8080/"
        },
        "id": "x9agPGOwcvqw",
        "outputId": "31de4c89-a938-4dff-eb43-eba714db9881"
      },
      "source": [
        "#Проверяем пропущенные значения\n",
        "\n",
        "sum(X.isnull().sum() > 0)"
      ],
      "execution_count": 1457,
      "outputs": [
        {
          "output_type": "execute_result",
          "data": {
            "text/plain": [
              "0"
            ]
          },
          "metadata": {},
          "execution_count": 1457
        }
      ]
    },
    {
      "cell_type": "code",
      "metadata": {
        "colab": {
          "base_uri": "https://localhost:8080/",
          "height": 0
        },
        "id": "MbXCCuvDceIy",
        "outputId": "dc52ffa3-5818-462b-812c-8d0bc75a210d"
      },
      "source": [
        "X_test.head()"
      ],
      "execution_count": 1458,
      "outputs": [
        {
          "output_type": "execute_result",
          "data": {
            "text/html": [
              "<div>\n",
              "<style scoped>\n",
              "    .dataframe tbody tr th:only-of-type {\n",
              "        vertical-align: middle;\n",
              "    }\n",
              "\n",
              "    .dataframe tbody tr th {\n",
              "        vertical-align: top;\n",
              "    }\n",
              "\n",
              "    .dataframe thead th {\n",
              "        text-align: right;\n",
              "    }\n",
              "</style>\n",
              "<table border=\"1\" class=\"dataframe\">\n",
              "  <thead>\n",
              "    <tr style=\"text-align: right;\">\n",
              "      <th></th>\n",
              "      <th>id_contract</th>\n",
              "      <th>id_client</th>\n",
              "      <th>SIGN_DATE</th>\n",
              "      <th>IP_flag</th>\n",
              "      <th>F1100</th>\n",
              "      <th>F1110</th>\n",
              "      <th>F1180</th>\n",
              "      <th>F1190</th>\n",
              "      <th>F1210</th>\n",
              "      <th>F1250</th>\n",
              "      <th>F1260</th>\n",
              "      <th>F1350</th>\n",
              "      <th>EGRPOINCLUDED</th>\n",
              "      <th>DATEFIRSTREG</th>\n",
              "      <th>OKFS_GROUP</th>\n",
              "      <th>OKOPF_GROUP</th>\n",
              "      <th>OKOGU_GROUP</th>\n",
              "      <th>OKATO_REGIONCODE</th>\n",
              "      <th>OKATO_FED</th>\n",
              "      <th>WORKERSRANGE</th>\n",
              "      <th>TAXREG_REGDATE</th>\n",
              "      <th>TAXREGPAY_REGDATE</th>\n",
              "      <th>COUNTCOOWNERFCSM</th>\n",
              "      <th>COUNTCOOWNERROSSTAT</th>\n",
              "      <th>COUNTCOOWNEREGRUL</th>\n",
              "      <th>COUNTBRANCHROSSTAT</th>\n",
              "      <th>COUNTBRANCHEGRUL</th>\n",
              "      <th>TELEPHONECOUNT</th>\n",
              "      <th>MANAGERCOUNTINCOUNTRY</th>\n",
              "      <th>MANAGERCOUNTINREGION</th>\n",
              "      <th>MANAGERINNCOUNT</th>\n",
              "      <th>OKVED_CODE</th>\n",
              "      <th>PLAINTIFF_SUM_YEAR</th>\n",
              "      <th>DEFENDANT_CASESNUMBER_YEAR</th>\n",
              "      <th>DEFENDANT_SUM_YEAR</th>\n",
              "      <th>THIRDOROTHERPERSON_YEAR</th>\n",
              "      <th>PLAINTIFF_CASESNUMBER_EVER</th>\n",
              "      <th>PLAINTIFF_SUM_EVER</th>\n",
              "      <th>DEFENDANT_SUM_EVER</th>\n",
              "      <th>THIRDOROTHERPERSON_EVER</th>\n",
              "      <th>ADMITTEDNUMBER_233_YEAR</th>\n",
              "      <th>SUM_233_YEAR</th>\n",
              "      <th>SUM_233_EVER</th>\n",
              "      <th>ADMITTEDNUMBER_95_YEAR</th>\n",
              "      <th>NOTADMITTEDNUMBER_95_YEAR</th>\n",
              "      <th>AGE</th>\n",
              "      <th>SEX_NAME</th>\n",
              "      <th>CITIZENSHIP_NAME</th>\n",
              "      <th>client_enters</th>\n",
              "    </tr>\n",
              "  </thead>\n",
              "  <tbody>\n",
              "    <tr>\n",
              "      <th>0</th>\n",
              "      <td>17892</td>\n",
              "      <td>3620</td>\n",
              "      <td>963</td>\n",
              "      <td>1</td>\n",
              "      <td>0.0</td>\n",
              "      <td>0.0</td>\n",
              "      <td>0.0</td>\n",
              "      <td>0.0</td>\n",
              "      <td>0.0</td>\n",
              "      <td>0.0</td>\n",
              "      <td>0.0</td>\n",
              "      <td>0.0</td>\n",
              "      <td>1.0</td>\n",
              "      <td>760.0</td>\n",
              "      <td>5</td>\n",
              "      <td>5</td>\n",
              "      <td>0</td>\n",
              "      <td>45.0</td>\n",
              "      <td>30.0</td>\n",
              "      <td>6</td>\n",
              "      <td>760.0</td>\n",
              "      <td>437.0</td>\n",
              "      <td>0.0</td>\n",
              "      <td>0.0</td>\n",
              "      <td>0.0</td>\n",
              "      <td>0.0</td>\n",
              "      <td>0.0</td>\n",
              "      <td>0.0</td>\n",
              "      <td>0.0</td>\n",
              "      <td>0.0</td>\n",
              "      <td>0.0</td>\n",
              "      <td>0</td>\n",
              "      <td>0.0</td>\n",
              "      <td>0.0</td>\n",
              "      <td>0.0</td>\n",
              "      <td>0.0</td>\n",
              "      <td>0.0</td>\n",
              "      <td>0.0</td>\n",
              "      <td>0.0</td>\n",
              "      <td>0.0</td>\n",
              "      <td>0.0</td>\n",
              "      <td>0.0</td>\n",
              "      <td>0.0</td>\n",
              "      <td>0.0</td>\n",
              "      <td>0.0</td>\n",
              "      <td>43.0</td>\n",
              "      <td>0</td>\n",
              "      <td>0.0</td>\n",
              "      <td>5</td>\n",
              "    </tr>\n",
              "    <tr>\n",
              "      <th>1</th>\n",
              "      <td>17893</td>\n",
              "      <td>4101</td>\n",
              "      <td>963</td>\n",
              "      <td>0</td>\n",
              "      <td>1906000.0</td>\n",
              "      <td>0.0</td>\n",
              "      <td>0.0</td>\n",
              "      <td>0.0</td>\n",
              "      <td>4392000.0</td>\n",
              "      <td>9719000.0</td>\n",
              "      <td>0.0</td>\n",
              "      <td>0.0</td>\n",
              "      <td>1.0</td>\n",
              "      <td>4280.0</td>\n",
              "      <td>5</td>\n",
              "      <td>5</td>\n",
              "      <td>4</td>\n",
              "      <td>24.0</td>\n",
              "      <td>30.0</td>\n",
              "      <td>5</td>\n",
              "      <td>4280.0</td>\n",
              "      <td>22603.0</td>\n",
              "      <td>0.0</td>\n",
              "      <td>1.0</td>\n",
              "      <td>1.0</td>\n",
              "      <td>0.0</td>\n",
              "      <td>0.0</td>\n",
              "      <td>5.0</td>\n",
              "      <td>2.0</td>\n",
              "      <td>2.0</td>\n",
              "      <td>2.0</td>\n",
              "      <td>644</td>\n",
              "      <td>0.0</td>\n",
              "      <td>0.0</td>\n",
              "      <td>0.0</td>\n",
              "      <td>0.0</td>\n",
              "      <td>7.0</td>\n",
              "      <td>4726558.0</td>\n",
              "      <td>0.0</td>\n",
              "      <td>0.0</td>\n",
              "      <td>181.0</td>\n",
              "      <td>17883526.0</td>\n",
              "      <td>169299901.0</td>\n",
              "      <td>1204.0</td>\n",
              "      <td>2.0</td>\n",
              "      <td>43.0</td>\n",
              "      <td>0</td>\n",
              "      <td>0.0</td>\n",
              "      <td>1</td>\n",
              "    </tr>\n",
              "    <tr>\n",
              "      <th>2</th>\n",
              "      <td>17894</td>\n",
              "      <td>9589</td>\n",
              "      <td>963</td>\n",
              "      <td>0</td>\n",
              "      <td>147000.0</td>\n",
              "      <td>0.0</td>\n",
              "      <td>0.0</td>\n",
              "      <td>0.0</td>\n",
              "      <td>29812000.0</td>\n",
              "      <td>8430000.0</td>\n",
              "      <td>238000.0</td>\n",
              "      <td>0.0</td>\n",
              "      <td>1.0</td>\n",
              "      <td>8439.0</td>\n",
              "      <td>5</td>\n",
              "      <td>5</td>\n",
              "      <td>4</td>\n",
              "      <td>75.0</td>\n",
              "      <td>34.0</td>\n",
              "      <td>5</td>\n",
              "      <td>6900.0</td>\n",
              "      <td>22603.0</td>\n",
              "      <td>0.0</td>\n",
              "      <td>1.0</td>\n",
              "      <td>2.0</td>\n",
              "      <td>2.0</td>\n",
              "      <td>0.0</td>\n",
              "      <td>3.0</td>\n",
              "      <td>1.0</td>\n",
              "      <td>1.0</td>\n",
              "      <td>1.0</td>\n",
              "      <td>397</td>\n",
              "      <td>2272145.0</td>\n",
              "      <td>2.0</td>\n",
              "      <td>176875.0</td>\n",
              "      <td>0.0</td>\n",
              "      <td>103.0</td>\n",
              "      <td>27542049.0</td>\n",
              "      <td>1743130.0</td>\n",
              "      <td>2.0</td>\n",
              "      <td>31.0</td>\n",
              "      <td>3681170.0</td>\n",
              "      <td>46085424.0</td>\n",
              "      <td>36.0</td>\n",
              "      <td>10.0</td>\n",
              "      <td>43.0</td>\n",
              "      <td>0</td>\n",
              "      <td>0.0</td>\n",
              "      <td>1</td>\n",
              "    </tr>\n",
              "    <tr>\n",
              "      <th>3</th>\n",
              "      <td>17895</td>\n",
              "      <td>11546</td>\n",
              "      <td>963</td>\n",
              "      <td>0</td>\n",
              "      <td>0.0</td>\n",
              "      <td>0.0</td>\n",
              "      <td>0.0</td>\n",
              "      <td>0.0</td>\n",
              "      <td>304000.0</td>\n",
              "      <td>920000.0</td>\n",
              "      <td>0.0</td>\n",
              "      <td>0.0</td>\n",
              "      <td>1.0</td>\n",
              "      <td>1597.0</td>\n",
              "      <td>5</td>\n",
              "      <td>5</td>\n",
              "      <td>4</td>\n",
              "      <td>40.0</td>\n",
              "      <td>31.0</td>\n",
              "      <td>10</td>\n",
              "      <td>1597.0</td>\n",
              "      <td>22603.0</td>\n",
              "      <td>0.0</td>\n",
              "      <td>1.0</td>\n",
              "      <td>1.0</td>\n",
              "      <td>0.0</td>\n",
              "      <td>0.0</td>\n",
              "      <td>1.0</td>\n",
              "      <td>1.0</td>\n",
              "      <td>1.0</td>\n",
              "      <td>1.0</td>\n",
              "      <td>660</td>\n",
              "      <td>0.0</td>\n",
              "      <td>0.0</td>\n",
              "      <td>0.0</td>\n",
              "      <td>0.0</td>\n",
              "      <td>0.0</td>\n",
              "      <td>0.0</td>\n",
              "      <td>0.0</td>\n",
              "      <td>0.0</td>\n",
              "      <td>2.0</td>\n",
              "      <td>0.0</td>\n",
              "      <td>0.0</td>\n",
              "      <td>0.0</td>\n",
              "      <td>0.0</td>\n",
              "      <td>43.0</td>\n",
              "      <td>0</td>\n",
              "      <td>0.0</td>\n",
              "      <td>1</td>\n",
              "    </tr>\n",
              "    <tr>\n",
              "      <th>4</th>\n",
              "      <td>17896</td>\n",
              "      <td>12558</td>\n",
              "      <td>963</td>\n",
              "      <td>0</td>\n",
              "      <td>26000.0</td>\n",
              "      <td>0.0</td>\n",
              "      <td>0.0</td>\n",
              "      <td>0.0</td>\n",
              "      <td>1324000.0</td>\n",
              "      <td>1000.0</td>\n",
              "      <td>0.0</td>\n",
              "      <td>0.0</td>\n",
              "      <td>1.0</td>\n",
              "      <td>2580.0</td>\n",
              "      <td>5</td>\n",
              "      <td>5</td>\n",
              "      <td>4</td>\n",
              "      <td>67.0</td>\n",
              "      <td>40.0</td>\n",
              "      <td>10</td>\n",
              "      <td>2580.0</td>\n",
              "      <td>22603.0</td>\n",
              "      <td>0.0</td>\n",
              "      <td>2.0</td>\n",
              "      <td>2.0</td>\n",
              "      <td>0.0</td>\n",
              "      <td>0.0</td>\n",
              "      <td>1.0</td>\n",
              "      <td>3.0</td>\n",
              "      <td>2.0</td>\n",
              "      <td>2.0</td>\n",
              "      <td>529</td>\n",
              "      <td>0.0</td>\n",
              "      <td>0.0</td>\n",
              "      <td>0.0</td>\n",
              "      <td>0.0</td>\n",
              "      <td>0.0</td>\n",
              "      <td>0.0</td>\n",
              "      <td>0.0</td>\n",
              "      <td>0.0</td>\n",
              "      <td>0.0</td>\n",
              "      <td>0.0</td>\n",
              "      <td>0.0</td>\n",
              "      <td>0.0</td>\n",
              "      <td>0.0</td>\n",
              "      <td>43.0</td>\n",
              "      <td>0</td>\n",
              "      <td>0.0</td>\n",
              "      <td>2</td>\n",
              "    </tr>\n",
              "  </tbody>\n",
              "</table>\n",
              "</div>"
            ],
            "text/plain": [
              "   id_contract  id_client  SIGN_DATE  ...  SEX_NAME  CITIZENSHIP_NAME  client_enters\n",
              "0        17892       3620        963  ...         0               0.0              5\n",
              "1        17893       4101        963  ...         0               0.0              1\n",
              "2        17894       9589        963  ...         0               0.0              1\n",
              "3        17895      11546        963  ...         0               0.0              1\n",
              "4        17896      12558        963  ...         0               0.0              2\n",
              "\n",
              "[5 rows x 49 columns]"
            ]
          },
          "metadata": {},
          "execution_count": 1458
        }
      ]
    },
    {
      "cell_type": "code",
      "metadata": {
        "colab": {
          "base_uri": "https://localhost:8080/"
        },
        "id": "O_CIjxvecjcQ",
        "outputId": "77440dd0-d30b-417d-d867-7881bc1d67fb"
      },
      "source": [
        "X_test.info()"
      ],
      "execution_count": 1459,
      "outputs": [
        {
          "output_type": "stream",
          "name": "stdout",
          "text": [
            "<class 'pandas.core.frame.DataFrame'>\n",
            "Int64Index: 7330 entries, 0 to 7329\n",
            "Data columns (total 49 columns):\n",
            " #   Column                      Non-Null Count  Dtype  \n",
            "---  ------                      --------------  -----  \n",
            " 0   id_contract                 7330 non-null   int64  \n",
            " 1   id_client                   7330 non-null   int64  \n",
            " 2   SIGN_DATE                   7330 non-null   int64  \n",
            " 3   IP_flag                     7330 non-null   int64  \n",
            " 4   F1100                       7330 non-null   float64\n",
            " 5   F1110                       7330 non-null   float64\n",
            " 6   F1180                       7330 non-null   float64\n",
            " 7   F1190                       7330 non-null   float64\n",
            " 8   F1210                       7330 non-null   float64\n",
            " 9   F1250                       7330 non-null   float64\n",
            " 10  F1260                       7330 non-null   float64\n",
            " 11  F1350                       7330 non-null   float64\n",
            " 12  EGRPOINCLUDED               7330 non-null   float64\n",
            " 13  DATEFIRSTREG                7330 non-null   float64\n",
            " 14  OKFS_GROUP                  7330 non-null   int64  \n",
            " 15  OKOPF_GROUP                 7330 non-null   int64  \n",
            " 16  OKOGU_GROUP                 7330 non-null   int64  \n",
            " 17  OKATO_REGIONCODE            7330 non-null   float64\n",
            " 18  OKATO_FED                   7330 non-null   float64\n",
            " 19  WORKERSRANGE                7330 non-null   int64  \n",
            " 20  TAXREG_REGDATE              7330 non-null   float64\n",
            " 21  TAXREGPAY_REGDATE           7330 non-null   float64\n",
            " 22  COUNTCOOWNERFCSM            7330 non-null   float64\n",
            " 23  COUNTCOOWNERROSSTAT         7330 non-null   float64\n",
            " 24  COUNTCOOWNEREGRUL           7330 non-null   float64\n",
            " 25  COUNTBRANCHROSSTAT          7330 non-null   float64\n",
            " 26  COUNTBRANCHEGRUL            7330 non-null   float64\n",
            " 27  TELEPHONECOUNT              7330 non-null   float64\n",
            " 28  MANAGERCOUNTINCOUNTRY       7330 non-null   float64\n",
            " 29  MANAGERCOUNTINREGION        7330 non-null   float64\n",
            " 30  MANAGERINNCOUNT             7330 non-null   float64\n",
            " 31  OKVED_CODE                  7330 non-null   int64  \n",
            " 32  PLAINTIFF_SUM_YEAR          7330 non-null   float64\n",
            " 33  DEFENDANT_CASESNUMBER_YEAR  7330 non-null   float64\n",
            " 34  DEFENDANT_SUM_YEAR          7330 non-null   float64\n",
            " 35  THIRDOROTHERPERSON_YEAR     7330 non-null   float64\n",
            " 36  PLAINTIFF_CASESNUMBER_EVER  7330 non-null   float64\n",
            " 37  PLAINTIFF_SUM_EVER          7330 non-null   float64\n",
            " 38  DEFENDANT_SUM_EVER          7330 non-null   float64\n",
            " 39  THIRDOROTHERPERSON_EVER     7330 non-null   float64\n",
            " 40  ADMITTEDNUMBER_233_YEAR     7330 non-null   float64\n",
            " 41  SUM_233_YEAR                7330 non-null   float64\n",
            " 42  SUM_233_EVER                7330 non-null   float64\n",
            " 43  ADMITTEDNUMBER_95_YEAR      7330 non-null   float64\n",
            " 44  NOTADMITTEDNUMBER_95_YEAR   7330 non-null   float64\n",
            " 45  AGE                         7330 non-null   float64\n",
            " 46  SEX_NAME                    7330 non-null   int64  \n",
            " 47  CITIZENSHIP_NAME            7330 non-null   float64\n",
            " 48  client_enters               7330 non-null   int64  \n",
            "dtypes: float64(38), int64(11)\n",
            "memory usage: 2.8 MB\n"
          ]
        }
      ]
    },
    {
      "cell_type": "code",
      "metadata": {
        "colab": {
          "base_uri": "https://localhost:8080/"
        },
        "id": "hqro7zwYc3o3",
        "outputId": "4887f517-9997-4f83-f9ab-8ad2a1cb6313"
      },
      "source": [
        "#Проверяем пропущенные значения\n",
        "\n",
        "sum(X_test.isnull().sum() > 0)"
      ],
      "execution_count": 1460,
      "outputs": [
        {
          "output_type": "execute_result",
          "data": {
            "text/plain": [
              "0"
            ]
          },
          "metadata": {},
          "execution_count": 1460
        }
      ]
    },
    {
      "cell_type": "markdown",
      "metadata": {
        "id": "2hPlHWUFyIK_"
      },
      "source": [
        "\n",
        "\n",
        "---\n",
        "\n",
        "\n",
        "\n",
        "## 4 Построение модели"
      ]
    },
    {
      "cell_type": "markdown",
      "metadata": {
        "id": "W2Qz8Jscd0Tg"
      },
      "source": [
        "Мы определили, что имеющийся датасет несбалансирован. При очень большом соотношении доминирующего класса к минорному можно применить методы борьбы с несбалансированными датасетами - undersampling и oversampling, либо метод SMOTE.\n",
        "\n",
        "В нашем случае, мы не будем перебалансировать датасет, а просто учтём это при выборе метрик качества.Стоит отметить что точность (Precision) и полнота (recall) не зависят от соотношения размеров классов.\n",
        "\n",
        "Далее будем смотреть на результаты работы моделей и их метрики качества, и редактировать данные."
      ]
    },
    {
      "cell_type": "markdown",
      "metadata": {
        "id": "4UhuMXOAdO9Y"
      },
      "source": [
        "### 4.1 Импортируем библиотеки"
      ]
    },
    {
      "cell_type": "code",
      "metadata": {
        "id": "IlobPOjLgYFP"
      },
      "source": [
        "from sklearn.model_selection import train_test_split\n",
        "from sklearn.model_selection import GridSearchCV\n",
        "from sklearn.model_selection import StratifiedKFold\n",
        "\n",
        "from sklearn.neighbors import KNeighborsClassifier\n",
        "from sklearn.tree import DecisionTreeClassifier\n",
        "from sklearn.linear_model import LogisticRegression\n",
        "\n",
        "from sklearn.ensemble import GradientBoostingClassifier\n",
        "import xgboost as xgb\n",
        "\n",
        "import warnings"
      ],
      "execution_count": 1461,
      "outputs": []
    },
    {
      "cell_type": "markdown",
      "metadata": {
        "id": "_C6kLJ6keKMn"
      },
      "source": [
        "### 4.2 Делим датасет и строим модели"
      ]
    },
    {
      "cell_type": "code",
      "metadata": {
        "id": "u1lcANvfESw3"
      },
      "source": [
        "# from sklearn.preprocessing import StandardScaler"
      ],
      "execution_count": 1462,
      "outputs": []
    },
    {
      "cell_type": "code",
      "metadata": {
        "id": "AxJ5e5xPESzs"
      },
      "source": [
        "# ss = StandardScaler()\n",
        "# X = ss.fit_transform(X)\n",
        "# X_test = ss.transform(X_test)"
      ],
      "execution_count": 1463,
      "outputs": []
    },
    {
      "cell_type": "code",
      "metadata": {
        "id": "EqSg0L9ieB4Z"
      },
      "source": [
        "random_state = 7"
      ],
      "execution_count": 1464,
      "outputs": []
    },
    {
      "cell_type": "code",
      "metadata": {
        "id": "8AEIR3KhgYIO"
      },
      "source": [
        "#Так как датасет несбалансированный, то задаем параметр stratify = целевой признак\n",
        "x_train, x_test, y_train, y_test = train_test_split(X, y, stratify=y, test_size=0.3, random_state=random_state)"
      ],
      "execution_count": 1465,
      "outputs": []
    },
    {
      "cell_type": "markdown",
      "metadata": {
        "id": "DoFBMx8muGxs"
      },
      "source": [
        "### 4.4 Строим модели"
      ]
    },
    {
      "cell_type": "markdown",
      "metadata": {
        "id": "OfOPGDEzeZqx"
      },
      "source": [
        "С помощью GridSearchCV найдём наилучшие параметры для каждой модели.\n",
        "\n",
        "Были выбраны следующие модели машинного обучения:\n",
        "\n",
        "1. K-ближайших соседей - хорошо подходит для бинарной классификации\n",
        "2. Деревья решений - наиболее интерпретируемый алгоритм\n",
        "3. Логистическая регрессия - хорошо подходит для бинарной классификации"
      ]
    },
    {
      "cell_type": "code",
      "metadata": {
        "id": "lP0SO4qefuWS"
      },
      "source": [
        "#Создадим функцию для нахождения наилучших параметров\n",
        "def best_params(reg, parametrs, X, y, cv):\n",
        "  grid = GridSearchCV(reg, parametrs, cv=cv, scoring='roc_auc')\n",
        "  grid = grid.fit(X, y)\n",
        "  return grid.best_params_"
      ],
      "execution_count": 1466,
      "outputs": []
    },
    {
      "cell_type": "code",
      "metadata": {
        "id": "JO0doL3SgYKu"
      },
      "source": [
        "#Алгоритм kNN\n",
        "knn_parametrs = {'n_neighbors': range(1, 50)}\n",
        "\n",
        "#Decision Trees\n",
        "dtc_parametrs = {'max_depth': range(1, 15), 'min_samples_leaf': range(1, 10)}\n",
        "\n",
        "#LogisticRegression\n",
        "lr_parametrs = {'C': np.arange(0.1, 2.0, 0.1)}\n",
        "\n",
        "#Для кросс-валидации\n",
        "skf = StratifiedKFold(n_splits=5, random_state=random_state, shuffle=True)"
      ],
      "execution_count": 1467,
      "outputs": []
    },
    {
      "cell_type": "code",
      "metadata": {
        "id": "WY5qv_rMeVBP"
      },
      "source": [
        "# #Подбираем лучшие параметры\n",
        "# knn_best_parametrs = best_params(KNeighborsClassifier(), \n",
        "#                                  knn_parametrs, x_train, y_train, skf)\n",
        "\n",
        "# dtc_best_parametrs = best_params(DecisionTreeClassifier(random_state = random_state),\n",
        "#                                  dtc_parametrs, x_train, y_train, skf)\n",
        "\n",
        "# lr_best_parametrs = best_params(LogisticRegression(random_state = random_state),\n",
        "#                                  lr_parametrs, x_train, y_train, skf)\n",
        "\n",
        "# #Здесь выскакивало предупреждение, я его скрыл\n",
        "# warnings.filterwarnings('ignore')"
      ],
      "execution_count": 1468,
      "outputs": []
    },
    {
      "cell_type": "code",
      "metadata": {
        "id": "UGuMBrtvl4jz"
      },
      "source": [
        "# #Алгоритм kNN\n",
        "# knn_best_parametrs = {'n_neighbors': 9}\n",
        "knn_best_parametrs = {'n_neighbors': 26}\n",
        "\n",
        "\n",
        "# #Decision Trees\n",
        "# dtc_best_parametrs = {'max_depth': 8, 'min_samples_leaf': 5}\n",
        "dtc_best_parametrs = {'max_depth': 10, 'min_samples_leaf': 9}\n",
        "\n",
        "# #LogisticRegression\n",
        "# lr_best_parametrs = {'C': 1.9}\n",
        "lr_best_parametrs = {'C': 0.4}"
      ],
      "execution_count": 1469,
      "outputs": []
    },
    {
      "cell_type": "code",
      "metadata": {
        "colab": {
          "base_uri": "https://localhost:8080/"
        },
        "id": "CSrsAJFqeVEN",
        "outputId": "2b581d5a-c75e-48c2-e393-39082749ade3"
      },
      "source": [
        "#Посмотрим какие параметры оказались наилучшими\n",
        "print('kNN\\n', '-'*20, '\\n', knn_best_parametrs, '\\n')\n",
        "print('Decision Trees\\n', '-'*20, '\\n', dtc_best_parametrs, '\\n')\n",
        "print('LogisticRegression\\n', '-'*20, '\\n', lr_best_parametrs, '\\n')"
      ],
      "execution_count": 1470,
      "outputs": [
        {
          "output_type": "stream",
          "name": "stdout",
          "text": [
            "kNN\n",
            " -------------------- \n",
            " {'n_neighbors': 26} \n",
            "\n",
            "Decision Trees\n",
            " -------------------- \n",
            " {'max_depth': 10, 'min_samples_leaf': 9} \n",
            "\n",
            "LogisticRegression\n",
            " -------------------- \n",
            " {'C': 0.4} \n",
            "\n"
          ]
        }
      ]
    },
    {
      "cell_type": "markdown",
      "metadata": {
        "id": "B6VljcOuivrR"
      },
      "source": [
        "**Строим модели** (с учетом наилучших параметров)"
      ]
    },
    {
      "cell_type": "code",
      "metadata": {
        "id": "jVMV4ayueVHf"
      },
      "source": [
        "#Алгоритм kNN\n",
        "knn = KNeighborsClassifier(**knn_best_parametrs)\n",
        "knn_model = knn.fit(x_train, y_train)\n",
        "knn_pred = knn_model.predict(x_test)"
      ],
      "execution_count": 1471,
      "outputs": []
    },
    {
      "cell_type": "code",
      "metadata": {
        "id": "zs90okvceVKj"
      },
      "source": [
        "#Decision Trees\n",
        "dtc = DecisionTreeClassifier(**dtc_best_parametrs, random_state=random_state)\n",
        "dtc_model = dtc.fit(x_train, y_train)\n",
        "dtc_pred = dtc_model.predict(x_test)"
      ],
      "execution_count": 1472,
      "outputs": []
    },
    {
      "cell_type": "code",
      "metadata": {
        "id": "JuygP4x1eVNp"
      },
      "source": [
        "#LogisticRegression\n",
        "lr = LogisticRegression(**lr_best_parametrs, random_state=random_state)\n",
        "lr_model = lr.fit(x_train, y_train)\n",
        "lr_pred = lr_model.predict(x_test)\n",
        "\n",
        "#Здесь выскакивало предупреждение, я его скрыл\n",
        "warnings.filterwarnings('ignore')"
      ],
      "execution_count": 1473,
      "outputs": []
    },
    {
      "cell_type": "markdown",
      "metadata": {
        "id": "bU6KWcSFjGVq"
      },
      "source": [
        "\n",
        "\n",
        "---\n",
        "\n",
        "\n",
        "\n",
        "## 5 Сравниваем качество моделей"
      ]
    },
    {
      "cell_type": "markdown",
      "metadata": {
        "id": "JRYTmXsCjOU5"
      },
      "source": [
        "### 5.1 Импортируем библиотеки"
      ]
    },
    {
      "cell_type": "code",
      "metadata": {
        "id": "dKRyx0UyeVQQ"
      },
      "source": [
        "from sklearn.metrics import confusion_matrix\n",
        "from sklearn.metrics import recall_score\n",
        "from sklearn.metrics import precision_score\n",
        "from sklearn.metrics import roc_auc_score"
      ],
      "execution_count": 1474,
      "outputs": []
    },
    {
      "cell_type": "markdown",
      "metadata": {
        "id": "BxOJQp7LjT4q"
      },
      "source": [
        "### 5.2 Проверяем качество моделей"
      ]
    },
    {
      "cell_type": "code",
      "metadata": {
        "id": "1UKzXbfQeVTM"
      },
      "source": [
        "#Алгоритм kNN\n",
        "knn_roc_auc = roc_auc_score(y_test, knn_pred)\n",
        "\n",
        "#Decision Trees\n",
        "dtc_roc_auc = roc_auc_score(y_test, dtc_pred)\n",
        "\n",
        "#LogisticRegression\n",
        "lr_roc_auc = roc_auc_score(y_test, lr_pred)"
      ],
      "execution_count": 1475,
      "outputs": []
    },
    {
      "cell_type": "code",
      "metadata": {
        "colab": {
          "base_uri": "https://localhost:8080/"
        },
        "id": "kMsCK3uxeVV4",
        "outputId": "44af56d7-4970-4d70-c7ed-5ef0d8964c65"
      },
      "source": [
        "print('Алгоритм kNN\\n', '-'*30, '\\n', f'ROC-AUC score равен {round(knn_roc_auc, 4)} \\n \\n' )\n",
        "print('Алгоритм Decision Trees\\n', '-'*30, '\\n', f'ROC-AUC score равен {round(dtc_roc_auc, 4)} \\n \\n' )\n",
        "print('Алгоритм LogisticRegression\\n', '-'*30, '\\n', f'ROC-AUC score равен {round(lr_roc_auc, 4)} \\n \\n' )"
      ],
      "execution_count": 1476,
      "outputs": [
        {
          "output_type": "stream",
          "name": "stdout",
          "text": [
            "Алгоритм kNN\n",
            " ------------------------------ \n",
            " ROC-AUC score равен 0.583 \n",
            " \n",
            "\n",
            "Алгоритм Decision Trees\n",
            " ------------------------------ \n",
            " ROC-AUC score равен 0.7367 \n",
            " \n",
            "\n",
            "Алгоритм LogisticRegression\n",
            " ------------------------------ \n",
            " ROC-AUC score равен 0.5048 \n",
            " \n",
            "\n"
          ]
        }
      ]
    },
    {
      "cell_type": "markdown",
      "metadata": {
        "id": "2teHlv1ej-YJ"
      },
      "source": [
        "В результате видно, что интересующая нас метрика довольно низкая. Далее попробуем увеличить качество в соответствии с этой метрикой. Попробуем увеличить веса для экземпляров класса."
      ]
    },
    {
      "cell_type": "code",
      "metadata": {
        "id": "P6z5Z1IzjlB5"
      },
      "source": [
        "#Создадим веса для экземпляров класса\n",
        "class_weights = {0: 1, 1: 2}"
      ],
      "execution_count": 1477,
      "outputs": []
    },
    {
      "cell_type": "code",
      "metadata": {
        "id": "U-bnnz5Ikt8K"
      },
      "source": [
        "#Ещё раз построим модель DTC, но с параметром class_weights\n",
        "dtc_weights = DecisionTreeClassifier(**dtc_best_parametrs, random_state=random_state, class_weight=class_weights)\n",
        "dtc_model_weights = dtc_weights.fit(x_train, y_train)\n",
        "dtc_pred_weights = dtc_model_weights.predict(x_test)\n",
        "\n",
        "dtc_roc_auc_weights = roc_auc_score(y_test, dtc_pred_weights)"
      ],
      "execution_count": 1478,
      "outputs": []
    },
    {
      "cell_type": "code",
      "metadata": {
        "colab": {
          "base_uri": "https://localhost:8080/"
        },
        "id": "pW3R6GDPkuFK",
        "outputId": "14a56482-e50f-4999-b204-3a7f6e3b17d2"
      },
      "source": [
        "print('Алгоритм DTC\\n', '-'*30, '\\n', f'ROC-AUC score равен {round(dtc_roc_auc_weights, 4)} \\n' )"
      ],
      "execution_count": 1479,
      "outputs": [
        {
          "output_type": "stream",
          "name": "stdout",
          "text": [
            "Алгоритм DTC\n",
            " ------------------------------ \n",
            " ROC-AUC score равен 0.7521 \n",
            "\n"
          ]
        }
      ]
    },
    {
      "cell_type": "code",
      "metadata": {
        "id": "lE_1XY43ta1q"
      },
      "source": [
        "#Создадим веса для экземпляров класса\n",
        "class_weights_lr = {0: 1, 1: 3}"
      ],
      "execution_count": 1480,
      "outputs": []
    },
    {
      "cell_type": "code",
      "metadata": {
        "id": "G1e_LIeFjlEf"
      },
      "source": [
        "#Ещё раз построим модель LogisticRegression, но с параметром class_weights\n",
        "lr_weights = LogisticRegression(**lr_best_parametrs, random_state=random_state, class_weight=class_weights_lr)\n",
        "lr_model_weights = lr_weights.fit(x_train, y_train)\n",
        "lr_pred_weights = lr_model_weights.predict(x_test)\n",
        "\n",
        "lr_pred_prob_weights = lr_model_weights.predict_proba(x_test)\n",
        "\n",
        "lr_pred_45_percent = (lr_pred_prob_weights > 0.45).astype(int)[:,1]\n",
        "\n",
        "lr_roc_auc_weights = roc_auc_score(y_test, lr_pred_45_percent)"
      ],
      "execution_count": 1481,
      "outputs": []
    },
    {
      "cell_type": "code",
      "metadata": {
        "colab": {
          "base_uri": "https://localhost:8080/"
        },
        "id": "SEWks-XQkbVS",
        "outputId": "3b3fbd93-d195-4f92-d6af-60e7f39c5107"
      },
      "source": [
        "print('Алгоритм LogisticRegression\\n', '-'*30, '\\n', f'ROC-AUC score равен {round(lr_roc_auc_weights, 4)} \\n' )"
      ],
      "execution_count": 1482,
      "outputs": [
        {
          "output_type": "stream",
          "name": "stdout",
          "text": [
            "Алгоритм LogisticRegression\n",
            " ------------------------------ \n",
            " ROC-AUC score равен 0.5905 \n",
            "\n"
          ]
        }
      ]
    },
    {
      "cell_type": "markdown",
      "metadata": {
        "id": "lnx0C2YBlcub"
      },
      "source": [
        "\n",
        "\n",
        "---\n",
        "\n",
        "\n",
        "\n",
        "## 6 XGBoost"
      ]
    },
    {
      "cell_type": "markdown",
      "metadata": {
        "id": "OK1_h6IlmP1a"
      },
      "source": [
        "Теперь построим модель с помощью алгоритма xgboost."
      ]
    },
    {
      "cell_type": "code",
      "metadata": {
        "id": "AG93jHYTjlJ7"
      },
      "source": [
        "#Создадим объекты DMatrix для работы с xgboost\n",
        "xgb_dtrain = xgb.DMatrix(np.array(x_train), np.array(y_train))\n",
        "xgb_dtest = xgb.DMatrix(np.array(x_test), np.array(y_test))\n",
        "\n",
        "#Зададим параметры xgboost из которых будем искать наилучшие\n",
        "xgb_parametrs = {'learning_rate': (0.05, 0.10, 0.15, 0.20),  'max_depth': [1, 2, 3, 4, 5], 'n_estimators': range(50, 300, 50)}\n",
        "\n",
        "#Количество итераций\n",
        "num_rounds = 30"
      ],
      "execution_count": 1483,
      "outputs": []
    },
    {
      "cell_type": "code",
      "metadata": {
        "id": "mogMop7AwuP9"
      },
      "source": [
        "# xgb_best_parametrs = {'learning_rate': 0.1, 'max_depth': 4, 'n_estimators': 200}\n",
        "# xgb_best_parametrs = {'learning_rate': 0.15, 'max_depth': 2, 'n_estimators': 250}\n",
        "# xgb_best_parametrs = {'learning_rate': 0.1, 'max_depth': 5, 'n_estimators': 250}\n",
        "xgb_best_parametrs = {'learning_rate': 0.2, 'max_depth': 4, 'n_estimators': 250}"
      ],
      "execution_count": 1484,
      "outputs": []
    },
    {
      "cell_type": "code",
      "metadata": {
        "id": "S7R_XLAyjlMY"
      },
      "source": [
        "#Подбираем лучшие параметры для xgboost\n",
        "# xgb_best_parametrs = best_params(xgb.XGBClassifier(), xgb_parametrs, np.array(x_train), np.array(y_train), skf)"
      ],
      "execution_count": 1485,
      "outputs": []
    },
    {
      "cell_type": "code",
      "metadata": {
        "colab": {
          "base_uri": "https://localhost:8080/"
        },
        "id": "4P-5ho-hjlOw",
        "outputId": "1c499ae4-5676-4d97-a870-2da60d6db710"
      },
      "source": [
        "#Посмотрим какие параметры оказались наилучшими\n",
        "print('XGBoost best parametrs\\n', '-'*20, '\\n', xgb_best_parametrs, '\\n')"
      ],
      "execution_count": 1486,
      "outputs": [
        {
          "output_type": "stream",
          "name": "stdout",
          "text": [
            "XGBoost best parametrs\n",
            " -------------------- \n",
            " {'learning_rate': 0.2, 'max_depth': 4, 'n_estimators': 250} \n",
            "\n"
          ]
        }
      ]
    },
    {
      "cell_type": "markdown",
      "metadata": {
        "id": "zl0usHtDsCCb"
      },
      "source": [
        "Далее будем задавать полученные, наилучшие параметры модели."
      ]
    },
    {
      "cell_type": "code",
      "metadata": {
        "id": "SAzs9BYSeVYL"
      },
      "source": [
        "#Создадим модель xgboost\n",
        "xgb_model = xgb.train(xgb_best_parametrs, xgb_dtrain, num_rounds)"
      ],
      "execution_count": 1487,
      "outputs": []
    },
    {
      "cell_type": "code",
      "metadata": {
        "colab": {
          "base_uri": "https://localhost:8080/",
          "height": 295
        },
        "id": "CeRi2coIr7W8",
        "outputId": "ae5990e0-7eaf-4d00-f1ae-4613d8d3fad5"
      },
      "source": [
        "#Посмотрим какие фичи модель выделила больше всего\n",
        "xgb.plot_importance(xgb_model, max_num_features=20)\n",
        "\n",
        "plt.show()"
      ],
      "execution_count": 1488,
      "outputs": [
        {
          "output_type": "display_data",
          "data": {
            "image/png": "[encoded data removed]",
            "text/plain": [
              "<Figure size 432x288 with 1 Axes>"
            ]
          },
          "metadata": {
            "needs_background": "light"
          }
        }
      ]
    },
    {
      "cell_type": "code",
      "metadata": {
        "id": "EYd6l0Wer7Zr"
      },
      "source": [
        "#Создадим предсказание xgb модели\n",
        "xgb_pred = xgb_model.predict(xgb_dtest)"
      ],
      "execution_count": 1489,
      "outputs": []
    },
    {
      "cell_type": "markdown",
      "metadata": {
        "id": "Ra1OZlxqsOrT"
      },
      "source": [
        "Так как xgb predict возвращает вероятности, мы можем задать пороговое значение."
      ]
    },
    {
      "cell_type": "code",
      "metadata": {
        "id": "ydutRXvhr7ci"
      },
      "source": [
        "#Зададим порог в 50%\n",
        "xgb_pred_50_percent = (xgb_pred > 0.5).astype(int)"
      ],
      "execution_count": 1490,
      "outputs": []
    },
    {
      "cell_type": "markdown",
      "metadata": {
        "id": "-gOhoUIusVk8"
      },
      "source": [
        "Проверим качество работы модели с помощью ROC AUC score"
      ]
    },
    {
      "cell_type": "code",
      "metadata": {
        "id": "-qloo1UBr7fJ"
      },
      "source": [
        "xgb_roc_auc = roc_auc_score(y_test, xgb_pred_50_percent)"
      ],
      "execution_count": 1491,
      "outputs": []
    },
    {
      "cell_type": "code",
      "metadata": {
        "id": "oKlSNpntr7ka"
      },
      "source": [
        "#Зададим порог в 45%\n",
        "xgb_pred_45_percent = (xgb_pred > 0.45).astype(int)"
      ],
      "execution_count": 1492,
      "outputs": []
    },
    {
      "cell_type": "code",
      "metadata": {
        "id": "477Xb_0Or7nM"
      },
      "source": [
        "xgb_roc_auc_45 = roc_auc_score(y_test, xgb_pred_45_percent)"
      ],
      "execution_count": 1493,
      "outputs": []
    },
    {
      "cell_type": "code",
      "metadata": {
        "colab": {
          "base_uri": "https://localhost:8080/"
        },
        "id": "eEXenx5msrQT",
        "outputId": "81dab6cc-e352-4ccc-dd42-62caeab35e3a"
      },
      "source": [
        "print('Алгоритм XGBoost (порог 50%)\\n', '-'*30, '\\n', f'ROC-AUC score равен {round(xgb_roc_auc, 4)} \\n' )\n",
        "\n",
        "print('Алгоритм XGBoost (порог 45%)\\n', '-'*30, '\\n', f'ROC-AUC score равен {round(xgb_roc_auc_45, 4)} \\n' )"
      ],
      "execution_count": 1494,
      "outputs": [
        {
          "output_type": "stream",
          "name": "stdout",
          "text": [
            "Алгоритм XGBoost (порог 50%)\n",
            " ------------------------------ \n",
            " ROC-AUC score равен 0.7348 \n",
            "\n",
            "Алгоритм XGBoost (порог 45%)\n",
            " ------------------------------ \n",
            " ROC-AUC score равен 0.754 \n",
            "\n"
          ]
        }
      ]
    },
    {
      "cell_type": "markdown",
      "metadata": {
        "id": "T73deOV5s36k"
      },
      "source": [
        "Зададим вручную веса для экземпляров класса."
      ]
    },
    {
      "cell_type": "code",
      "metadata": {
        "id": "ba34O0q0BTJT"
      },
      "source": [
        "xgb_best_parametrs = {'learning_rate': 0.2, 'max_depth': 5, 'n_estimators': 200}"
      ],
      "execution_count": 1495,
      "outputs": []
    },
    {
      "cell_type": "code",
      "metadata": {
        "id": "L5ByuoGRsrTL"
      },
      "source": [
        "#Создадим веса для экземпляров класса\n",
        "weights = np.zeros(len(y_train))\n",
        "weights[y_train == 0] = 1\n",
        "weights[y_train == 1] = 3.1"
      ],
      "execution_count": 1496,
      "outputs": []
    },
    {
      "cell_type": "code",
      "metadata": {
        "id": "lSOBugDesrWL"
      },
      "source": [
        "#Ещё раз создадим объекты DMatrix для работы с xgboost (укажим наши веса weights)\n",
        "xgb_dtrain1 = xgb.DMatrix(np.array(x_train), np.array(y_train), weight=weights)\n",
        "xgb_dtest1 = xgb.DMatrix(np.array(x_test), np.array(y_test))\n",
        "\n",
        "#Создадим модель xgboost\n",
        "xgb_model1 = xgb.train(xgb_best_parametrs, xgb_dtrain1, num_rounds)\n",
        "\n",
        "#Создадим предсказание xgb модели\n",
        "xgb_pred1 = xgb_model1.predict(xgb_dtest1)\n",
        "\n",
        "#Зададим порог в 40%\n",
        "xgb_pred_40_percent1 = (xgb_pred1 > 0.50).astype(int)"
      ],
      "execution_count": 1497,
      "outputs": []
    },
    {
      "cell_type": "code",
      "metadata": {
        "id": "9EWb2m52srZD"
      },
      "source": [
        "xgb_roc_auc_40_weights = roc_auc_score(y_test, xgb_pred_40_percent1)"
      ],
      "execution_count": 1498,
      "outputs": []
    },
    {
      "cell_type": "code",
      "metadata": {
        "colab": {
          "base_uri": "https://localhost:8080/"
        },
        "id": "DSkTk8ftsrcH",
        "outputId": "13ef410d-14d7-43ef-a615-487a354bd32b"
      },
      "source": [
        "print('Алгоритм XGBoost (порог 40%)\\n', 'Добавлены веса для экземпляров класса \\n', '-'*35, '\\n', f'ROC-AUC score равен {round(xgb_roc_auc_40_weights, 4)} \\n \\n' )"
      ],
      "execution_count": 1499,
      "outputs": [
        {
          "output_type": "stream",
          "name": "stdout",
          "text": [
            "Алгоритм XGBoost (порог 40%)\n",
            " Добавлены веса для экземпляров класса \n",
            " ----------------------------------- \n",
            " ROC-AUC score равен 0.7941 \n",
            " \n",
            "\n"
          ]
        }
      ]
    },
    {
      "cell_type": "code",
      "metadata": {
        "id": "FGDOwu9IAyLj"
      },
      "source": [
        "# xgb_dtest2 = xgb.DMatrix(np.array(X_test))\n",
        "\n",
        "\n",
        "# X_test['TARGET'] = xgb_model1.predict(xgb_dtest2)\n",
        "# X_test[['id_contract', 'TARGET']].to_csv('submit_file.csv', sep=';', index=False)\n",
        "# X_test[['id_contract', 'TARGET']].head()"
      ],
      "execution_count": 1500,
      "outputs": []
    },
    {
      "cell_type": "markdown",
      "metadata": {
        "id": "Z6F-ul0l8ojB"
      },
      "source": [
        "Не плохой результат, но следует попробовать повысить score до 80%"
      ]
    },
    {
      "cell_type": "markdown",
      "metadata": {
        "id": "KaqaHdnahCC_"
      },
      "source": [
        "\n",
        "\n",
        "---\n",
        "\n",
        "\n",
        "\n",
        "## 7 Random Forest"
      ]
    },
    {
      "cell_type": "code",
      "metadata": {
        "id": "K1na3wML1m4N"
      },
      "source": [
        "from sklearn.ensemble import RandomForestClassifier"
      ],
      "execution_count": 1501,
      "outputs": []
    },
    {
      "cell_type": "code",
      "metadata": {
        "id": "bkRmehcJyVrt"
      },
      "source": [
        "#Параметры Random Forest\n",
        "rfc_parametrs = {'criterion': ['entropy', 'gini'], \n",
        "                 'max_features': ['log2', 'sqrt'], \n",
        "                 'max_depth': [10, 15, 20, 25], \n",
        "                 'n_estimators': range(200, 300, 10)}"
      ],
      "execution_count": 1502,
      "outputs": []
    },
    {
      "cell_type": "code",
      "metadata": {
        "id": "kaTEcBsQyKs2"
      },
      "source": [
        "# Ищем наилучшие параметры\n",
        "# rfc_best_parametrs = best_params(RandomForestClassifier(), rfc_parametrs, x_train, y_train, skf)"
      ],
      "execution_count": 1503,
      "outputs": []
    },
    {
      "cell_type": "code",
      "metadata": {
        "id": "_h5cIIdqBTNc"
      },
      "source": [
        "rfc_best_parametrs = {'criterion': 'entropy', \n",
        "                      'max_depth': 15, \n",
        "                      'max_features': 'sqrt', \n",
        "                      'n_estimators': 260}"
      ],
      "execution_count": 1504,
      "outputs": []
    },
    {
      "cell_type": "code",
      "metadata": {
        "colab": {
          "base_uri": "https://localhost:8080/"
        },
        "id": "nZlAX-T4zh_P",
        "outputId": "ec26aec7-576e-404a-b5d0-7bff664cf5ca"
      },
      "source": [
        "#Посмотрим какие параметры оказались наилучшими\n",
        "\n",
        "print('Random Forest best parametrs\\n', '-'*20, '\\n', rfc_best_parametrs, '\\n')"
      ],
      "execution_count": 1505,
      "outputs": [
        {
          "output_type": "stream",
          "name": "stdout",
          "text": [
            "Random Forest best parametrs\n",
            " -------------------- \n",
            " {'criterion': 'entropy', 'max_depth': 15, 'max_features': 'sqrt', 'n_estimators': 260} \n",
            "\n"
          ]
        }
      ]
    },
    {
      "cell_type": "code",
      "metadata": {
        "id": "6xVX_rHinc_I"
      },
      "source": [
        "#Создадим веса для экземпляров класса\n",
        "class_weights = {0: 1, 1: 3.3}"
      ],
      "execution_count": 1523,
      "outputs": []
    },
    {
      "cell_type": "code",
      "metadata": {
        "id": "vOY0c1ZJhIpd"
      },
      "source": [
        "rfc = RandomForestClassifier(**rfc_best_parametrs, random_state=random_state, class_weight=class_weights)"
      ],
      "execution_count": 1524,
      "outputs": []
    },
    {
      "cell_type": "code",
      "metadata": {
        "id": "1QOQvm7EhIsg"
      },
      "source": [
        "rfc_model = rfc.fit(x_train, y_train)\n",
        "rfc_pred = rfc_model.predict(x_test)\n",
        "rfc_pred_prob = rfc_model.predict_proba(x_test)[:, 1]"
      ],
      "execution_count": 1525,
      "outputs": []
    },
    {
      "cell_type": "code",
      "metadata": {
        "id": "_J3AOH9JrbqT"
      },
      "source": [
        "rfc_roc_auc = roc_auc_score(y_test, rfc_pred)"
      ],
      "execution_count": 1526,
      "outputs": []
    },
    {
      "cell_type": "code",
      "metadata": {
        "colab": {
          "base_uri": "https://localhost:8080/"
        },
        "id": "cAoI88yirbs8",
        "outputId": "9676c4ad-ad33-4f6a-b8ae-a5b8a36024fe"
      },
      "source": [
        "print('Алгоритм RandomForest\\n', '-'*30, '\\n', f'ROC-AUC score равен {round(rfc_roc_auc, 4)} \\n' )"
      ],
      "execution_count": 1527,
      "outputs": [
        {
          "output_type": "stream",
          "name": "stdout",
          "text": [
            "Алгоритм RandomForest\n",
            " ------------------------------ \n",
            " ROC-AUC score равен 0.797 \n",
            "\n"
          ]
        }
      ]
    },
    {
      "cell_type": "markdown",
      "metadata": {
        "id": "LyqjHmVihYF7"
      },
      "source": [
        "\n",
        "\n",
        "---\n",
        "\n",
        "\n",
        "\n",
        "## Результат работы"
      ]
    },
    {
      "cell_type": "code",
      "metadata": {
        "id": "sAD0xlPks5c3"
      },
      "source": [
        "X_test['TARGET'] = rfc_model.predict_proba(X_test)[:, 1]"
      ],
      "execution_count": 1528,
      "outputs": []
    },
    {
      "cell_type": "code",
      "metadata": {
        "id": "gk3EY9bks5nd",
        "colab": {
          "base_uri": "https://localhost:8080/",
          "height": 206
        },
        "outputId": "9f135825-07bd-4fc5-e0f1-55c35a66e820"
      },
      "source": [
        "X_test[['id_contract', 'TARGET']].to_csv('submit_file.csv', sep=';', index=False)\n",
        "X_test[['id_contract', 'TARGET']].head()"
      ],
      "execution_count": 1529,
      "outputs": [
        {
          "output_type": "execute_result",
          "data": {
            "text/html": [
              "<div>\n",
              "<style scoped>\n",
              "    .dataframe tbody tr th:only-of-type {\n",
              "        vertical-align: middle;\n",
              "    }\n",
              "\n",
              "    .dataframe tbody tr th {\n",
              "        vertical-align: top;\n",
              "    }\n",
              "\n",
              "    .dataframe thead th {\n",
              "        text-align: right;\n",
              "    }\n",
              "</style>\n",
              "<table border=\"1\" class=\"dataframe\">\n",
              "  <thead>\n",
              "    <tr style=\"text-align: right;\">\n",
              "      <th></th>\n",
              "      <th>id_contract</th>\n",
              "      <th>TARGET</th>\n",
              "    </tr>\n",
              "  </thead>\n",
              "  <tbody>\n",
              "    <tr>\n",
              "      <th>0</th>\n",
              "      <td>17892</td>\n",
              "      <td>0.011564</td>\n",
              "    </tr>\n",
              "    <tr>\n",
              "      <th>1</th>\n",
              "      <td>17893</td>\n",
              "      <td>0.130873</td>\n",
              "    </tr>\n",
              "    <tr>\n",
              "      <th>2</th>\n",
              "      <td>17894</td>\n",
              "      <td>0.202384</td>\n",
              "    </tr>\n",
              "    <tr>\n",
              "      <th>3</th>\n",
              "      <td>17895</td>\n",
              "      <td>0.468520</td>\n",
              "    </tr>\n",
              "    <tr>\n",
              "      <th>4</th>\n",
              "      <td>17896</td>\n",
              "      <td>0.756082</td>\n",
              "    </tr>\n",
              "  </tbody>\n",
              "</table>\n",
              "</div>"
            ],
            "text/plain": [
              "   id_contract    TARGET\n",
              "0        17892  0.011564\n",
              "1        17893  0.130873\n",
              "2        17894  0.202384\n",
              "3        17895  0.468520\n",
              "4        17896  0.756082"
            ]
          },
          "metadata": {},
          "execution_count": 1529
        }
      ]
    },
    {
      "cell_type": "code",
      "metadata": {
        "id": "evTZSRhp8gpb"
      },
      "source": [
        ""
      ],
      "execution_count": 1512,
      "outputs": []
    }
  ]
}